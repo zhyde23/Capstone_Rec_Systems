{
 "cells": [
  {
   "cell_type": "markdown",
   "metadata": {},
   "source": [
    "## Introduction"
   ]
  },
  {
   "cell_type": "markdown",
   "metadata": {},
   "source": [
    "Business Case - Taking Yelp information to create a Recommendation System with the Surprise model. I want to implement my model to become as successful as those within companies such as Netflix, Amazon, Hulu etc.\n",
    "\n",
    "Recommendation Systems are very important with consumer retention. When a company invests into brand marketing, it's not a cheap endeavor. So, to make it all-for-not, the consumer retention aspect of the business needs to be strong in order to maintain accounts/viewers. The best way to ensure your business is meeting needs/demands of the consumer, a recommendation system should be put into place to offer similarly liked items/videos to what they are interested in."
   ]
  },
  {
   "cell_type": "markdown",
   "metadata": {},
   "source": [
    "## Importing Libraries/JSON Files"
   ]
  },
  {
   "cell_type": "code",
   "execution_count": 84,
   "metadata": {
    "ExecuteTime": {
     "end_time": "2021-05-13T02:41:43.286838Z",
     "start_time": "2021-05-13T02:41:43.003713Z"
    }
   },
   "outputs": [],
   "source": [
    "# import libraries\n",
    "import numpy as np\n",
    "import pandas as pd\n",
    "import json\n",
    "import matplotlib.pyplot as plt\n",
    "%matplotlib inline\n",
    "\n",
    "import requests\n",
    "import nltk\n",
    "# nltk.download('punkt')\n",
    "\n",
    "from sklearn.feature_extraction.text import CountVectorizer\n",
    "from nltk.tokenize import sent_tokenize\n",
    "\n",
    "from surprise import Dataset, Reader\n",
    "from surprise import BaselineOnly, SVD, SVDpp, NMF\n",
    "from surprise import accuracy\n",
    "from surprise.model_selection import cross_validate, train_test_split, GridSearchCV\n",
    "from config import zach_key\n",
    "\n",
    "# !pip install requests"
   ]
  },
  {
   "cell_type": "code",
   "execution_count": 2,
   "metadata": {
    "ExecuteTime": {
     "end_time": "2021-05-10T19:33:03.039500Z",
     "start_time": "2021-05-10T19:32:59.809852Z"
    },
    "scrolled": true
   },
   "outputs": [
    {
     "data": {
      "text/plain": [
       "0         Gastropubs, Food, Beer Gardens, Restaurants, B...\n",
       "1         Salad, Soup, Sandwiches, Delis, Restaurants, C...\n",
       "2         Antiques, Fashion, Used, Vintage & Consignment...\n",
       "3                                Beauty & Spas, Hair Salons\n",
       "4         Gyms, Active Life, Interval Training Gyms, Fit...\n",
       "                                ...                        \n",
       "160580    Real Estate, Real Estate Services, Home Servic...\n",
       "160581        Health Markets, Food, Specialty Food, Grocery\n",
       "160582    Arts & Entertainment, Paint & Sip, Art Classes...\n",
       "160583                Cuban, Sandwiches, Restaurants, Cafes\n",
       "160584    Restaurants, Middle Eastern, Mediterranean, Pe...\n",
       "Name: categories, Length: 160470, dtype: object"
      ]
     },
     "execution_count": 2,
     "metadata": {},
     "output_type": "execute_result"
    }
   ],
   "source": [
    "df1 = pd.read_json('yelp_academic_dataset_business.json', lines=True).dropna(subset=['categories'])\n",
    "df1.categories"
   ]
  },
  {
   "cell_type": "code",
   "execution_count": 3,
   "metadata": {
    "ExecuteTime": {
     "end_time": "2021-05-10T19:33:03.195132Z",
     "start_time": "2021-05-10T19:33:03.070884Z"
    }
   },
   "outputs": [],
   "source": [
    "# changing the commas to periods for creating dummy variables\n",
    "df1['categories'] = df1['categories'].str.replace(',', '.')"
   ]
  },
  {
   "cell_type": "code",
   "execution_count": 4,
   "metadata": {
    "ExecuteTime": {
     "end_time": "2021-05-10T19:33:28.531492Z",
     "start_time": "2021-05-10T19:33:09.600323Z"
    }
   },
   "outputs": [],
   "source": [
    "vec = CountVectorizer(tokenizer=sent_tokenize, lowercase=False)\n",
    "\n",
    "categories = vec.fit_transform(df1.dropna(subset=['categories'])['categories'])\n",
    "categories = pd.DataFrame(categories.toarray(), columns=vec.get_feature_names())\n",
    "duplicated = [c for c in categories.columns if '.' in c]\n",
    "categories = categories[duplicated]\n",
    "categories.columns = [c.strip('.') for c in categories.columns]"
   ]
  },
  {
   "cell_type": "code",
   "execution_count": 5,
   "metadata": {
    "ExecuteTime": {
     "end_time": "2021-05-10T19:33:28.956556Z",
     "start_time": "2021-05-10T19:33:28.937912Z"
    }
   },
   "outputs": [
    {
     "data": {
      "text/plain": [
       "Index(['& Probates', '3D Printing', 'ATV Rentals/Tours', 'Acai Bowls',\n",
       "       'Accessories', 'Accountants', 'Acne Treatment', 'Active Life',\n",
       "       'Acupuncture', 'Addiction Medicine',\n",
       "       ...\n",
       "       'Wine Tours', 'Wineries', 'Women's Clothing',\n",
       "       'Workers Compensation Law', 'Wraps', 'Yakiniku', 'Yelp Events', 'Yoga',\n",
       "       'Ziplining', 'Zoos'],\n",
       "      dtype='object', length=1350)"
      ]
     },
     "execution_count": 5,
     "metadata": {},
     "output_type": "execute_result"
    }
   ],
   "source": [
    "categories.columns.unique()"
   ]
  },
  {
   "cell_type": "code",
   "execution_count": 6,
   "metadata": {
    "ExecuteTime": {
     "end_time": "2021-05-10T19:33:29.569703Z",
     "start_time": "2021-05-10T19:33:29.157655Z"
    }
   },
   "outputs": [
    {
     "data": {
      "text/plain": [
       "Restaurants                  37139\n",
       "Food                         22290\n",
       "Shopping                     20490\n",
       "Home Services                12344\n",
       "Beauty & Spas                12089\n",
       "Health & Medical             11694\n",
       "Nightlife                     9872\n",
       "Local Services                9372\n",
       "Bars                          8872\n",
       "Event Planning & Services     7736\n",
       "Active Life                   7199\n",
       "Automotive                    7199\n",
       "Sandwiches                    5758\n",
       "Coffee & Tea                  5724\n",
       "Fashion                       5346\n",
       "American (Traditional)        5260\n",
       "Home & Garden                 4570\n",
       "Breakfast & Brunch            4440\n",
       "American (New)                4382\n",
       "Arts & Entertainment          4204\n",
       "Hotels & Travel               4177\n",
       "Hair Salons                   4176\n",
       "Pizza                         4090\n",
       "Real Estate                   3964\n",
       "Fitness & Instruction         3864\n",
       "Fast Food                     3840\n",
       "Professional Services         3829\n",
       "Doctors                       3645\n",
       "Auto Repair                   3575\n",
       "Specialty Food                3498\n",
       "dtype: int64"
      ]
     },
     "execution_count": 6,
     "metadata": {},
     "output_type": "execute_result"
    }
   ],
   "source": [
    "categories.sum().sort_values(ascending=False)[:30]"
   ]
  },
  {
   "cell_type": "code",
   "execution_count": 7,
   "metadata": {
    "ExecuteTime": {
     "end_time": "2021-05-10T19:33:48.131529Z",
     "start_time": "2021-05-10T19:33:41.606462Z"
    }
   },
   "outputs": [],
   "source": [
    "# putting the categories df with the original\n",
    "df2 = pd.concat([df1, categories], axis=1)"
   ]
  },
  {
   "cell_type": "code",
   "execution_count": 8,
   "metadata": {
    "ExecuteTime": {
     "end_time": "2021-05-10T19:33:49.793698Z",
     "start_time": "2021-05-10T19:33:49.734528Z"
    }
   },
   "outputs": [
    {
     "data": {
      "text/html": [
       "<div>\n",
       "<style scoped>\n",
       "    .dataframe tbody tr th:only-of-type {\n",
       "        vertical-align: middle;\n",
       "    }\n",
       "\n",
       "    .dataframe tbody tr th {\n",
       "        vertical-align: top;\n",
       "    }\n",
       "\n",
       "    .dataframe thead th {\n",
       "        text-align: right;\n",
       "    }\n",
       "</style>\n",
       "<table border=\"1\" class=\"dataframe\">\n",
       "  <thead>\n",
       "    <tr style=\"text-align: right;\">\n",
       "      <th></th>\n",
       "      <th>business_id</th>\n",
       "      <th>name</th>\n",
       "      <th>address</th>\n",
       "      <th>city</th>\n",
       "      <th>state</th>\n",
       "      <th>postal_code</th>\n",
       "      <th>latitude</th>\n",
       "      <th>longitude</th>\n",
       "      <th>stars</th>\n",
       "      <th>review_count</th>\n",
       "      <th>...</th>\n",
       "      <th>Wine Tours</th>\n",
       "      <th>Wineries</th>\n",
       "      <th>Women's Clothing</th>\n",
       "      <th>Workers Compensation Law</th>\n",
       "      <th>Wraps</th>\n",
       "      <th>Yakiniku</th>\n",
       "      <th>Yelp Events</th>\n",
       "      <th>Yoga</th>\n",
       "      <th>Ziplining</th>\n",
       "      <th>Zoos</th>\n",
       "    </tr>\n",
       "  </thead>\n",
       "  <tbody>\n",
       "    <tr>\n",
       "      <th>0</th>\n",
       "      <td>6iYb2HFDywm3zjuRg0shjw</td>\n",
       "      <td>Oskar Blues Taproom</td>\n",
       "      <td>921 Pearl St</td>\n",
       "      <td>Boulder</td>\n",
       "      <td>CO</td>\n",
       "      <td>80302</td>\n",
       "      <td>40.017544</td>\n",
       "      <td>-105.283348</td>\n",
       "      <td>4.0</td>\n",
       "      <td>86.0</td>\n",
       "      <td>...</td>\n",
       "      <td>0.0</td>\n",
       "      <td>0.0</td>\n",
       "      <td>0.0</td>\n",
       "      <td>0.0</td>\n",
       "      <td>0.0</td>\n",
       "      <td>0.0</td>\n",
       "      <td>0.0</td>\n",
       "      <td>0.0</td>\n",
       "      <td>0.0</td>\n",
       "      <td>0.0</td>\n",
       "    </tr>\n",
       "    <tr>\n",
       "      <th>1</th>\n",
       "      <td>tCbdrRPZA0oiIYSmHG3J0w</td>\n",
       "      <td>Flying Elephants at PDX</td>\n",
       "      <td>7000 NE Airport Way</td>\n",
       "      <td>Portland</td>\n",
       "      <td>OR</td>\n",
       "      <td>97218</td>\n",
       "      <td>45.588906</td>\n",
       "      <td>-122.593331</td>\n",
       "      <td>4.0</td>\n",
       "      <td>126.0</td>\n",
       "      <td>...</td>\n",
       "      <td>0.0</td>\n",
       "      <td>0.0</td>\n",
       "      <td>0.0</td>\n",
       "      <td>0.0</td>\n",
       "      <td>0.0</td>\n",
       "      <td>0.0</td>\n",
       "      <td>0.0</td>\n",
       "      <td>0.0</td>\n",
       "      <td>0.0</td>\n",
       "      <td>0.0</td>\n",
       "    </tr>\n",
       "    <tr>\n",
       "      <th>2</th>\n",
       "      <td>bvN78flM8NLprQ1a1y5dRg</td>\n",
       "      <td>The Reclaimory</td>\n",
       "      <td>4720 Hawthorne Ave</td>\n",
       "      <td>Portland</td>\n",
       "      <td>OR</td>\n",
       "      <td>97214</td>\n",
       "      <td>45.511907</td>\n",
       "      <td>-122.613693</td>\n",
       "      <td>4.5</td>\n",
       "      <td>13.0</td>\n",
       "      <td>...</td>\n",
       "      <td>0.0</td>\n",
       "      <td>0.0</td>\n",
       "      <td>0.0</td>\n",
       "      <td>0.0</td>\n",
       "      <td>0.0</td>\n",
       "      <td>0.0</td>\n",
       "      <td>0.0</td>\n",
       "      <td>0.0</td>\n",
       "      <td>0.0</td>\n",
       "      <td>0.0</td>\n",
       "    </tr>\n",
       "    <tr>\n",
       "      <th>3</th>\n",
       "      <td>oaepsyvc0J17qwi8cfrOWg</td>\n",
       "      <td>Great Clips</td>\n",
       "      <td>2566 Enterprise Rd</td>\n",
       "      <td>Orange City</td>\n",
       "      <td>FL</td>\n",
       "      <td>32763</td>\n",
       "      <td>28.914482</td>\n",
       "      <td>-81.295979</td>\n",
       "      <td>3.0</td>\n",
       "      <td>8.0</td>\n",
       "      <td>...</td>\n",
       "      <td>0.0</td>\n",
       "      <td>0.0</td>\n",
       "      <td>0.0</td>\n",
       "      <td>0.0</td>\n",
       "      <td>0.0</td>\n",
       "      <td>0.0</td>\n",
       "      <td>0.0</td>\n",
       "      <td>0.0</td>\n",
       "      <td>0.0</td>\n",
       "      <td>0.0</td>\n",
       "    </tr>\n",
       "    <tr>\n",
       "      <th>4</th>\n",
       "      <td>PE9uqAjdw0E4-8mjGl3wVA</td>\n",
       "      <td>Crossfit Terminus</td>\n",
       "      <td>1046 Memorial Dr SE</td>\n",
       "      <td>Atlanta</td>\n",
       "      <td>GA</td>\n",
       "      <td>30316</td>\n",
       "      <td>33.747027</td>\n",
       "      <td>-84.353424</td>\n",
       "      <td>4.0</td>\n",
       "      <td>14.0</td>\n",
       "      <td>...</td>\n",
       "      <td>0.0</td>\n",
       "      <td>0.0</td>\n",
       "      <td>0.0</td>\n",
       "      <td>0.0</td>\n",
       "      <td>0.0</td>\n",
       "      <td>0.0</td>\n",
       "      <td>0.0</td>\n",
       "      <td>0.0</td>\n",
       "      <td>0.0</td>\n",
       "      <td>0.0</td>\n",
       "    </tr>\n",
       "  </tbody>\n",
       "</table>\n",
       "<p>5 rows × 1372 columns</p>\n",
       "</div>"
      ],
      "text/plain": [
       "              business_id                     name              address  \\\n",
       "0  6iYb2HFDywm3zjuRg0shjw      Oskar Blues Taproom         921 Pearl St   \n",
       "1  tCbdrRPZA0oiIYSmHG3J0w  Flying Elephants at PDX  7000 NE Airport Way   \n",
       "2  bvN78flM8NLprQ1a1y5dRg           The Reclaimory   4720 Hawthorne Ave   \n",
       "3  oaepsyvc0J17qwi8cfrOWg              Great Clips   2566 Enterprise Rd   \n",
       "4  PE9uqAjdw0E4-8mjGl3wVA        Crossfit Terminus  1046 Memorial Dr SE   \n",
       "\n",
       "          city state postal_code   latitude   longitude  stars  review_count  \\\n",
       "0      Boulder    CO       80302  40.017544 -105.283348    4.0          86.0   \n",
       "1     Portland    OR       97218  45.588906 -122.593331    4.0         126.0   \n",
       "2     Portland    OR       97214  45.511907 -122.613693    4.5          13.0   \n",
       "3  Orange City    FL       32763  28.914482  -81.295979    3.0           8.0   \n",
       "4      Atlanta    GA       30316  33.747027  -84.353424    4.0          14.0   \n",
       "\n",
       "   ...  Wine Tours Wineries Women's Clothing Workers Compensation Law  Wraps  \\\n",
       "0  ...         0.0      0.0              0.0                      0.0    0.0   \n",
       "1  ...         0.0      0.0              0.0                      0.0    0.0   \n",
       "2  ...         0.0      0.0              0.0                      0.0    0.0   \n",
       "3  ...         0.0      0.0              0.0                      0.0    0.0   \n",
       "4  ...         0.0      0.0              0.0                      0.0    0.0   \n",
       "\n",
       "   Yakiniku  Yelp Events  Yoga  Ziplining  Zoos  \n",
       "0       0.0          0.0   0.0        0.0   0.0  \n",
       "1       0.0          0.0   0.0        0.0   0.0  \n",
       "2       0.0          0.0   0.0        0.0   0.0  \n",
       "3       0.0          0.0   0.0        0.0   0.0  \n",
       "4       0.0          0.0   0.0        0.0   0.0  \n",
       "\n",
       "[5 rows x 1372 columns]"
      ]
     },
     "execution_count": 8,
     "metadata": {},
     "output_type": "execute_result"
    }
   ],
   "source": [
    "df2.head()"
   ]
  },
  {
   "cell_type": "code",
   "execution_count": 9,
   "metadata": {
    "ExecuteTime": {
     "end_time": "2021-05-10T19:33:50.477439Z",
     "start_time": "2021-05-10T19:33:50.298161Z"
    }
   },
   "outputs": [
    {
     "data": {
      "text/plain": [
       "Restaurants                  37139\n",
       "Food                         22290\n",
       "Shopping                     20490\n",
       "Home Services                12344\n",
       "Beauty & Spas                12089\n",
       "Health & Medical             11694\n",
       "Nightlife                     9872\n",
       "Local Services                9372\n",
       "Bars                          8872\n",
       "Event Planning & Services     7736\n",
       "Active Life                   7199\n",
       "Automotive                    7199\n",
       "Sandwiches                    5758\n",
       "Coffee & Tea                  5724\n",
       "Fashion                       5346\n",
       "American (Traditional)        5260\n",
       "Home & Garden                 4570\n",
       "Breakfast & Brunch            4440\n",
       "American (New)                4382\n",
       "Arts & Entertainment          4204\n",
       "dtype: int64"
      ]
     },
     "execution_count": 9,
     "metadata": {},
     "output_type": "execute_result"
    }
   ],
   "source": [
    "# top 20 categories\n",
    "categories.sum().sort_values(ascending=False)[:20]"
   ]
  },
  {
   "cell_type": "code",
   "execution_count": 10,
   "metadata": {
    "ExecuteTime": {
     "end_time": "2021-05-10T19:34:09.147277Z",
     "start_time": "2021-05-10T19:34:03.343530Z"
    }
   },
   "outputs": [
    {
     "data": {
      "text/html": [
       "<div>\n",
       "<style scoped>\n",
       "    .dataframe tbody tr th:only-of-type {\n",
       "        vertical-align: middle;\n",
       "    }\n",
       "\n",
       "    .dataframe tbody tr th {\n",
       "        vertical-align: top;\n",
       "    }\n",
       "\n",
       "    .dataframe thead th {\n",
       "        text-align: right;\n",
       "    }\n",
       "</style>\n",
       "<table border=\"1\" class=\"dataframe\">\n",
       "  <thead>\n",
       "    <tr style=\"text-align: right;\">\n",
       "      <th></th>\n",
       "      <th>business_id</th>\n",
       "      <th>name</th>\n",
       "      <th>address</th>\n",
       "      <th>city</th>\n",
       "      <th>state</th>\n",
       "      <th>postal_code</th>\n",
       "      <th>latitude</th>\n",
       "      <th>longitude</th>\n",
       "      <th>stars</th>\n",
       "      <th>review_count</th>\n",
       "      <th>...</th>\n",
       "      <th>Wine Tours</th>\n",
       "      <th>Wineries</th>\n",
       "      <th>Women's Clothing</th>\n",
       "      <th>Workers Compensation Law</th>\n",
       "      <th>Wraps</th>\n",
       "      <th>Yakiniku</th>\n",
       "      <th>Yelp Events</th>\n",
       "      <th>Yoga</th>\n",
       "      <th>Ziplining</th>\n",
       "      <th>Zoos</th>\n",
       "    </tr>\n",
       "  </thead>\n",
       "  <tbody>\n",
       "    <tr>\n",
       "      <th>0</th>\n",
       "      <td>6iYb2HFDywm3zjuRg0shjw</td>\n",
       "      <td>Oskar Blues Taproom</td>\n",
       "      <td>921 Pearl St</td>\n",
       "      <td>Boulder</td>\n",
       "      <td>CO</td>\n",
       "      <td>80302</td>\n",
       "      <td>40.017544</td>\n",
       "      <td>-105.283348</td>\n",
       "      <td>4.0</td>\n",
       "      <td>86.0</td>\n",
       "      <td>...</td>\n",
       "      <td>0.0</td>\n",
       "      <td>0.0</td>\n",
       "      <td>0.0</td>\n",
       "      <td>0.0</td>\n",
       "      <td>0.0</td>\n",
       "      <td>0.0</td>\n",
       "      <td>0.0</td>\n",
       "      <td>0.0</td>\n",
       "      <td>0.0</td>\n",
       "      <td>0.0</td>\n",
       "    </tr>\n",
       "    <tr>\n",
       "      <th>1</th>\n",
       "      <td>tCbdrRPZA0oiIYSmHG3J0w</td>\n",
       "      <td>Flying Elephants at PDX</td>\n",
       "      <td>7000 NE Airport Way</td>\n",
       "      <td>Portland</td>\n",
       "      <td>OR</td>\n",
       "      <td>97218</td>\n",
       "      <td>45.588906</td>\n",
       "      <td>-122.593331</td>\n",
       "      <td>4.0</td>\n",
       "      <td>126.0</td>\n",
       "      <td>...</td>\n",
       "      <td>0.0</td>\n",
       "      <td>0.0</td>\n",
       "      <td>0.0</td>\n",
       "      <td>0.0</td>\n",
       "      <td>0.0</td>\n",
       "      <td>0.0</td>\n",
       "      <td>0.0</td>\n",
       "      <td>0.0</td>\n",
       "      <td>0.0</td>\n",
       "      <td>0.0</td>\n",
       "    </tr>\n",
       "    <tr>\n",
       "      <th>5</th>\n",
       "      <td>D4JtQNTI4X3KcbzacDJsMw</td>\n",
       "      <td>Bob Likes Thai Food</td>\n",
       "      <td>3755 Main St</td>\n",
       "      <td>Vancouver</td>\n",
       "      <td>BC</td>\n",
       "      <td>V5V</td>\n",
       "      <td>49.251342</td>\n",
       "      <td>-123.101333</td>\n",
       "      <td>3.5</td>\n",
       "      <td>169.0</td>\n",
       "      <td>...</td>\n",
       "      <td>0.0</td>\n",
       "      <td>0.0</td>\n",
       "      <td>0.0</td>\n",
       "      <td>0.0</td>\n",
       "      <td>0.0</td>\n",
       "      <td>0.0</td>\n",
       "      <td>0.0</td>\n",
       "      <td>0.0</td>\n",
       "      <td>0.0</td>\n",
       "      <td>0.0</td>\n",
       "    </tr>\n",
       "    <tr>\n",
       "      <th>13</th>\n",
       "      <td>ufCxltuh56FF4-ZFZ6cVhg</td>\n",
       "      <td>Sister Honey's</td>\n",
       "      <td>247 E Michigan St</td>\n",
       "      <td>Orlando</td>\n",
       "      <td>FL</td>\n",
       "      <td>32806</td>\n",
       "      <td>28.513265</td>\n",
       "      <td>-81.374707</td>\n",
       "      <td>4.5</td>\n",
       "      <td>135.0</td>\n",
       "      <td>...</td>\n",
       "      <td>0.0</td>\n",
       "      <td>0.0</td>\n",
       "      <td>0.0</td>\n",
       "      <td>0.0</td>\n",
       "      <td>0.0</td>\n",
       "      <td>0.0</td>\n",
       "      <td>0.0</td>\n",
       "      <td>0.0</td>\n",
       "      <td>0.0</td>\n",
       "      <td>0.0</td>\n",
       "    </tr>\n",
       "    <tr>\n",
       "      <th>16</th>\n",
       "      <td>GfWJ19Js7wX9rwaHQ7KbGw</td>\n",
       "      <td>Everything POP Shopping &amp; Dining</td>\n",
       "      <td>1050 Century Dr</td>\n",
       "      <td>Orlando</td>\n",
       "      <td>FL</td>\n",
       "      <td>32830</td>\n",
       "      <td>28.350498</td>\n",
       "      <td>-81.542819</td>\n",
       "      <td>3.0</td>\n",
       "      <td>7.0</td>\n",
       "      <td>...</td>\n",
       "      <td>0.0</td>\n",
       "      <td>0.0</td>\n",
       "      <td>0.0</td>\n",
       "      <td>0.0</td>\n",
       "      <td>0.0</td>\n",
       "      <td>0.0</td>\n",
       "      <td>0.0</td>\n",
       "      <td>0.0</td>\n",
       "      <td>0.0</td>\n",
       "      <td>0.0</td>\n",
       "    </tr>\n",
       "  </tbody>\n",
       "</table>\n",
       "<p>5 rows × 1372 columns</p>\n",
       "</div>"
      ],
      "text/plain": [
       "               business_id                              name  \\\n",
       "0   6iYb2HFDywm3zjuRg0shjw               Oskar Blues Taproom   \n",
       "1   tCbdrRPZA0oiIYSmHG3J0w           Flying Elephants at PDX   \n",
       "5   D4JtQNTI4X3KcbzacDJsMw               Bob Likes Thai Food   \n",
       "13  ufCxltuh56FF4-ZFZ6cVhg                    Sister Honey's   \n",
       "16  GfWJ19Js7wX9rwaHQ7KbGw  Everything POP Shopping & Dining   \n",
       "\n",
       "                address       city state postal_code   latitude   longitude  \\\n",
       "0          921 Pearl St    Boulder    CO       80302  40.017544 -105.283348   \n",
       "1   7000 NE Airport Way   Portland    OR       97218  45.588906 -122.593331   \n",
       "5          3755 Main St  Vancouver    BC         V5V  49.251342 -123.101333   \n",
       "13    247 E Michigan St    Orlando    FL       32806  28.513265  -81.374707   \n",
       "16      1050 Century Dr    Orlando    FL       32830  28.350498  -81.542819   \n",
       "\n",
       "    stars  review_count  ...  Wine Tours Wineries Women's Clothing  \\\n",
       "0     4.0          86.0  ...         0.0      0.0              0.0   \n",
       "1     4.0         126.0  ...         0.0      0.0              0.0   \n",
       "5     3.5         169.0  ...         0.0      0.0              0.0   \n",
       "13    4.5         135.0  ...         0.0      0.0              0.0   \n",
       "16    3.0           7.0  ...         0.0      0.0              0.0   \n",
       "\n",
       "   Workers Compensation Law  Wraps  Yakiniku  Yelp Events  Yoga  Ziplining  \\\n",
       "0                       0.0    0.0       0.0          0.0   0.0        0.0   \n",
       "1                       0.0    0.0       0.0          0.0   0.0        0.0   \n",
       "5                       0.0    0.0       0.0          0.0   0.0        0.0   \n",
       "13                      0.0    0.0       0.0          0.0   0.0        0.0   \n",
       "16                      0.0    0.0       0.0          0.0   0.0        0.0   \n",
       "\n",
       "    Zoos  \n",
       "0    0.0  \n",
       "1    0.0  \n",
       "5    0.0  \n",
       "13   0.0  \n",
       "16   0.0  \n",
       "\n",
       "[5 rows x 1372 columns]"
      ]
     },
     "execution_count": 10,
     "metadata": {},
     "output_type": "execute_result"
    }
   ],
   "source": [
    "# here's how you subset for restaurants and bars (the | acts like an OR)\n",
    "# this takes a while\n",
    "\n",
    "restaurants = df2.query('Restaurants == 1 | Bars == 1')\n",
    "restaurants.head()"
   ]
  },
  {
   "cell_type": "code",
   "execution_count": 11,
   "metadata": {
    "ExecuteTime": {
     "end_time": "2021-05-10T19:34:10.136495Z",
     "start_time": "2021-05-10T19:34:10.131140Z"
    }
   },
   "outputs": [
    {
     "data": {
      "text/plain": [
       "(40357, 1372)"
      ]
     },
     "execution_count": 11,
     "metadata": {},
     "output_type": "execute_result"
    }
   ],
   "source": [
    "restaurants.shape"
   ]
  },
  {
   "cell_type": "markdown",
   "metadata": {},
   "source": [
    "## EDA"
   ]
  },
  {
   "cell_type": "code",
   "execution_count": 12,
   "metadata": {
    "ExecuteTime": {
     "end_time": "2021-05-10T19:34:16.399806Z",
     "start_time": "2021-05-10T19:34:16.214954Z"
    },
    "scrolled": false
   },
   "outputs": [
    {
     "name": "stdout",
     "output_type": "stream",
     "text": [
      "<class 'pandas.core.frame.DataFrame'>\n",
      "Int64Index: 160470 entries, 0 to 160584\n",
      "Data columns (total 14 columns):\n",
      " #   Column        Non-Null Count   Dtype  \n",
      "---  ------        --------------   -----  \n",
      " 0   business_id   160470 non-null  object \n",
      " 1   name          160470 non-null  object \n",
      " 2   address       160470 non-null  object \n",
      " 3   city          160470 non-null  object \n",
      " 4   state         160470 non-null  object \n",
      " 5   postal_code   160470 non-null  object \n",
      " 6   latitude      160470 non-null  float64\n",
      " 7   longitude     160470 non-null  float64\n",
      " 8   stars         160470 non-null  float64\n",
      " 9   review_count  160470 non-null  int64  \n",
      " 10  is_open       160470 non-null  int64  \n",
      " 11  attributes    145591 non-null  object \n",
      " 12  categories    160470 non-null  object \n",
      " 13  hours         133241 non-null  object \n",
      "dtypes: float64(3), int64(2), object(9)\n",
      "memory usage: 23.4+ MB\n"
     ]
    }
   ],
   "source": [
    "df1.info()"
   ]
  },
  {
   "cell_type": "code",
   "execution_count": 161,
   "metadata": {
    "ExecuteTime": {
     "end_time": "2021-05-13T19:23:45.944040Z",
     "start_time": "2021-05-13T19:23:44.831843Z"
    },
    "scrolled": true
   },
   "outputs": [
    {
     "data": {
      "text/plain": [
       "Text(0.5, 1.0, 'Ratings Overview')"
      ]
     },
     "execution_count": 161,
     "metadata": {},
     "output_type": "execute_result"
    },
    {
     "data": {
      "image/png": "[encoded data removed]",
      "text/plain": [
       "<Figure size 432x288 with 1 Axes>"
      ]
     },
     "metadata": {
      "needs_background": "light"
     },
     "output_type": "display_data"
    }
   ],
   "source": [
    "# This shows overall ratings with all businesses of dataset.\n",
    "df1['stars'].hist()\n",
    "plt.grid(axis='y', alpha=0.75)\n",
    "plt.xlabel('Value')\n",
    "plt.ylabel('Frequency')\n",
    "plt.title('Ratings Overview')"
   ]
  },
  {
   "cell_type": "code",
   "execution_count": 162,
   "metadata": {
    "ExecuteTime": {
     "end_time": "2021-05-13T19:30:10.283572Z",
     "start_time": "2021-05-13T19:30:09.990250Z"
    }
   },
   "outputs": [
    {
     "data": {
      "text/plain": [
       "Text(0.5, 1.0, 'Reviews Count Spread')"
      ]
     },
     "execution_count": 162,
     "metadata": {},
     "output_type": "execute_result"
    },
    {
     "data": {
      "image/png": "[encoded data removed]",
      "text/plain": [
       "<Figure size 432x288 with 1 Axes>"
      ]
     },
     "metadata": {
      "needs_background": "light"
     },
     "output_type": "display_data"
    }
   ],
   "source": [
    "# A visual of how the majority of\n",
    "df1['review_count'].value_counts().hist()\n",
    "plt.grid(axis='y', alpha=0.75)\n",
    "plt.xlabel('User')\n",
    "plt.ylabel('Frequency')\n",
    "plt.title('Reviews Count Spread')"
   ]
  },
  {
   "cell_type": "code",
   "execution_count": 163,
   "metadata": {
    "ExecuteTime": {
     "end_time": "2021-05-13T19:31:14.526649Z",
     "start_time": "2021-05-13T19:31:14.127274Z"
    },
    "scrolled": true
   },
   "outputs": [
    {
     "data": {
      "text/plain": [
       "Text(0.5, 1.0, 'Top Reviewed State Businesses')"
      ]
     },
     "execution_count": 163,
     "metadata": {},
     "output_type": "execute_result"
    },
    {
     "data": {
      "image/png": "[encoded data removed]",
      "text/plain": [
       "<Figure size 432x288 with 1 Axes>"
      ]
     },
     "metadata": {
      "needs_background": "light"
     },
     "output_type": "display_data"
    }
   ],
   "source": [
    "# Majority of ratings are only within 9 states\n",
    "df1['state'].value_counts()[:10].plot(kind='bar')\n",
    "plt.grid(axis='y', alpha=0.75)\n",
    "plt.xlabel('State')\n",
    "plt.ylabel('Frequency')\n",
    "plt.title('Top Reviewed State Businesses')"
   ]
  },
  {
   "cell_type": "code",
   "execution_count": 17,
   "metadata": {
    "ExecuteTime": {
     "end_time": "2021-05-10T19:34:21.630787Z",
     "start_time": "2021-05-10T19:34:21.628370Z"
    }
   },
   "outputs": [],
   "source": [
    "# Pickled new list of dictionaries from original JSON file\n",
    "import pickle"
   ]
  },
  {
   "cell_type": "code",
   "execution_count": 18,
   "metadata": {
    "ExecuteTime": {
     "end_time": "2021-05-10T19:34:32.648889Z",
     "start_time": "2021-05-10T19:34:22.267439Z"
    }
   },
   "outputs": [],
   "source": [
    "# Opening the pickled reviews dictionary\n",
    "\n",
    "with open('reviews.pkl', 'rb') as f:\n",
    "    reviews = pickle.load(f)"
   ]
  },
  {
   "cell_type": "code",
   "execution_count": 19,
   "metadata": {
    "ExecuteTime": {
     "end_time": "2021-05-10T19:35:05.636762Z",
     "start_time": "2021-05-10T19:34:57.271799Z"
    },
    "scrolled": false
   },
   "outputs": [
    {
     "data": {
      "text/html": [
       "<div>\n",
       "<style scoped>\n",
       "    .dataframe tbody tr th:only-of-type {\n",
       "        vertical-align: middle;\n",
       "    }\n",
       "\n",
       "    .dataframe tbody tr th {\n",
       "        vertical-align: top;\n",
       "    }\n",
       "\n",
       "    .dataframe thead th {\n",
       "        text-align: right;\n",
       "    }\n",
       "</style>\n",
       "<table border=\"1\" class=\"dataframe\">\n",
       "  <thead>\n",
       "    <tr style=\"text-align: right;\">\n",
       "      <th></th>\n",
       "      <th>user_id</th>\n",
       "      <th>business_id</th>\n",
       "      <th>stars</th>\n",
       "    </tr>\n",
       "  </thead>\n",
       "  <tbody>\n",
       "    <tr>\n",
       "      <th>0</th>\n",
       "      <td>ak0TdVmGKo4pwqdJSTLwWw</td>\n",
       "      <td>buF9druCkbuXLX526sGELQ</td>\n",
       "      <td>4.0</td>\n",
       "    </tr>\n",
       "    <tr>\n",
       "      <th>1</th>\n",
       "      <td>YoVfDbnISlW0f7abNQACIg</td>\n",
       "      <td>RA4V8pr014UyUbDvI-LW2A</td>\n",
       "      <td>4.0</td>\n",
       "    </tr>\n",
       "    <tr>\n",
       "      <th>2</th>\n",
       "      <td>eC5evKn1TWDyHCyQAwguUw</td>\n",
       "      <td>_sS2LBIGNT5NQb6PD1Vtjw</td>\n",
       "      <td>5.0</td>\n",
       "    </tr>\n",
       "    <tr>\n",
       "      <th>3</th>\n",
       "      <td>SFQ1jcnGguO0LYWnbbftAA</td>\n",
       "      <td>0AzLzHfOJgL7ROwhdww2ew</td>\n",
       "      <td>2.0</td>\n",
       "    </tr>\n",
       "    <tr>\n",
       "      <th>4</th>\n",
       "      <td>0kA0PAJ8QFMeveQWHFqz2A</td>\n",
       "      <td>8zehGz9jnxPqXtOc7KaJxA</td>\n",
       "      <td>4.0</td>\n",
       "    </tr>\n",
       "    <tr>\n",
       "      <th>...</th>\n",
       "      <td>...</td>\n",
       "      <td>...</td>\n",
       "      <td>...</td>\n",
       "    </tr>\n",
       "    <tr>\n",
       "      <th>8635398</th>\n",
       "      <td>6olZ0y9oW9azON61AhwxYg</td>\n",
       "      <td>yyTtwwQ4JnQMJ2rn3W0S0g</td>\n",
       "      <td>1.0</td>\n",
       "    </tr>\n",
       "    <tr>\n",
       "      <th>8635399</th>\n",
       "      <td>EPYNZQFuSKqLi-on3U9dFg</td>\n",
       "      <td>RDgwjgbu5xziFIAaNn3WCQ</td>\n",
       "      <td>1.0</td>\n",
       "    </tr>\n",
       "    <tr>\n",
       "      <th>8635400</th>\n",
       "      <td>tr13Jb83h2itjyXVwaO5eA</td>\n",
       "      <td>rbuj2X4SXIc3MDul4dcxIA</td>\n",
       "      <td>5.0</td>\n",
       "    </tr>\n",
       "    <tr>\n",
       "      <th>8635401</th>\n",
       "      <td>HqdmRMpNvScFxjGAB40vgQ</td>\n",
       "      <td>IRzjEZ2pX4iOpnBG7oZJ7g</td>\n",
       "      <td>2.0</td>\n",
       "    </tr>\n",
       "    <tr>\n",
       "      <th>8635402</th>\n",
       "      <td>HsT8bz3-SKMk7YidwLLM6Q</td>\n",
       "      <td>pxwYIa1jZzHJ4R0Sp1cHFw</td>\n",
       "      <td>5.0</td>\n",
       "    </tr>\n",
       "  </tbody>\n",
       "</table>\n",
       "<p>8635403 rows × 3 columns</p>\n",
       "</div>"
      ],
      "text/plain": [
       "                        user_id             business_id  stars\n",
       "0        ak0TdVmGKo4pwqdJSTLwWw  buF9druCkbuXLX526sGELQ    4.0\n",
       "1        YoVfDbnISlW0f7abNQACIg  RA4V8pr014UyUbDvI-LW2A    4.0\n",
       "2        eC5evKn1TWDyHCyQAwguUw  _sS2LBIGNT5NQb6PD1Vtjw    5.0\n",
       "3        SFQ1jcnGguO0LYWnbbftAA  0AzLzHfOJgL7ROwhdww2ew    2.0\n",
       "4        0kA0PAJ8QFMeveQWHFqz2A  8zehGz9jnxPqXtOc7KaJxA    4.0\n",
       "...                         ...                     ...    ...\n",
       "8635398  6olZ0y9oW9azON61AhwxYg  yyTtwwQ4JnQMJ2rn3W0S0g    1.0\n",
       "8635399  EPYNZQFuSKqLi-on3U9dFg  RDgwjgbu5xziFIAaNn3WCQ    1.0\n",
       "8635400  tr13Jb83h2itjyXVwaO5eA  rbuj2X4SXIc3MDul4dcxIA    5.0\n",
       "8635401  HqdmRMpNvScFxjGAB40vgQ  IRzjEZ2pX4iOpnBG7oZJ7g    2.0\n",
       "8635402  HsT8bz3-SKMk7YidwLLM6Q  pxwYIa1jZzHJ4R0Sp1cHFw    5.0\n",
       "\n",
       "[8635403 rows x 3 columns]"
      ]
     },
     "execution_count": 19,
     "metadata": {},
     "output_type": "execute_result"
    }
   ],
   "source": [
    "# Converting dictionary into a pandas DataFrame for better readability\n",
    "reviews = pd.DataFrame(reviews)\n",
    "reviews"
   ]
  },
  {
   "cell_type": "code",
   "execution_count": 69,
   "metadata": {
    "ExecuteTime": {
     "end_time": "2021-05-10T23:00:11.857880Z",
     "start_time": "2021-05-10T23:00:02.337706Z"
    }
   },
   "outputs": [
    {
     "data": {
      "text/plain": [
       "RtGqdDBvvBCjcu5dUqwfzA    6073\n",
       "Xwnf20FKuikiHcSpcEbpKQ    3861\n",
       "tgrs5VQ6thhouiEtMU-N_w    2265\n",
       "j14WgRoU_-2ZE1aw1dXrJg    1958\n",
       "jpIGlAym6z88W2xzHiK5_A    1671\n",
       "9EeEpkZg5jV18N_KvrcT6g    1516\n",
       "nl8gWLDo6U6MjqzbBmE_9A    1509\n",
       "R1FVpAyl_BtxHBWdau2VLg    1497\n",
       "Pf7FI0OukC_CEcCz0ZxoUw    1449\n",
       "gqL5KBs2oS7qobnyd99iKg    1286\n",
       "Name: user_id, dtype: int64"
      ]
     },
     "execution_count": 69,
     "metadata": {},
     "output_type": "execute_result"
    }
   ],
   "source": [
    "# Assigning a variable to new data of the top ten users involved with the dataset because the top ten have \n",
    "#  more than one review.\n",
    "\n",
    "rating_counts = reviews['user_id'].value_counts()[:10]\n",
    "rating_counts"
   ]
  },
  {
   "cell_type": "code",
   "execution_count": 165,
   "metadata": {
    "ExecuteTime": {
     "end_time": "2021-05-13T19:37:15.815284Z",
     "start_time": "2021-05-13T19:37:15.636959Z"
    }
   },
   "outputs": [
    {
     "data": {
      "text/plain": [
       "Text(0.5, 1.0, 'Users and their Reviews')"
      ]
     },
     "execution_count": 165,
     "metadata": {},
     "output_type": "execute_result"
    },
    {
     "data": {
      "image/png": "[encoded data removed]",
      "text/plain": [
       "<Figure size 432x288 with 1 Axes>"
      ]
     },
     "metadata": {
      "needs_background": "light"
     },
     "output_type": "display_data"
    }
   ],
   "source": [
    "# Putting the numbers above into a easy to read horizontal bar graph.\n",
    "\n",
    "rating_counts.sort_values().plot(kind='barh')\n",
    "plt.grid(axis='y', alpha=0.75)\n",
    "plt.xlabel('Review Count')\n",
    "plt.ylabel('User')\n",
    "plt.title('Users and their Reviews')"
   ]
  },
  {
   "cell_type": "code",
   "execution_count": 22,
   "metadata": {
    "ExecuteTime": {
     "end_time": "2021-05-10T19:38:15.569236Z",
     "start_time": "2021-05-10T19:38:08.224230Z"
    }
   },
   "outputs": [],
   "source": [
    "# Assigning a new variable to call upon that only show the user and their respective review count within data.\n",
    "\n",
    "user_count = reviews['user_id'].value_counts().rename_axis('unique_values').reset_index(name='counts')"
   ]
  },
  {
   "cell_type": "code",
   "execution_count": 23,
   "metadata": {
    "ExecuteTime": {
     "end_time": "2021-05-10T19:38:16.715077Z",
     "start_time": "2021-05-10T19:38:16.705836Z"
    }
   },
   "outputs": [
    {
     "data": {
      "text/html": [
       "<div>\n",
       "<style scoped>\n",
       "    .dataframe tbody tr th:only-of-type {\n",
       "        vertical-align: middle;\n",
       "    }\n",
       "\n",
       "    .dataframe tbody tr th {\n",
       "        vertical-align: top;\n",
       "    }\n",
       "\n",
       "    .dataframe thead th {\n",
       "        text-align: right;\n",
       "    }\n",
       "</style>\n",
       "<table border=\"1\" class=\"dataframe\">\n",
       "  <thead>\n",
       "    <tr style=\"text-align: right;\">\n",
       "      <th></th>\n",
       "      <th>unique_values</th>\n",
       "      <th>counts</th>\n",
       "    </tr>\n",
       "  </thead>\n",
       "  <tbody>\n",
       "    <tr>\n",
       "      <th>0</th>\n",
       "      <td>RtGqdDBvvBCjcu5dUqwfzA</td>\n",
       "      <td>6073</td>\n",
       "    </tr>\n",
       "    <tr>\n",
       "      <th>1</th>\n",
       "      <td>Xwnf20FKuikiHcSpcEbpKQ</td>\n",
       "      <td>3861</td>\n",
       "    </tr>\n",
       "    <tr>\n",
       "      <th>2</th>\n",
       "      <td>tgrs5VQ6thhouiEtMU-N_w</td>\n",
       "      <td>2265</td>\n",
       "    </tr>\n",
       "    <tr>\n",
       "      <th>3</th>\n",
       "      <td>j14WgRoU_-2ZE1aw1dXrJg</td>\n",
       "      <td>1958</td>\n",
       "    </tr>\n",
       "    <tr>\n",
       "      <th>4</th>\n",
       "      <td>jpIGlAym6z88W2xzHiK5_A</td>\n",
       "      <td>1671</td>\n",
       "    </tr>\n",
       "    <tr>\n",
       "      <th>...</th>\n",
       "      <td>...</td>\n",
       "      <td>...</td>\n",
       "    </tr>\n",
       "    <tr>\n",
       "      <th>2189452</th>\n",
       "      <td>-YIC6RNgwad72SM48Taf8Q</td>\n",
       "      <td>1</td>\n",
       "    </tr>\n",
       "    <tr>\n",
       "      <th>2189453</th>\n",
       "      <td>0tzhQW4TFk0rAimfzBt3fQ</td>\n",
       "      <td>1</td>\n",
       "    </tr>\n",
       "    <tr>\n",
       "      <th>2189454</th>\n",
       "      <td>XgXP7GaBmJ5Bfsas-svbnA</td>\n",
       "      <td>1</td>\n",
       "    </tr>\n",
       "    <tr>\n",
       "      <th>2189455</th>\n",
       "      <td>GROXfaefwvXir12s2bPRPw</td>\n",
       "      <td>1</td>\n",
       "    </tr>\n",
       "    <tr>\n",
       "      <th>2189456</th>\n",
       "      <td>0c12y_Q0qkV40BkQl21uBA</td>\n",
       "      <td>1</td>\n",
       "    </tr>\n",
       "  </tbody>\n",
       "</table>\n",
       "<p>2189457 rows × 2 columns</p>\n",
       "</div>"
      ],
      "text/plain": [
       "                  unique_values  counts\n",
       "0        RtGqdDBvvBCjcu5dUqwfzA    6073\n",
       "1        Xwnf20FKuikiHcSpcEbpKQ    3861\n",
       "2        tgrs5VQ6thhouiEtMU-N_w    2265\n",
       "3        j14WgRoU_-2ZE1aw1dXrJg    1958\n",
       "4        jpIGlAym6z88W2xzHiK5_A    1671\n",
       "...                         ...     ...\n",
       "2189452  -YIC6RNgwad72SM48Taf8Q       1\n",
       "2189453  0tzhQW4TFk0rAimfzBt3fQ       1\n",
       "2189454  XgXP7GaBmJ5Bfsas-svbnA       1\n",
       "2189455  GROXfaefwvXir12s2bPRPw       1\n",
       "2189456  0c12y_Q0qkV40BkQl21uBA       1\n",
       "\n",
       "[2189457 rows x 2 columns]"
      ]
     },
     "execution_count": 23,
     "metadata": {},
     "output_type": "execute_result"
    }
   ],
   "source": [
    "user_count"
   ]
  },
  {
   "cell_type": "code",
   "execution_count": 24,
   "metadata": {
    "ExecuteTime": {
     "end_time": "2021-05-10T19:38:17.383343Z",
     "start_time": "2021-05-10T19:38:17.360188Z"
    }
   },
   "outputs": [
    {
     "data": {
      "text/html": [
       "<div>\n",
       "<style scoped>\n",
       "    .dataframe tbody tr th:only-of-type {\n",
       "        vertical-align: middle;\n",
       "    }\n",
       "\n",
       "    .dataframe tbody tr th {\n",
       "        vertical-align: top;\n",
       "    }\n",
       "\n",
       "    .dataframe thead th {\n",
       "        text-align: right;\n",
       "    }\n",
       "</style>\n",
       "<table border=\"1\" class=\"dataframe\">\n",
       "  <thead>\n",
       "    <tr style=\"text-align: right;\">\n",
       "      <th></th>\n",
       "      <th>unique_values</th>\n",
       "      <th>counts</th>\n",
       "    </tr>\n",
       "  </thead>\n",
       "  <tbody>\n",
       "    <tr>\n",
       "      <th>0</th>\n",
       "      <td>RtGqdDBvvBCjcu5dUqwfzA</td>\n",
       "      <td>6073</td>\n",
       "    </tr>\n",
       "    <tr>\n",
       "      <th>1</th>\n",
       "      <td>Xwnf20FKuikiHcSpcEbpKQ</td>\n",
       "      <td>3861</td>\n",
       "    </tr>\n",
       "    <tr>\n",
       "      <th>2</th>\n",
       "      <td>tgrs5VQ6thhouiEtMU-N_w</td>\n",
       "      <td>2265</td>\n",
       "    </tr>\n",
       "    <tr>\n",
       "      <th>3</th>\n",
       "      <td>j14WgRoU_-2ZE1aw1dXrJg</td>\n",
       "      <td>1958</td>\n",
       "    </tr>\n",
       "    <tr>\n",
       "      <th>4</th>\n",
       "      <td>jpIGlAym6z88W2xzHiK5_A</td>\n",
       "      <td>1671</td>\n",
       "    </tr>\n",
       "    <tr>\n",
       "      <th>...</th>\n",
       "      <td>...</td>\n",
       "      <td>...</td>\n",
       "    </tr>\n",
       "    <tr>\n",
       "      <th>5743</th>\n",
       "      <td>cTVJIVQBfEtsrPW0dM3z4A</td>\n",
       "      <td>101</td>\n",
       "    </tr>\n",
       "    <tr>\n",
       "      <th>5744</th>\n",
       "      <td>D_liFPO9WgITdQSun24geA</td>\n",
       "      <td>101</td>\n",
       "    </tr>\n",
       "    <tr>\n",
       "      <th>5745</th>\n",
       "      <td>JqEOJxG4J5ybEoBH363jwQ</td>\n",
       "      <td>101</td>\n",
       "    </tr>\n",
       "    <tr>\n",
       "      <th>5746</th>\n",
       "      <td>UU4zFYWXQKwqWLlt2veXMQ</td>\n",
       "      <td>101</td>\n",
       "    </tr>\n",
       "    <tr>\n",
       "      <th>5747</th>\n",
       "      <td>VMuvh0otnR-YOz2abRl2tw</td>\n",
       "      <td>101</td>\n",
       "    </tr>\n",
       "  </tbody>\n",
       "</table>\n",
       "<p>5748 rows × 2 columns</p>\n",
       "</div>"
      ],
      "text/plain": [
       "               unique_values  counts\n",
       "0     RtGqdDBvvBCjcu5dUqwfzA    6073\n",
       "1     Xwnf20FKuikiHcSpcEbpKQ    3861\n",
       "2     tgrs5VQ6thhouiEtMU-N_w    2265\n",
       "3     j14WgRoU_-2ZE1aw1dXrJg    1958\n",
       "4     jpIGlAym6z88W2xzHiK5_A    1671\n",
       "...                      ...     ...\n",
       "5743  cTVJIVQBfEtsrPW0dM3z4A     101\n",
       "5744  D_liFPO9WgITdQSun24geA     101\n",
       "5745  JqEOJxG4J5ybEoBH363jwQ     101\n",
       "5746  UU4zFYWXQKwqWLlt2veXMQ     101\n",
       "5747  VMuvh0otnR-YOz2abRl2tw     101\n",
       "\n",
       "[5748 rows x 2 columns]"
      ]
     },
     "execution_count": 24,
     "metadata": {},
     "output_type": "execute_result"
    }
   ],
   "source": [
    "# I wanted to remove users that reviewed less than 100x for a few reasons; I wanted to shrink the data for faster\n",
    "#  processing within my model and to include stronger data of users and their ratings.\n",
    "\n",
    "user_count[user_count['counts']  > 100]\n",
    "\n",
    "# You can see that the number of rows decreased over 2 million!! This is a test for further when I select my pool\n",
    "#  of users to include with the final dataset to enter into the model for predicting."
   ]
  },
  {
   "cell_type": "code",
   "execution_count": 166,
   "metadata": {
    "ExecuteTime": {
     "end_time": "2021-05-13T19:46:39.743176Z",
     "start_time": "2021-05-13T19:46:39.442571Z"
    }
   },
   "outputs": [
    {
     "data": {
      "text/plain": [
       "Text(0.5, 1.0, 'User Review Spread')"
      ]
     },
     "execution_count": 166,
     "metadata": {},
     "output_type": "execute_result"
    },
    {
     "data": {
      "image/png": "[encoded data removed]",
      "text/plain": [
       "<Figure size 432x288 with 1 Axes>"
      ]
     },
     "metadata": {
      "needs_background": "light"
     },
     "output_type": "display_data"
    }
   ],
   "source": [
    "# Here you can see that the top user (6,073 reviews) really skews the data with reviews almost doubling the second \n",
    "#  most users vote count. By looking at the graph, on average, users within this dataset review approximately\n",
    "#  300-500 times.\n",
    "\n",
    "user_count[user_count['counts']  > 100].plot()\n",
    "plt.grid(axis='y', alpha=0.75)\n",
    "plt.xlabel('Review Count')\n",
    "plt.ylabel('User #')\n",
    "plt.title('User Review Spread')"
   ]
  },
  {
   "cell_type": "markdown",
   "metadata": {},
   "source": [
    "## Surprise Modeling"
   ]
  },
  {
   "cell_type": "code",
   "execution_count": 27,
   "metadata": {
    "ExecuteTime": {
     "end_time": "2021-05-10T19:38:38.798433Z",
     "start_time": "2021-05-10T19:38:29.709163Z"
    }
   },
   "outputs": [],
   "source": [
    "# Defining the rating scale for the model\n",
    "reader = Reader(rating_scale=(1.0, 5.0))\n",
    "# Assigning the data I want to load into the model with the 'data' variable.\n",
    "data = Dataset.load_from_df(reviews[['user_id', 'business_id', 'stars']], reader)"
   ]
  },
  {
   "cell_type": "code",
   "execution_count": 28,
   "metadata": {
    "ExecuteTime": {
     "end_time": "2021-05-10T19:39:24.402817Z",
     "start_time": "2021-05-10T19:38:40.552443Z"
    }
   },
   "outputs": [],
   "source": [
    "# Train-Test Split\n",
    "train, test = train_test_split(data, test_size=.2)"
   ]
  },
  {
   "cell_type": "code",
   "execution_count": 29,
   "metadata": {
    "ExecuteTime": {
     "end_time": "2021-05-10T19:39:30.398171Z",
     "start_time": "2021-05-10T19:39:30.392076Z"
    }
   },
   "outputs": [
    {
     "data": {
      "text/plain": [
       "<surprise.trainset.Trainset at 0x7fb794b17400>"
      ]
     },
     "execution_count": 29,
     "metadata": {},
     "output_type": "execute_result"
    }
   ],
   "source": [
    "train"
   ]
  },
  {
   "cell_type": "markdown",
   "metadata": {},
   "source": [
    "Now that the initial data has been loaded up within the variables, I can now proceed to build a function to run through all four of the models I've chosen."
   ]
  },
  {
   "cell_type": "markdown",
   "metadata": {},
   "source": [
    "### BaselineOnly, SVD, NMF, SVDpp"
   ]
  },
  {
   "cell_type": "code",
   "execution_count": 30,
   "metadata": {
    "ExecuteTime": {
     "end_time": "2021-05-10T19:39:36.002018Z",
     "start_time": "2021-05-10T19:39:35.989907Z"
    }
   },
   "outputs": [],
   "source": [
    "# Using the model selected to fit the trained data. \n",
    "def model_accuracy(model):\n",
    "    model.fit(train)\n",
    "# Assigning our model being used to test out the test set of data to 'predictions'\n",
    "    predictions = model.test(test)\n",
    "# Outputing the Root Means Squared Error accuracy of the prediction\n",
    "    return accuracy.rmse(predictions)"
   ]
  },
  {
   "cell_type": "code",
   "execution_count": 31,
   "metadata": {
    "ExecuteTime": {
     "end_time": "2021-05-10T19:40:53.063499Z",
     "start_time": "2021-05-10T19:39:39.625909Z"
    }
   },
   "outputs": [
    {
     "name": "stdout",
     "output_type": "stream",
     "text": [
      "Estimating biases using als...\n",
      "RMSE: 1.2711\n"
     ]
    },
    {
     "data": {
      "text/plain": [
       "1.2711125758551107"
      ]
     },
     "execution_count": 31,
     "metadata": {},
     "output_type": "execute_result"
    }
   ],
   "source": [
    "Base = BaselineOnly()\n",
    "model_accuracy(Base)"
   ]
  },
  {
   "cell_type": "code",
   "execution_count": 32,
   "metadata": {
    "ExecuteTime": {
     "end_time": "2021-05-10T19:48:57.433366Z",
     "start_time": "2021-05-10T19:40:58.387803Z"
    },
    "scrolled": false
   },
   "outputs": [
    {
     "name": "stdout",
     "output_type": "stream",
     "text": [
      "RMSE: 1.2752\n"
     ]
    },
    {
     "data": {
      "text/plain": [
       "1.275181086489985"
      ]
     },
     "execution_count": 32,
     "metadata": {},
     "output_type": "execute_result"
    }
   ],
   "source": [
    "svd = SVD()\n",
    "model_accuracy(svd)"
   ]
  },
  {
   "cell_type": "code",
   "execution_count": 33,
   "metadata": {
    "ExecuteTime": {
     "end_time": "2021-05-10T19:59:08.438649Z",
     "start_time": "2021-05-10T19:49:08.228790Z"
    }
   },
   "outputs": [
    {
     "name": "stdout",
     "output_type": "stream",
     "text": [
      "RMSE: 1.4345\n"
     ]
    },
    {
     "data": {
      "text/plain": [
       "1.4345435432602005"
      ]
     },
     "execution_count": 33,
     "metadata": {},
     "output_type": "execute_result"
    }
   ],
   "source": [
    "NMF = NMF()\n",
    "model_accuracy(NMF)"
   ]
  },
  {
   "cell_type": "code",
   "execution_count": 34,
   "metadata": {
    "ExecuteTime": {
     "end_time": "2021-05-10T21:11:11.999679Z",
     "start_time": "2021-05-10T19:59:14.684837Z"
    }
   },
   "outputs": [
    {
     "name": "stdout",
     "output_type": "stream",
     "text": [
      "RMSE: 1.2839\n"
     ]
    },
    {
     "data": {
      "text/plain": [
       "1.2839164997578163"
      ]
     },
     "execution_count": 34,
     "metadata": {},
     "output_type": "execute_result"
    }
   ],
   "source": [
    "SVDpp = SVDpp()\n",
    "model_accuracy(SVDpp)"
   ]
  },
  {
   "cell_type": "markdown",
   "metadata": {},
   "source": [
    "## Subset"
   ]
  },
  {
   "cell_type": "markdown",
   "metadata": {},
   "source": [
    "Sub-setting the data will continue to clean up the 'noise' or low quality information. This should help with the accuracy of the model when using better quality information."
   ]
  },
  {
   "cell_type": "code",
   "execution_count": 26,
   "metadata": {
    "ExecuteTime": {
     "end_time": "2021-05-10T19:38:23.956216Z",
     "start_time": "2021-05-10T19:38:18.988872Z"
    },
    "scrolled": true
   },
   "outputs": [
    {
     "data": {
      "text/plain": [
       "1       1173684\n",
       "2        363249\n",
       "3        179185\n",
       "4        107674\n",
       "5         70854\n",
       "         ...   \n",
       "517           1\n",
       "518           1\n",
       "519           1\n",
       "520           1\n",
       "6073          1\n",
       "Name: user_id, Length: 621, dtype: int64"
      ]
     },
     "execution_count": 26,
     "metadata": {},
     "output_type": "execute_result"
    }
   ],
   "source": [
    "# This is showing the amount of users that voted 'x' amount of times. (e.g. 1,173,684 users only rated one buisness.\n",
    "\n",
    "reviews['user_id'].value_counts().value_counts()"
   ]
  },
  {
   "cell_type": "code",
   "execution_count": 51,
   "metadata": {
    "ExecuteTime": {
     "end_time": "2021-05-10T22:01:17.046208Z",
     "start_time": "2021-05-10T22:01:15.438681Z"
    }
   },
   "outputs": [],
   "source": [
    "# Assigning new variable to a new list I'm creating of each user and their review counts > 100.\n",
    "\n",
    "unique_users = user_count[user_count['counts']  > 100]['unique_values'].tolist()"
   ]
  },
  {
   "cell_type": "code",
   "execution_count": 81,
   "metadata": {
    "ExecuteTime": {
     "end_time": "2021-05-13T02:27:16.014413Z",
     "start_time": "2021-05-13T02:27:01.857309Z"
    },
    "scrolled": false
   },
   "outputs": [
    {
     "data": {
      "text/html": [
       "<div>\n",
       "<style scoped>\n",
       "    .dataframe tbody tr th:only-of-type {\n",
       "        vertical-align: middle;\n",
       "    }\n",
       "\n",
       "    .dataframe tbody tr th {\n",
       "        vertical-align: top;\n",
       "    }\n",
       "\n",
       "    .dataframe thead th {\n",
       "        text-align: right;\n",
       "    }\n",
       "</style>\n",
       "<table border=\"1\" class=\"dataframe\">\n",
       "  <thead>\n",
       "    <tr style=\"text-align: right;\">\n",
       "      <th></th>\n",
       "      <th>user_id</th>\n",
       "      <th>business_id</th>\n",
       "      <th>stars</th>\n",
       "    </tr>\n",
       "  </thead>\n",
       "  <tbody>\n",
       "    <tr>\n",
       "      <th>1</th>\n",
       "      <td>YoVfDbnISlW0f7abNQACIg</td>\n",
       "      <td>RA4V8pr014UyUbDvI-LW2A</td>\n",
       "      <td>4.0</td>\n",
       "    </tr>\n",
       "    <tr>\n",
       "      <th>8</th>\n",
       "      <td>LWUnzwK0ILquLLZcHHE1Mw</td>\n",
       "      <td>mD-A9KOWADXvfrZfwDs-jw</td>\n",
       "      <td>4.0</td>\n",
       "    </tr>\n",
       "    <tr>\n",
       "      <th>21</th>\n",
       "      <td>ltn9yaWIarK_o4DeMT1duA</td>\n",
       "      <td>MJYb0fioM-X7jc_0RIYyqQ</td>\n",
       "      <td>4.0</td>\n",
       "    </tr>\n",
       "    <tr>\n",
       "      <th>23</th>\n",
       "      <td>d01SZKYmReEar7varZB0HQ</td>\n",
       "      <td>I2OblwJG8_XzFxxoHU0vVQ</td>\n",
       "      <td>4.0</td>\n",
       "    </tr>\n",
       "    <tr>\n",
       "      <th>29</th>\n",
       "      <td>SIP1Dfwy1M0HWzdgGg9H9g</td>\n",
       "      <td>I-qL4zwr62710OJBtVv28A</td>\n",
       "      <td>4.0</td>\n",
       "    </tr>\n",
       "    <tr>\n",
       "      <th>...</th>\n",
       "      <td>...</td>\n",
       "      <td>...</td>\n",
       "      <td>...</td>\n",
       "    </tr>\n",
       "    <tr>\n",
       "      <th>8635374</th>\n",
       "      <td>xnf9I953jVkJiqBIIjWJOg</td>\n",
       "      <td>qYANgZTvhdkarq8n1m68bg</td>\n",
       "      <td>4.0</td>\n",
       "    </tr>\n",
       "    <tr>\n",
       "      <th>8635381</th>\n",
       "      <td>9U30DANobkrn3Zlu6T9p6Q</td>\n",
       "      <td>biYgFkftCPue7g3upflUOg</td>\n",
       "      <td>4.0</td>\n",
       "    </tr>\n",
       "    <tr>\n",
       "      <th>8635383</th>\n",
       "      <td>_6up_KUwL5RsuWtK8fQxXg</td>\n",
       "      <td>vXTo69v2bGEyuBdT0X1hrw</td>\n",
       "      <td>5.0</td>\n",
       "    </tr>\n",
       "    <tr>\n",
       "      <th>8635392</th>\n",
       "      <td>mCanGeC78QwvqwSLpnZM_Q</td>\n",
       "      <td>K2XwYhodpeGWW6T57bZ88Q</td>\n",
       "      <td>5.0</td>\n",
       "    </tr>\n",
       "    <tr>\n",
       "      <th>8635393</th>\n",
       "      <td>spFkIHa7x15DJe4gVnSCqw</td>\n",
       "      <td>XVmp1LmrXKB8cXomLKbu9w</td>\n",
       "      <td>5.0</td>\n",
       "    </tr>\n",
       "  </tbody>\n",
       "</table>\n",
       "<p>1120549 rows × 3 columns</p>\n",
       "</div>"
      ],
      "text/plain": [
       "                        user_id             business_id  stars\n",
       "1        YoVfDbnISlW0f7abNQACIg  RA4V8pr014UyUbDvI-LW2A    4.0\n",
       "8        LWUnzwK0ILquLLZcHHE1Mw  mD-A9KOWADXvfrZfwDs-jw    4.0\n",
       "21       ltn9yaWIarK_o4DeMT1duA  MJYb0fioM-X7jc_0RIYyqQ    4.0\n",
       "23       d01SZKYmReEar7varZB0HQ  I2OblwJG8_XzFxxoHU0vVQ    4.0\n",
       "29       SIP1Dfwy1M0HWzdgGg9H9g  I-qL4zwr62710OJBtVv28A    4.0\n",
       "...                         ...                     ...    ...\n",
       "8635374  xnf9I953jVkJiqBIIjWJOg  qYANgZTvhdkarq8n1m68bg    4.0\n",
       "8635381  9U30DANobkrn3Zlu6T9p6Q  biYgFkftCPue7g3upflUOg    4.0\n",
       "8635383  _6up_KUwL5RsuWtK8fQxXg  vXTo69v2bGEyuBdT0X1hrw    5.0\n",
       "8635392  mCanGeC78QwvqwSLpnZM_Q  K2XwYhodpeGWW6T57bZ88Q    5.0\n",
       "8635393  spFkIHa7x15DJe4gVnSCqw  XVmp1LmrXKB8cXomLKbu9w    5.0\n",
       "\n",
       "[1120549 rows x 3 columns]"
      ]
     },
     "execution_count": 81,
     "metadata": {},
     "output_type": "execute_result"
    }
   ],
   "source": [
    "# This code subsets the dataframe's 'reviews' column ['user_id']and checks to see what users \n",
    "#  have voted more than 100x on businesses. \n",
    "\n",
    "reviews_subset = reviews[reviews['user_id'].isin(unique_users)]\n",
    "reviews_subset"
   ]
  },
  {
   "cell_type": "code",
   "execution_count": 118,
   "metadata": {
    "ExecuteTime": {
     "end_time": "2021-05-13T14:33:41.038255Z",
     "start_time": "2021-05-13T14:33:41.026400Z"
    }
   },
   "outputs": [],
   "source": [
    "# Isolating restaurants within all businesses of the dataset and making them into a list.\n",
    "restaurant_id = restaurants['business_id'].tolist()"
   ]
  },
  {
   "cell_type": "code",
   "execution_count": 120,
   "metadata": {
    "ExecuteTime": {
     "end_time": "2021-05-13T14:37:47.705076Z",
     "start_time": "2021-05-13T14:37:45.521503Z"
    }
   },
   "outputs": [],
   "source": [
    "# Reviews_subset already has the users we want but has a lot of noise.\n",
    "# Within this code, only restaurants are being pulled out.\n",
    "\n",
    "reviews_final = reviews_subset[reviews_subset['business_id'].isin(restaurant_id)]"
   ]
  },
  {
   "cell_type": "code",
   "execution_count": 121,
   "metadata": {
    "ExecuteTime": {
     "end_time": "2021-05-13T14:38:04.727151Z",
     "start_time": "2021-05-13T14:38:04.724075Z"
    }
   },
   "outputs": [
    {
     "data": {
      "text/plain": [
       "(285129, 3)"
      ]
     },
     "execution_count": 121,
     "metadata": {},
     "output_type": "execute_result"
    }
   ],
   "source": [
    "reviews_final.shape"
   ]
  },
  {
   "cell_type": "code",
   "execution_count": 167,
   "metadata": {
    "ExecuteTime": {
     "end_time": "2021-05-14T01:44:31.265655Z",
     "start_time": "2021-05-14T01:44:29.953719Z"
    }
   },
   "outputs": [],
   "source": [
    "reader = Reader(rating_scale=(1.0, 5.0))\n",
    "data_subset = Dataset.load_from_df(reviews_final[['user_id', 'business_id', 'stars']], reader)"
   ]
  },
  {
   "cell_type": "code",
   "execution_count": 168,
   "metadata": {
    "ExecuteTime": {
     "end_time": "2021-05-14T01:44:34.057245Z",
     "start_time": "2021-05-14T01:44:33.352198Z"
    }
   },
   "outputs": [],
   "source": [
    "train, test = train_test_split(data_subset, test_size=.2)"
   ]
  },
  {
   "cell_type": "code",
   "execution_count": 169,
   "metadata": {
    "ExecuteTime": {
     "end_time": "2021-05-14T01:44:34.803405Z",
     "start_time": "2021-05-14T01:44:34.791921Z"
    }
   },
   "outputs": [
    {
     "data": {
      "text/plain": [
       "<surprise.trainset.Trainset at 0x7fb794ee36a0>"
      ]
     },
     "execution_count": 169,
     "metadata": {},
     "output_type": "execute_result"
    }
   ],
   "source": [
    "train"
   ]
  },
  {
   "cell_type": "code",
   "execution_count": 170,
   "metadata": {
    "ExecuteTime": {
     "end_time": "2021-05-14T01:44:35.567196Z",
     "start_time": "2021-05-14T01:44:35.564811Z"
    }
   },
   "outputs": [],
   "source": [
    "from surprise import BaselineOnly, SVD, SVDpp, NMF"
   ]
  },
  {
   "cell_type": "markdown",
   "metadata": {
    "ExecuteTime": {
     "end_time": "2021-04-21T21:08:27.455264Z",
     "start_time": "2021-04-21T21:08:27.433290Z"
    }
   },
   "source": [
    "## Gridsearch CV"
   ]
  },
  {
   "cell_type": "code",
   "execution_count": 171,
   "metadata": {
    "ExecuteTime": {
     "end_time": "2021-05-14T01:44:46.038987Z",
     "start_time": "2021-05-14T01:44:46.027176Z"
    }
   },
   "outputs": [],
   "source": [
    "# These two types of parameters are the only relevant ones to utilize within this model.\n",
    "\n",
    "svd_param_grid = {'n_factors': [5, 7, 10],\n",
    "                  'reg_all': [0.002, 0.02, 0.1]}"
   ]
  },
  {
   "cell_type": "code",
   "execution_count": 172,
   "metadata": {
    "ExecuteTime": {
     "end_time": "2021-05-14T01:47:06.116646Z",
     "start_time": "2021-05-14T01:44:47.066389Z"
    }
   },
   "outputs": [
    {
     "name": "stderr",
     "output_type": "stream",
     "text": [
      "[Parallel(n_jobs=-1)]: Using backend LokyBackend with 6 concurrent workers.\n",
      "[Parallel(n_jobs=-1)]: Done  27 out of  27 | elapsed:  1.8min finished\n"
     ]
    }
   ],
   "source": [
    "# GridsearchCV will test out all possibilities of these parameter combinations.\n",
    "\n",
    "svd_gs = GridSearchCV(algo_class = SVD, param_grid = svd_param_grid, measures=['rmse', 'mae'], cv=3, n_jobs=-1, joblib_verbose=2)\n",
    "svd_gs.fit(data_subset)"
   ]
  },
  {
   "cell_type": "code",
   "execution_count": 173,
   "metadata": {
    "ExecuteTime": {
     "end_time": "2021-05-14T01:47:07.786381Z",
     "start_time": "2021-05-14T01:47:07.754374Z"
    },
    "scrolled": false
   },
   "outputs": [
    {
     "data": {
      "text/html": [
       "<div>\n",
       "<style scoped>\n",
       "    .dataframe tbody tr th:only-of-type {\n",
       "        vertical-align: middle;\n",
       "    }\n",
       "\n",
       "    .dataframe tbody tr th {\n",
       "        vertical-align: top;\n",
       "    }\n",
       "\n",
       "    .dataframe thead th {\n",
       "        text-align: right;\n",
       "    }\n",
       "</style>\n",
       "<table border=\"1\" class=\"dataframe\">\n",
       "  <thead>\n",
       "    <tr style=\"text-align: right;\">\n",
       "      <th></th>\n",
       "      <th>split0_test_rmse</th>\n",
       "      <th>split1_test_rmse</th>\n",
       "      <th>split2_test_rmse</th>\n",
       "      <th>mean_test_rmse</th>\n",
       "      <th>std_test_rmse</th>\n",
       "      <th>rank_test_rmse</th>\n",
       "      <th>split0_test_mae</th>\n",
       "      <th>split1_test_mae</th>\n",
       "      <th>split2_test_mae</th>\n",
       "      <th>mean_test_mae</th>\n",
       "      <th>std_test_mae</th>\n",
       "      <th>rank_test_mae</th>\n",
       "      <th>mean_fit_time</th>\n",
       "      <th>std_fit_time</th>\n",
       "      <th>mean_test_time</th>\n",
       "      <th>std_test_time</th>\n",
       "      <th>params</th>\n",
       "      <th>param_n_factors</th>\n",
       "      <th>param_reg_all</th>\n",
       "    </tr>\n",
       "  </thead>\n",
       "  <tbody>\n",
       "    <tr>\n",
       "      <th>0</th>\n",
       "      <td>0.986510</td>\n",
       "      <td>0.989765</td>\n",
       "      <td>0.987866</td>\n",
       "      <td>0.988047</td>\n",
       "      <td>0.001335</td>\n",
       "      <td>7</td>\n",
       "      <td>0.772535</td>\n",
       "      <td>0.772730</td>\n",
       "      <td>0.771960</td>\n",
       "      <td>0.772408</td>\n",
       "      <td>0.000327</td>\n",
       "      <td>2</td>\n",
       "      <td>2.148101</td>\n",
       "      <td>0.071602</td>\n",
       "      <td>0.564566</td>\n",
       "      <td>0.020864</td>\n",
       "      <td>{'n_factors': 5, 'reg_all': 0.002}</td>\n",
       "      <td>5</td>\n",
       "      <td>0.002</td>\n",
       "    </tr>\n",
       "    <tr>\n",
       "      <th>1</th>\n",
       "      <td>0.985842</td>\n",
       "      <td>0.989142</td>\n",
       "      <td>0.987533</td>\n",
       "      <td>0.987506</td>\n",
       "      <td>0.001347</td>\n",
       "      <td>4</td>\n",
       "      <td>0.772256</td>\n",
       "      <td>0.772444</td>\n",
       "      <td>0.771777</td>\n",
       "      <td>0.772159</td>\n",
       "      <td>0.000281</td>\n",
       "      <td>1</td>\n",
       "      <td>2.048519</td>\n",
       "      <td>0.011496</td>\n",
       "      <td>0.539508</td>\n",
       "      <td>0.013164</td>\n",
       "      <td>{'n_factors': 5, 'reg_all': 0.02}</td>\n",
       "      <td>5</td>\n",
       "      <td>0.020</td>\n",
       "    </tr>\n",
       "    <tr>\n",
       "      <th>2</th>\n",
       "      <td>0.985218</td>\n",
       "      <td>0.988460</td>\n",
       "      <td>0.986618</td>\n",
       "      <td>0.986765</td>\n",
       "      <td>0.001328</td>\n",
       "      <td>2</td>\n",
       "      <td>0.772940</td>\n",
       "      <td>0.772778</td>\n",
       "      <td>0.772104</td>\n",
       "      <td>0.772608</td>\n",
       "      <td>0.000362</td>\n",
       "      <td>7</td>\n",
       "      <td>2.029776</td>\n",
       "      <td>0.007019</td>\n",
       "      <td>0.535276</td>\n",
       "      <td>0.008630</td>\n",
       "      <td>{'n_factors': 5, 'reg_all': 0.1}</td>\n",
       "      <td>5</td>\n",
       "      <td>0.100</td>\n",
       "    </tr>\n",
       "    <tr>\n",
       "      <th>3</th>\n",
       "      <td>0.986484</td>\n",
       "      <td>0.989805</td>\n",
       "      <td>0.988133</td>\n",
       "      <td>0.988141</td>\n",
       "      <td>0.001356</td>\n",
       "      <td>8</td>\n",
       "      <td>0.772831</td>\n",
       "      <td>0.772733</td>\n",
       "      <td>0.771917</td>\n",
       "      <td>0.772494</td>\n",
       "      <td>0.000410</td>\n",
       "      <td>4</td>\n",
       "      <td>2.205931</td>\n",
       "      <td>0.032908</td>\n",
       "      <td>0.575463</td>\n",
       "      <td>0.046918</td>\n",
       "      <td>{'n_factors': 7, 'reg_all': 0.002}</td>\n",
       "      <td>7</td>\n",
       "      <td>0.002</td>\n",
       "    </tr>\n",
       "    <tr>\n",
       "      <th>4</th>\n",
       "      <td>0.986304</td>\n",
       "      <td>0.989477</td>\n",
       "      <td>0.987580</td>\n",
       "      <td>0.987787</td>\n",
       "      <td>0.001304</td>\n",
       "      <td>5</td>\n",
       "      <td>0.772774</td>\n",
       "      <td>0.772689</td>\n",
       "      <td>0.771880</td>\n",
       "      <td>0.772448</td>\n",
       "      <td>0.000403</td>\n",
       "      <td>3</td>\n",
       "      <td>2.166869</td>\n",
       "      <td>0.000617</td>\n",
       "      <td>0.531541</td>\n",
       "      <td>0.014182</td>\n",
       "      <td>{'n_factors': 7, 'reg_all': 0.02}</td>\n",
       "      <td>7</td>\n",
       "      <td>0.020</td>\n",
       "    </tr>\n",
       "    <tr>\n",
       "      <th>5</th>\n",
       "      <td>0.985239</td>\n",
       "      <td>0.988543</td>\n",
       "      <td>0.986712</td>\n",
       "      <td>0.986832</td>\n",
       "      <td>0.001352</td>\n",
       "      <td>3</td>\n",
       "      <td>0.772919</td>\n",
       "      <td>0.772867</td>\n",
       "      <td>0.772261</td>\n",
       "      <td>0.772682</td>\n",
       "      <td>0.000299</td>\n",
       "      <td>9</td>\n",
       "      <td>2.174468</td>\n",
       "      <td>0.010096</td>\n",
       "      <td>0.542475</td>\n",
       "      <td>0.012966</td>\n",
       "      <td>{'n_factors': 7, 'reg_all': 0.1}</td>\n",
       "      <td>7</td>\n",
       "      <td>0.100</td>\n",
       "    </tr>\n",
       "    <tr>\n",
       "      <th>6</th>\n",
       "      <td>0.986705</td>\n",
       "      <td>0.989844</td>\n",
       "      <td>0.988099</td>\n",
       "      <td>0.988216</td>\n",
       "      <td>0.001284</td>\n",
       "      <td>9</td>\n",
       "      <td>0.772746</td>\n",
       "      <td>0.772815</td>\n",
       "      <td>0.772335</td>\n",
       "      <td>0.772632</td>\n",
       "      <td>0.000212</td>\n",
       "      <td>8</td>\n",
       "      <td>2.516341</td>\n",
       "      <td>0.012100</td>\n",
       "      <td>0.581226</td>\n",
       "      <td>0.045822</td>\n",
       "      <td>{'n_factors': 10, 'reg_all': 0.002}</td>\n",
       "      <td>10</td>\n",
       "      <td>0.002</td>\n",
       "    </tr>\n",
       "    <tr>\n",
       "      <th>7</th>\n",
       "      <td>0.986347</td>\n",
       "      <td>0.989039</td>\n",
       "      <td>0.988057</td>\n",
       "      <td>0.987815</td>\n",
       "      <td>0.001112</td>\n",
       "      <td>6</td>\n",
       "      <td>0.772950</td>\n",
       "      <td>0.772360</td>\n",
       "      <td>0.772258</td>\n",
       "      <td>0.772523</td>\n",
       "      <td>0.000305</td>\n",
       "      <td>5</td>\n",
       "      <td>2.477000</td>\n",
       "      <td>0.016850</td>\n",
       "      <td>0.551242</td>\n",
       "      <td>0.029969</td>\n",
       "      <td>{'n_factors': 10, 'reg_all': 0.02}</td>\n",
       "      <td>10</td>\n",
       "      <td>0.020</td>\n",
       "    </tr>\n",
       "    <tr>\n",
       "      <th>8</th>\n",
       "      <td>0.985088</td>\n",
       "      <td>0.988602</td>\n",
       "      <td>0.986446</td>\n",
       "      <td>0.986712</td>\n",
       "      <td>0.001447</td>\n",
       "      <td>1</td>\n",
       "      <td>0.772818</td>\n",
       "      <td>0.772962</td>\n",
       "      <td>0.772025</td>\n",
       "      <td>0.772602</td>\n",
       "      <td>0.000412</td>\n",
       "      <td>6</td>\n",
       "      <td>2.446622</td>\n",
       "      <td>0.025047</td>\n",
       "      <td>0.524415</td>\n",
       "      <td>0.007114</td>\n",
       "      <td>{'n_factors': 10, 'reg_all': 0.1}</td>\n",
       "      <td>10</td>\n",
       "      <td>0.100</td>\n",
       "    </tr>\n",
       "  </tbody>\n",
       "</table>\n",
       "</div>"
      ],
      "text/plain": [
       "   split0_test_rmse  split1_test_rmse  split2_test_rmse  mean_test_rmse  \\\n",
       "0          0.986510          0.989765          0.987866        0.988047   \n",
       "1          0.985842          0.989142          0.987533        0.987506   \n",
       "2          0.985218          0.988460          0.986618        0.986765   \n",
       "3          0.986484          0.989805          0.988133        0.988141   \n",
       "4          0.986304          0.989477          0.987580        0.987787   \n",
       "5          0.985239          0.988543          0.986712        0.986832   \n",
       "6          0.986705          0.989844          0.988099        0.988216   \n",
       "7          0.986347          0.989039          0.988057        0.987815   \n",
       "8          0.985088          0.988602          0.986446        0.986712   \n",
       "\n",
       "   std_test_rmse  rank_test_rmse  split0_test_mae  split1_test_mae  \\\n",
       "0       0.001335               7         0.772535         0.772730   \n",
       "1       0.001347               4         0.772256         0.772444   \n",
       "2       0.001328               2         0.772940         0.772778   \n",
       "3       0.001356               8         0.772831         0.772733   \n",
       "4       0.001304               5         0.772774         0.772689   \n",
       "5       0.001352               3         0.772919         0.772867   \n",
       "6       0.001284               9         0.772746         0.772815   \n",
       "7       0.001112               6         0.772950         0.772360   \n",
       "8       0.001447               1         0.772818         0.772962   \n",
       "\n",
       "   split2_test_mae  mean_test_mae  std_test_mae  rank_test_mae  mean_fit_time  \\\n",
       "0         0.771960       0.772408      0.000327              2       2.148101   \n",
       "1         0.771777       0.772159      0.000281              1       2.048519   \n",
       "2         0.772104       0.772608      0.000362              7       2.029776   \n",
       "3         0.771917       0.772494      0.000410              4       2.205931   \n",
       "4         0.771880       0.772448      0.000403              3       2.166869   \n",
       "5         0.772261       0.772682      0.000299              9       2.174468   \n",
       "6         0.772335       0.772632      0.000212              8       2.516341   \n",
       "7         0.772258       0.772523      0.000305              5       2.477000   \n",
       "8         0.772025       0.772602      0.000412              6       2.446622   \n",
       "\n",
       "   std_fit_time  mean_test_time  std_test_time  \\\n",
       "0      0.071602        0.564566       0.020864   \n",
       "1      0.011496        0.539508       0.013164   \n",
       "2      0.007019        0.535276       0.008630   \n",
       "3      0.032908        0.575463       0.046918   \n",
       "4      0.000617        0.531541       0.014182   \n",
       "5      0.010096        0.542475       0.012966   \n",
       "6      0.012100        0.581226       0.045822   \n",
       "7      0.016850        0.551242       0.029969   \n",
       "8      0.025047        0.524415       0.007114   \n",
       "\n",
       "                                params  param_n_factors  param_reg_all  \n",
       "0   {'n_factors': 5, 'reg_all': 0.002}                5          0.002  \n",
       "1    {'n_factors': 5, 'reg_all': 0.02}                5          0.020  \n",
       "2     {'n_factors': 5, 'reg_all': 0.1}                5          0.100  \n",
       "3   {'n_factors': 7, 'reg_all': 0.002}                7          0.002  \n",
       "4    {'n_factors': 7, 'reg_all': 0.02}                7          0.020  \n",
       "5     {'n_factors': 7, 'reg_all': 0.1}                7          0.100  \n",
       "6  {'n_factors': 10, 'reg_all': 0.002}               10          0.002  \n",
       "7   {'n_factors': 10, 'reg_all': 0.02}               10          0.020  \n",
       "8    {'n_factors': 10, 'reg_all': 0.1}               10          0.100  "
      ]
     },
     "execution_count": 173,
     "metadata": {},
     "output_type": "execute_result"
    }
   ],
   "source": [
    "# Outputting the results of the GridsearchCV.\n",
    "pd.DataFrame(svd_gs.cv_results)"
   ]
  },
  {
   "cell_type": "markdown",
   "metadata": {},
   "source": [
    "## Final Tuning to Model"
   ]
  },
  {
   "cell_type": "markdown",
   "metadata": {},
   "source": [
    "Now that the parameters are tested and we know which ones work the best, we can re-run the model with them to see how much more accurate it is now. Out of curiosity, I wanted to re-run some of the other models to see how they reacted to the sub-setting."
   ]
  },
  {
   "cell_type": "code",
   "execution_count": 174,
   "metadata": {
    "ExecuteTime": {
     "end_time": "2021-05-14T01:47:23.698031Z",
     "start_time": "2021-05-14T01:47:23.688325Z"
    }
   },
   "outputs": [],
   "source": [
    "def model_subset_accuracy(model):\n",
    "    model.fit(train)\n",
    "    predictions = model.test(test)\n",
    "    return accuracy.rmse(predictions)"
   ]
  },
  {
   "cell_type": "code",
   "execution_count": 175,
   "metadata": {
    "ExecuteTime": {
     "end_time": "2021-05-14T01:47:25.778741Z",
     "start_time": "2021-05-14T01:47:24.430807Z"
    }
   },
   "outputs": [
    {
     "name": "stdout",
     "output_type": "stream",
     "text": [
      "Estimating biases using als...\n",
      "RMSE: 0.9815\n"
     ]
    },
    {
     "data": {
      "text/plain": [
       "0.9815071291294225"
      ]
     },
     "execution_count": 175,
     "metadata": {},
     "output_type": "execute_result"
    }
   ],
   "source": [
    "Base = BaselineOnly()\n",
    "model_subset_accuracy(Base)"
   ]
  },
  {
   "cell_type": "code",
   "execution_count": 176,
   "metadata": {
    "ExecuteTime": {
     "end_time": "2021-05-14T01:47:40.784844Z",
     "start_time": "2021-05-14T01:47:26.522032Z"
    }
   },
   "outputs": [
    {
     "name": "stdout",
     "output_type": "stream",
     "text": [
      "RMSE: 1.0733\n"
     ]
    },
    {
     "data": {
      "text/plain": [
       "1.0732509382309587"
      ]
     },
     "execution_count": 176,
     "metadata": {},
     "output_type": "execute_result"
    }
   ],
   "source": [
    "nmf = NMF()\n",
    "model_subset_accuracy(nmf)"
   ]
  },
  {
   "cell_type": "code",
   "execution_count": 177,
   "metadata": {
    "ExecuteTime": {
     "end_time": "2021-05-14T01:47:53.725467Z",
     "start_time": "2021-05-14T01:47:41.553160Z"
    }
   },
   "outputs": [
    {
     "name": "stdout",
     "output_type": "stream",
     "text": [
      "RMSE: 0.9828\n"
     ]
    },
    {
     "data": {
      "text/plain": [
       "0.9827900112778016"
      ]
     },
     "execution_count": 177,
     "metadata": {},
     "output_type": "execute_result"
    }
   ],
   "source": [
    "svd = SVD()\n",
    "model_subset_accuracy(svd)"
   ]
  },
  {
   "cell_type": "code",
   "execution_count": 178,
   "metadata": {
    "ExecuteTime": {
     "end_time": "2021-05-14T01:47:58.585429Z",
     "start_time": "2021-05-14T01:47:54.469567Z"
    }
   },
   "outputs": [
    {
     "name": "stdout",
     "output_type": "stream",
     "text": [
      "RMSE: 0.9802\n"
     ]
    },
    {
     "data": {
      "text/plain": [
       "0.9802378219042914"
      ]
     },
     "execution_count": 178,
     "metadata": {},
     "output_type": "execute_result"
    }
   ],
   "source": [
    "svd = SVD(n_factors = 10, reg_all = 0.020)\n",
    "model_subset_accuracy(svd)"
   ]
  },
  {
   "cell_type": "code",
   "execution_count": 179,
   "metadata": {
    "ExecuteTime": {
     "end_time": "2021-05-14T01:48:02.822057Z",
     "start_time": "2021-05-14T01:47:59.316110Z"
    }
   },
   "outputs": [
    {
     "name": "stdout",
     "output_type": "stream",
     "text": [
      "RMSE: 0.9804\n"
     ]
    },
    {
     "data": {
      "text/plain": [
       "0.9803944762054081"
      ]
     },
     "execution_count": 179,
     "metadata": {},
     "output_type": "execute_result"
    }
   ],
   "source": [
    "svd = SVD(n_factors = 5, reg_all = 0.020)\n",
    "model_subset_accuracy(svd)"
   ]
  },
  {
   "cell_type": "markdown",
   "metadata": {},
   "source": [
    "## Yelp API Access and Testing new data to the Final model"
   ]
  },
  {
   "cell_type": "code",
   "execution_count": 159,
   "metadata": {
    "ExecuteTime": {
     "end_time": "2021-05-13T18:26:16.236067Z",
     "start_time": "2021-05-13T18:26:16.221959Z"
    }
   },
   "outputs": [],
   "source": [
    "def top_five_unrated_biz(user):\n",
    "\n",
    "# This creates a list of buisnesses the user HAS reviewed and making it into a list.\n",
    "    previous_ratings = reviews_final[reviews_final['user_id'] == user]['business_id'].tolist()\n",
    "# Assigning a variable 'new_restaurants' to create a list of businesses the user hasn't reviewed yet.\n",
    "    new_restaurants = list(filter(lambda x: x not in previous_ratings, restaurant_id))\n",
    "\n",
    "    new_list = []\n",
    "    for x in new_restaurants:\n",
    "#This next line adds the predicted value to the businesses the user hasn't reviewed yet.\n",
    "        new_list.append((svd.predict(user, x)[3], x))\n",
    "# Sorting list of tuples based upon the first element of each tuple; getting the top 5 results. \n",
    "    top_five = sorted(new_list, key=lambda tup: tup[0], reverse = True)[:5]\n",
    "    for y in top_five:\n",
    "        rating = round(y[0], 2)\n",
    "        \n",
    "        \n",
    "        url = 'https://api.yelp.com/v3/businesses/'+ y[1]\n",
    "\n",
    "        headers = {\n",
    "        'Authorization': 'Bearer {}'.format(zach_key),\n",
    "            }\n",
    "\n",
    "        response = requests.get(url, headers=headers).json()\n",
    "        print(response['name'], rating)\n"
   ]
  },
  {
   "cell_type": "code",
   "execution_count": 160,
   "metadata": {
    "ExecuteTime": {
     "end_time": "2021-05-13T18:26:20.894684Z",
     "start_time": "2021-05-13T18:26:18.664703Z"
    }
   },
   "outputs": [
    {
     "name": "stdout",
     "output_type": "stream",
     "text": [
      "Boston Roller Derby 4.74\n",
      "Boda Borg 4.74\n",
      "Mount Auburn Cemetery 4.72\n",
      "Jeni's Splendid Ice Creams 4.68\n",
      "Johnny's Pops 4.67\n"
     ]
    }
   ],
   "source": [
    "top_five_unrated_biz('ltn9yaWIarK_o4DeMT1duA')"
   ]
  }
 ],
 "metadata": {
  "kernelspec": {
   "display_name": "Python 3",
   "language": "python",
   "name": "python3"
  },
  "language_info": {
   "codemirror_mode": {
    "name": "ipython",
    "version": 3
   },
   "file_extension": ".py",
   "mimetype": "text/x-python",
   "name": "python",
   "nbconvert_exporter": "python",
   "pygments_lexer": "ipython3",
   "version": "3.6.9"
  },
  "toc": {
   "base_numbering": 1,
   "nav_menu": {},
   "number_sections": false,
   "sideBar": true,
   "skip_h1_title": false,
   "title_cell": "Table of Contents",
   "title_sidebar": "Contents",
   "toc_cell": false,
   "toc_position": {
    "height": "calc(100% - 180px)",
    "left": "10px",
    "top": "150px",
    "width": "177.587px"
   },
   "toc_section_display": true,
   "toc_window_display": true
  },
  "varInspector": {
   "cols": {
    "lenName": 16,
    "lenType": 16,
    "lenVar": 40
   },
   "kernels_config": {
    "python": {
     "delete_cmd_postfix": "",
     "delete_cmd_prefix": "del ",
     "library": "var_list.py",
     "varRefreshCmd": "print(var_dic_list())"
    },
    "r": {
     "delete_cmd_postfix": ") ",
     "delete_cmd_prefix": "rm(",
     "library": "var_list.r",
     "varRefreshCmd": "cat(var_dic_list()) "
    }
   },
   "types_to_exclude": [
    "module",
    "function",
    "builtin_function_or_method",
    "instance",
    "_Feature"
   ],
   "window_display": false
  }
 },
 "nbformat": 4,
 "nbformat_minor": 2
}
