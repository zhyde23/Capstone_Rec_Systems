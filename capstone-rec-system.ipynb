{
 "cells": [
  {
   "cell_type": "markdown",
   "metadata": {},
   "source": [
    "## Introduction"
   ]
  },
  {
   "cell_type": "markdown",
   "metadata": {},
   "source": [
    "Business Case - Taking Yelp information to create a Recommendation System with the Surprise model. I want to implement my model to become as successful as those within companies such as Netflix, Amazon, Hulu etc.\n",
    "\n",
    "Recommendation Systems are very important with consumer retention. When a company invests into brand marketing, it's not a cheap endeavor. So, to make it all-for-not, the consumer retention aspect of the business needs to be strong in order to maintain accounts/viewers. The best way to ensure your business is meeting needs/demands of the consumer, a recommendation system should be put into place to offer similarly liked items/videos to what they are interested in."
   ]
  },
  {
   "cell_type": "markdown",
   "metadata": {},
   "source": [
    "## Importing Libraries/JSON Files"
   ]
  },
  {
   "cell_type": "code",
   "execution_count": 84,
   "metadata": {
    "ExecuteTime": {
     "end_time": "2021-05-13T02:41:43.286838Z",
     "start_time": "2021-05-13T02:41:43.003713Z"
    }
   },
   "outputs": [],
   "source": [
    "# import libraries\n",
    "import numpy as np\n",
    "import pandas as pd\n",
    "import json\n",
    "import matplotlib.pyplot as plt\n",
    "%matplotlib inline\n",
    "\n",
    "import requests\n",
    "import nltk\n",
    "# nltk.download('punkt')\n",
    "\n",
    "from sklearn.feature_extraction.text import CountVectorizer\n",
    "from nltk.tokenize import sent_tokenize\n",
    "\n",
    "from surprise import Dataset, Reader\n",
    "from surprise import BaselineOnly, SVD, SVDpp, NMF\n",
    "from surprise import accuracy\n",
    "from surprise.model_selection import cross_validate, train_test_split, GridSearchCV\n",
    "\n",
    "# !pip install requests"
   ]
  },
  {
   "cell_type": "code",
   "execution_count": 2,
   "metadata": {
    "ExecuteTime": {
     "end_time": "2021-05-10T19:33:03.039500Z",
     "start_time": "2021-05-10T19:32:59.809852Z"
    },
    "scrolled": true
   },
   "outputs": [
    {
     "data": {
      "text/plain": [
       "0         Gastropubs, Food, Beer Gardens, Restaurants, B...\n",
       "1         Salad, Soup, Sandwiches, Delis, Restaurants, C...\n",
       "2         Antiques, Fashion, Used, Vintage & Consignment...\n",
       "3                                Beauty & Spas, Hair Salons\n",
       "4         Gyms, Active Life, Interval Training Gyms, Fit...\n",
       "                                ...                        \n",
       "160580    Real Estate, Real Estate Services, Home Servic...\n",
       "160581        Health Markets, Food, Specialty Food, Grocery\n",
       "160582    Arts & Entertainment, Paint & Sip, Art Classes...\n",
       "160583                Cuban, Sandwiches, Restaurants, Cafes\n",
       "160584    Restaurants, Middle Eastern, Mediterranean, Pe...\n",
       "Name: categories, Length: 160470, dtype: object"
      ]
     },
     "execution_count": 2,
     "metadata": {},
     "output_type": "execute_result"
    }
   ],
   "source": [
    "df1 = pd.read_json('yelp_academic_dataset_business.json', lines=True).dropna(subset=['categories'])\n",
    "df1.categories"
   ]
  },
  {
   "cell_type": "code",
   "execution_count": 3,
   "metadata": {
    "ExecuteTime": {
     "end_time": "2021-05-10T19:33:03.195132Z",
     "start_time": "2021-05-10T19:33:03.070884Z"
    }
   },
   "outputs": [],
   "source": [
    "# changing the commas to periods for creating dummy variables\n",
    "df1['categories'] = df1['categories'].str.replace(',', '.')"
   ]
  },
  {
   "cell_type": "code",
   "execution_count": 4,
   "metadata": {
    "ExecuteTime": {
     "end_time": "2021-05-10T19:33:28.531492Z",
     "start_time": "2021-05-10T19:33:09.600323Z"
    }
   },
   "outputs": [],
   "source": [
    "vec = CountVectorizer(tokenizer=sent_tokenize, lowercase=False)\n",
    "\n",
    "categories = vec.fit_transform(df1.dropna(subset=['categories'])['categories'])\n",
    "categories = pd.DataFrame(categories.toarray(), columns=vec.get_feature_names())\n",
    "duplicated = [c for c in categories.columns if '.' in c]\n",
    "categories = categories[duplicated]\n",
    "categories.columns = [c.strip('.') for c in categories.columns]"
   ]
  },
  {
   "cell_type": "code",
   "execution_count": 5,
   "metadata": {
    "ExecuteTime": {
     "end_time": "2021-05-10T19:33:28.956556Z",
     "start_time": "2021-05-10T19:33:28.937912Z"
    }
   },
   "outputs": [
    {
     "data": {
      "text/plain": [
       "Index(['& Probates', '3D Printing', 'ATV Rentals/Tours', 'Acai Bowls',\n",
       "       'Accessories', 'Accountants', 'Acne Treatment', 'Active Life',\n",
       "       'Acupuncture', 'Addiction Medicine',\n",
       "       ...\n",
       "       'Wine Tours', 'Wineries', 'Women's Clothing',\n",
       "       'Workers Compensation Law', 'Wraps', 'Yakiniku', 'Yelp Events', 'Yoga',\n",
       "       'Ziplining', 'Zoos'],\n",
       "      dtype='object', length=1350)"
      ]
     },
     "execution_count": 5,
     "metadata": {},
     "output_type": "execute_result"
    }
   ],
   "source": [
    "categories.columns.unique()"
   ]
  },
  {
   "cell_type": "code",
   "execution_count": 6,
   "metadata": {
    "ExecuteTime": {
     "end_time": "2021-05-10T19:33:29.569703Z",
     "start_time": "2021-05-10T19:33:29.157655Z"
    }
   },
   "outputs": [
    {
     "data": {
      "text/plain": [
       "Restaurants                  37139\n",
       "Food                         22290\n",
       "Shopping                     20490\n",
       "Home Services                12344\n",
       "Beauty & Spas                12089\n",
       "Health & Medical             11694\n",
       "Nightlife                     9872\n",
       "Local Services                9372\n",
       "Bars                          8872\n",
       "Event Planning & Services     7736\n",
       "Active Life                   7199\n",
       "Automotive                    7199\n",
       "Sandwiches                    5758\n",
       "Coffee & Tea                  5724\n",
       "Fashion                       5346\n",
       "American (Traditional)        5260\n",
       "Home & Garden                 4570\n",
       "Breakfast & Brunch            4440\n",
       "American (New)                4382\n",
       "Arts & Entertainment          4204\n",
       "Hotels & Travel               4177\n",
       "Hair Salons                   4176\n",
       "Pizza                         4090\n",
       "Real Estate                   3964\n",
       "Fitness & Instruction         3864\n",
       "Fast Food                     3840\n",
       "Professional Services         3829\n",
       "Doctors                       3645\n",
       "Auto Repair                   3575\n",
       "Specialty Food                3498\n",
       "dtype: int64"
      ]
     },
     "execution_count": 6,
     "metadata": {},
     "output_type": "execute_result"
    }
   ],
   "source": [
    "categories.sum().sort_values(ascending=False)[:30]"
   ]
  },
  {
   "cell_type": "code",
   "execution_count": 7,
   "metadata": {
    "ExecuteTime": {
     "end_time": "2021-05-10T19:33:48.131529Z",
     "start_time": "2021-05-10T19:33:41.606462Z"
    }
   },
   "outputs": [],
   "source": [
    "# putting the categories df with the original\n",
    "df2 = pd.concat([df1, categories], axis=1)"
   ]
  },
  {
   "cell_type": "code",
   "execution_count": 8,
   "metadata": {
    "ExecuteTime": {
     "end_time": "2021-05-10T19:33:49.793698Z",
     "start_time": "2021-05-10T19:33:49.734528Z"
    }
   },
   "outputs": [
    {
     "data": {
      "text/html": [
       "<div>\n",
       "<style scoped>\n",
       "    .dataframe tbody tr th:only-of-type {\n",
       "        vertical-align: middle;\n",
       "    }\n",
       "\n",
       "    .dataframe tbody tr th {\n",
       "        vertical-align: top;\n",
       "    }\n",
       "\n",
       "    .dataframe thead th {\n",
       "        text-align: right;\n",
       "    }\n",
       "</style>\n",
       "<table border=\"1\" class=\"dataframe\">\n",
       "  <thead>\n",
       "    <tr style=\"text-align: right;\">\n",
       "      <th></th>\n",
       "      <th>business_id</th>\n",
       "      <th>name</th>\n",
       "      <th>address</th>\n",
       "      <th>city</th>\n",
       "      <th>state</th>\n",
       "      <th>postal_code</th>\n",
       "      <th>latitude</th>\n",
       "      <th>longitude</th>\n",
       "      <th>stars</th>\n",
       "      <th>review_count</th>\n",
       "      <th>...</th>\n",
       "      <th>Wine Tours</th>\n",
       "      <th>Wineries</th>\n",
       "      <th>Women's Clothing</th>\n",
       "      <th>Workers Compensation Law</th>\n",
       "      <th>Wraps</th>\n",
       "      <th>Yakiniku</th>\n",
       "      <th>Yelp Events</th>\n",
       "      <th>Yoga</th>\n",
       "      <th>Ziplining</th>\n",
       "      <th>Zoos</th>\n",
       "    </tr>\n",
       "  </thead>\n",
       "  <tbody>\n",
       "    <tr>\n",
       "      <th>0</th>\n",
       "      <td>6iYb2HFDywm3zjuRg0shjw</td>\n",
       "      <td>Oskar Blues Taproom</td>\n",
       "      <td>921 Pearl St</td>\n",
       "      <td>Boulder</td>\n",
       "      <td>CO</td>\n",
       "      <td>80302</td>\n",
       "      <td>40.017544</td>\n",
       "      <td>-105.283348</td>\n",
       "      <td>4.0</td>\n",
       "      <td>86.0</td>\n",
       "      <td>...</td>\n",
       "      <td>0.0</td>\n",
       "      <td>0.0</td>\n",
       "      <td>0.0</td>\n",
       "      <td>0.0</td>\n",
       "      <td>0.0</td>\n",
       "      <td>0.0</td>\n",
       "      <td>0.0</td>\n",
       "      <td>0.0</td>\n",
       "      <td>0.0</td>\n",
       "      <td>0.0</td>\n",
       "    </tr>\n",
       "    <tr>\n",
       "      <th>1</th>\n",
       "      <td>tCbdrRPZA0oiIYSmHG3J0w</td>\n",
       "      <td>Flying Elephants at PDX</td>\n",
       "      <td>7000 NE Airport Way</td>\n",
       "      <td>Portland</td>\n",
       "      <td>OR</td>\n",
       "      <td>97218</td>\n",
       "      <td>45.588906</td>\n",
       "      <td>-122.593331</td>\n",
       "      <td>4.0</td>\n",
       "      <td>126.0</td>\n",
       "      <td>...</td>\n",
       "      <td>0.0</td>\n",
       "      <td>0.0</td>\n",
       "      <td>0.0</td>\n",
       "      <td>0.0</td>\n",
       "      <td>0.0</td>\n",
       "      <td>0.0</td>\n",
       "      <td>0.0</td>\n",
       "      <td>0.0</td>\n",
       "      <td>0.0</td>\n",
       "      <td>0.0</td>\n",
       "    </tr>\n",
       "    <tr>\n",
       "      <th>2</th>\n",
       "      <td>bvN78flM8NLprQ1a1y5dRg</td>\n",
       "      <td>The Reclaimory</td>\n",
       "      <td>4720 Hawthorne Ave</td>\n",
       "      <td>Portland</td>\n",
       "      <td>OR</td>\n",
       "      <td>97214</td>\n",
       "      <td>45.511907</td>\n",
       "      <td>-122.613693</td>\n",
       "      <td>4.5</td>\n",
       "      <td>13.0</td>\n",
       "      <td>...</td>\n",
       "      <td>0.0</td>\n",
       "      <td>0.0</td>\n",
       "      <td>0.0</td>\n",
       "      <td>0.0</td>\n",
       "      <td>0.0</td>\n",
       "      <td>0.0</td>\n",
       "      <td>0.0</td>\n",
       "      <td>0.0</td>\n",
       "      <td>0.0</td>\n",
       "      <td>0.0</td>\n",
       "    </tr>\n",
       "    <tr>\n",
       "      <th>3</th>\n",
       "      <td>oaepsyvc0J17qwi8cfrOWg</td>\n",
       "      <td>Great Clips</td>\n",
       "      <td>2566 Enterprise Rd</td>\n",
       "      <td>Orange City</td>\n",
       "      <td>FL</td>\n",
       "      <td>32763</td>\n",
       "      <td>28.914482</td>\n",
       "      <td>-81.295979</td>\n",
       "      <td>3.0</td>\n",
       "      <td>8.0</td>\n",
       "      <td>...</td>\n",
       "      <td>0.0</td>\n",
       "      <td>0.0</td>\n",
       "      <td>0.0</td>\n",
       "      <td>0.0</td>\n",
       "      <td>0.0</td>\n",
       "      <td>0.0</td>\n",
       "      <td>0.0</td>\n",
       "      <td>0.0</td>\n",
       "      <td>0.0</td>\n",
       "      <td>0.0</td>\n",
       "    </tr>\n",
       "    <tr>\n",
       "      <th>4</th>\n",
       "      <td>PE9uqAjdw0E4-8mjGl3wVA</td>\n",
       "      <td>Crossfit Terminus</td>\n",
       "      <td>1046 Memorial Dr SE</td>\n",
       "      <td>Atlanta</td>\n",
       "      <td>GA</td>\n",
       "      <td>30316</td>\n",
       "      <td>33.747027</td>\n",
       "      <td>-84.353424</td>\n",
       "      <td>4.0</td>\n",
       "      <td>14.0</td>\n",
       "      <td>...</td>\n",
       "      <td>0.0</td>\n",
       "      <td>0.0</td>\n",
       "      <td>0.0</td>\n",
       "      <td>0.0</td>\n",
       "      <td>0.0</td>\n",
       "      <td>0.0</td>\n",
       "      <td>0.0</td>\n",
       "      <td>0.0</td>\n",
       "      <td>0.0</td>\n",
       "      <td>0.0</td>\n",
       "    </tr>\n",
       "  </tbody>\n",
       "</table>\n",
       "<p>5 rows × 1372 columns</p>\n",
       "</div>"
      ],
      "text/plain": [
       "              business_id                     name              address  \\\n",
       "0  6iYb2HFDywm3zjuRg0shjw      Oskar Blues Taproom         921 Pearl St   \n",
       "1  tCbdrRPZA0oiIYSmHG3J0w  Flying Elephants at PDX  7000 NE Airport Way   \n",
       "2  bvN78flM8NLprQ1a1y5dRg           The Reclaimory   4720 Hawthorne Ave   \n",
       "3  oaepsyvc0J17qwi8cfrOWg              Great Clips   2566 Enterprise Rd   \n",
       "4  PE9uqAjdw0E4-8mjGl3wVA        Crossfit Terminus  1046 Memorial Dr SE   \n",
       "\n",
       "          city state postal_code   latitude   longitude  stars  review_count  \\\n",
       "0      Boulder    CO       80302  40.017544 -105.283348    4.0          86.0   \n",
       "1     Portland    OR       97218  45.588906 -122.593331    4.0         126.0   \n",
       "2     Portland    OR       97214  45.511907 -122.613693    4.5          13.0   \n",
       "3  Orange City    FL       32763  28.914482  -81.295979    3.0           8.0   \n",
       "4      Atlanta    GA       30316  33.747027  -84.353424    4.0          14.0   \n",
       "\n",
       "   ...  Wine Tours Wineries Women's Clothing Workers Compensation Law  Wraps  \\\n",
       "0  ...         0.0      0.0              0.0                      0.0    0.0   \n",
       "1  ...         0.0      0.0              0.0                      0.0    0.0   \n",
       "2  ...         0.0      0.0              0.0                      0.0    0.0   \n",
       "3  ...         0.0      0.0              0.0                      0.0    0.0   \n",
       "4  ...         0.0      0.0              0.0                      0.0    0.0   \n",
       "\n",
       "   Yakiniku  Yelp Events  Yoga  Ziplining  Zoos  \n",
       "0       0.0          0.0   0.0        0.0   0.0  \n",
       "1       0.0          0.0   0.0        0.0   0.0  \n",
       "2       0.0          0.0   0.0        0.0   0.0  \n",
       "3       0.0          0.0   0.0        0.0   0.0  \n",
       "4       0.0          0.0   0.0        0.0   0.0  \n",
       "\n",
       "[5 rows x 1372 columns]"
      ]
     },
     "execution_count": 8,
     "metadata": {},
     "output_type": "execute_result"
    }
   ],
   "source": [
    "df2.head()"
   ]
  },
  {
   "cell_type": "code",
   "execution_count": 9,
   "metadata": {
    "ExecuteTime": {
     "end_time": "2021-05-10T19:33:50.477439Z",
     "start_time": "2021-05-10T19:33:50.298161Z"
    }
   },
   "outputs": [
    {
     "data": {
      "text/plain": [
       "Restaurants                  37139\n",
       "Food                         22290\n",
       "Shopping                     20490\n",
       "Home Services                12344\n",
       "Beauty & Spas                12089\n",
       "Health & Medical             11694\n",
       "Nightlife                     9872\n",
       "Local Services                9372\n",
       "Bars                          8872\n",
       "Event Planning & Services     7736\n",
       "Active Life                   7199\n",
       "Automotive                    7199\n",
       "Sandwiches                    5758\n",
       "Coffee & Tea                  5724\n",
       "Fashion                       5346\n",
       "American (Traditional)        5260\n",
       "Home & Garden                 4570\n",
       "Breakfast & Brunch            4440\n",
       "American (New)                4382\n",
       "Arts & Entertainment          4204\n",
       "dtype: int64"
      ]
     },
     "execution_count": 9,
     "metadata": {},
     "output_type": "execute_result"
    }
   ],
   "source": [
    "# top 20 categories\n",
    "categories.sum().sort_values(ascending=False)[:20]"
   ]
  },
  {
   "cell_type": "code",
   "execution_count": 10,
   "metadata": {
    "ExecuteTime": {
     "end_time": "2021-05-10T19:34:09.147277Z",
     "start_time": "2021-05-10T19:34:03.343530Z"
    }
   },
   "outputs": [
    {
     "data": {
      "text/html": [
       "<div>\n",
       "<style scoped>\n",
       "    .dataframe tbody tr th:only-of-type {\n",
       "        vertical-align: middle;\n",
       "    }\n",
       "\n",
       "    .dataframe tbody tr th {\n",
       "        vertical-align: top;\n",
       "    }\n",
       "\n",
       "    .dataframe thead th {\n",
       "        text-align: right;\n",
       "    }\n",
       "</style>\n",
       "<table border=\"1\" class=\"dataframe\">\n",
       "  <thead>\n",
       "    <tr style=\"text-align: right;\">\n",
       "      <th></th>\n",
       "      <th>business_id</th>\n",
       "      <th>name</th>\n",
       "      <th>address</th>\n",
       "      <th>city</th>\n",
       "      <th>state</th>\n",
       "      <th>postal_code</th>\n",
       "      <th>latitude</th>\n",
       "      <th>longitude</th>\n",
       "      <th>stars</th>\n",
       "      <th>review_count</th>\n",
       "      <th>...</th>\n",
       "      <th>Wine Tours</th>\n",
       "      <th>Wineries</th>\n",
       "      <th>Women's Clothing</th>\n",
       "      <th>Workers Compensation Law</th>\n",
       "      <th>Wraps</th>\n",
       "      <th>Yakiniku</th>\n",
       "      <th>Yelp Events</th>\n",
       "      <th>Yoga</th>\n",
       "      <th>Ziplining</th>\n",
       "      <th>Zoos</th>\n",
       "    </tr>\n",
       "  </thead>\n",
       "  <tbody>\n",
       "    <tr>\n",
       "      <th>0</th>\n",
       "      <td>6iYb2HFDywm3zjuRg0shjw</td>\n",
       "      <td>Oskar Blues Taproom</td>\n",
       "      <td>921 Pearl St</td>\n",
       "      <td>Boulder</td>\n",
       "      <td>CO</td>\n",
       "      <td>80302</td>\n",
       "      <td>40.017544</td>\n",
       "      <td>-105.283348</td>\n",
       "      <td>4.0</td>\n",
       "      <td>86.0</td>\n",
       "      <td>...</td>\n",
       "      <td>0.0</td>\n",
       "      <td>0.0</td>\n",
       "      <td>0.0</td>\n",
       "      <td>0.0</td>\n",
       "      <td>0.0</td>\n",
       "      <td>0.0</td>\n",
       "      <td>0.0</td>\n",
       "      <td>0.0</td>\n",
       "      <td>0.0</td>\n",
       "      <td>0.0</td>\n",
       "    </tr>\n",
       "    <tr>\n",
       "      <th>1</th>\n",
       "      <td>tCbdrRPZA0oiIYSmHG3J0w</td>\n",
       "      <td>Flying Elephants at PDX</td>\n",
       "      <td>7000 NE Airport Way</td>\n",
       "      <td>Portland</td>\n",
       "      <td>OR</td>\n",
       "      <td>97218</td>\n",
       "      <td>45.588906</td>\n",
       "      <td>-122.593331</td>\n",
       "      <td>4.0</td>\n",
       "      <td>126.0</td>\n",
       "      <td>...</td>\n",
       "      <td>0.0</td>\n",
       "      <td>0.0</td>\n",
       "      <td>0.0</td>\n",
       "      <td>0.0</td>\n",
       "      <td>0.0</td>\n",
       "      <td>0.0</td>\n",
       "      <td>0.0</td>\n",
       "      <td>0.0</td>\n",
       "      <td>0.0</td>\n",
       "      <td>0.0</td>\n",
       "    </tr>\n",
       "    <tr>\n",
       "      <th>5</th>\n",
       "      <td>D4JtQNTI4X3KcbzacDJsMw</td>\n",
       "      <td>Bob Likes Thai Food</td>\n",
       "      <td>3755 Main St</td>\n",
       "      <td>Vancouver</td>\n",
       "      <td>BC</td>\n",
       "      <td>V5V</td>\n",
       "      <td>49.251342</td>\n",
       "      <td>-123.101333</td>\n",
       "      <td>3.5</td>\n",
       "      <td>169.0</td>\n",
       "      <td>...</td>\n",
       "      <td>0.0</td>\n",
       "      <td>0.0</td>\n",
       "      <td>0.0</td>\n",
       "      <td>0.0</td>\n",
       "      <td>0.0</td>\n",
       "      <td>0.0</td>\n",
       "      <td>0.0</td>\n",
       "      <td>0.0</td>\n",
       "      <td>0.0</td>\n",
       "      <td>0.0</td>\n",
       "    </tr>\n",
       "    <tr>\n",
       "      <th>13</th>\n",
       "      <td>ufCxltuh56FF4-ZFZ6cVhg</td>\n",
       "      <td>Sister Honey's</td>\n",
       "      <td>247 E Michigan St</td>\n",
       "      <td>Orlando</td>\n",
       "      <td>FL</td>\n",
       "      <td>32806</td>\n",
       "      <td>28.513265</td>\n",
       "      <td>-81.374707</td>\n",
       "      <td>4.5</td>\n",
       "      <td>135.0</td>\n",
       "      <td>...</td>\n",
       "      <td>0.0</td>\n",
       "      <td>0.0</td>\n",
       "      <td>0.0</td>\n",
       "      <td>0.0</td>\n",
       "      <td>0.0</td>\n",
       "      <td>0.0</td>\n",
       "      <td>0.0</td>\n",
       "      <td>0.0</td>\n",
       "      <td>0.0</td>\n",
       "      <td>0.0</td>\n",
       "    </tr>\n",
       "    <tr>\n",
       "      <th>16</th>\n",
       "      <td>GfWJ19Js7wX9rwaHQ7KbGw</td>\n",
       "      <td>Everything POP Shopping &amp; Dining</td>\n",
       "      <td>1050 Century Dr</td>\n",
       "      <td>Orlando</td>\n",
       "      <td>FL</td>\n",
       "      <td>32830</td>\n",
       "      <td>28.350498</td>\n",
       "      <td>-81.542819</td>\n",
       "      <td>3.0</td>\n",
       "      <td>7.0</td>\n",
       "      <td>...</td>\n",
       "      <td>0.0</td>\n",
       "      <td>0.0</td>\n",
       "      <td>0.0</td>\n",
       "      <td>0.0</td>\n",
       "      <td>0.0</td>\n",
       "      <td>0.0</td>\n",
       "      <td>0.0</td>\n",
       "      <td>0.0</td>\n",
       "      <td>0.0</td>\n",
       "      <td>0.0</td>\n",
       "    </tr>\n",
       "  </tbody>\n",
       "</table>\n",
       "<p>5 rows × 1372 columns</p>\n",
       "</div>"
      ],
      "text/plain": [
       "               business_id                              name  \\\n",
       "0   6iYb2HFDywm3zjuRg0shjw               Oskar Blues Taproom   \n",
       "1   tCbdrRPZA0oiIYSmHG3J0w           Flying Elephants at PDX   \n",
       "5   D4JtQNTI4X3KcbzacDJsMw               Bob Likes Thai Food   \n",
       "13  ufCxltuh56FF4-ZFZ6cVhg                    Sister Honey's   \n",
       "16  GfWJ19Js7wX9rwaHQ7KbGw  Everything POP Shopping & Dining   \n",
       "\n",
       "                address       city state postal_code   latitude   longitude  \\\n",
       "0          921 Pearl St    Boulder    CO       80302  40.017544 -105.283348   \n",
       "1   7000 NE Airport Way   Portland    OR       97218  45.588906 -122.593331   \n",
       "5          3755 Main St  Vancouver    BC         V5V  49.251342 -123.101333   \n",
       "13    247 E Michigan St    Orlando    FL       32806  28.513265  -81.374707   \n",
       "16      1050 Century Dr    Orlando    FL       32830  28.350498  -81.542819   \n",
       "\n",
       "    stars  review_count  ...  Wine Tours Wineries Women's Clothing  \\\n",
       "0     4.0          86.0  ...         0.0      0.0              0.0   \n",
       "1     4.0         126.0  ...         0.0      0.0              0.0   \n",
       "5     3.5         169.0  ...         0.0      0.0              0.0   \n",
       "13    4.5         135.0  ...         0.0      0.0              0.0   \n",
       "16    3.0           7.0  ...         0.0      0.0              0.0   \n",
       "\n",
       "   Workers Compensation Law  Wraps  Yakiniku  Yelp Events  Yoga  Ziplining  \\\n",
       "0                       0.0    0.0       0.0          0.0   0.0        0.0   \n",
       "1                       0.0    0.0       0.0          0.0   0.0        0.0   \n",
       "5                       0.0    0.0       0.0          0.0   0.0        0.0   \n",
       "13                      0.0    0.0       0.0          0.0   0.0        0.0   \n",
       "16                      0.0    0.0       0.0          0.0   0.0        0.0   \n",
       "\n",
       "    Zoos  \n",
       "0    0.0  \n",
       "1    0.0  \n",
       "5    0.0  \n",
       "13   0.0  \n",
       "16   0.0  \n",
       "\n",
       "[5 rows x 1372 columns]"
      ]
     },
     "execution_count": 10,
     "metadata": {},
     "output_type": "execute_result"
    }
   ],
   "source": [
    "# here's how you subset for restaurants and bars (the | acts like an OR)\n",
    "# this takes a while\n",
    "\n",
    "restaurants = df2.query('Restaurants == 1 | Bars == 1')\n",
    "restaurants.head()"
   ]
  },
  {
   "cell_type": "code",
   "execution_count": 11,
   "metadata": {
    "ExecuteTime": {
     "end_time": "2021-05-10T19:34:10.136495Z",
     "start_time": "2021-05-10T19:34:10.131140Z"
    }
   },
   "outputs": [
    {
     "data": {
      "text/plain": [
       "(40357, 1372)"
      ]
     },
     "execution_count": 11,
     "metadata": {},
     "output_type": "execute_result"
    }
   ],
   "source": [
    "restaurants.shape"
   ]
  },
  {
   "cell_type": "markdown",
   "metadata": {},
   "source": [
    "## EDA"
   ]
  },
  {
   "cell_type": "code",
   "execution_count": 12,
   "metadata": {
    "ExecuteTime": {
     "end_time": "2021-05-10T19:34:16.399806Z",
     "start_time": "2021-05-10T19:34:16.214954Z"
    },
    "scrolled": false
   },
   "outputs": [
    {
     "name": "stdout",
     "output_type": "stream",
     "text": [
      "<class 'pandas.core.frame.DataFrame'>\n",
      "Int64Index: 160470 entries, 0 to 160584\n",
      "Data columns (total 14 columns):\n",
      " #   Column        Non-Null Count   Dtype  \n",
      "---  ------        --------------   -----  \n",
      " 0   business_id   160470 non-null  object \n",
      " 1   name          160470 non-null  object \n",
      " 2   address       160470 non-null  object \n",
      " 3   city          160470 non-null  object \n",
      " 4   state         160470 non-null  object \n",
      " 5   postal_code   160470 non-null  object \n",
      " 6   latitude      160470 non-null  float64\n",
      " 7   longitude     160470 non-null  float64\n",
      " 8   stars         160470 non-null  float64\n",
      " 9   review_count  160470 non-null  int64  \n",
      " 10  is_open       160470 non-null  int64  \n",
      " 11  attributes    145591 non-null  object \n",
      " 12  categories    160470 non-null  object \n",
      " 13  hours         133241 non-null  object \n",
      "dtypes: float64(3), int64(2), object(9)\n",
      "memory usage: 23.4+ MB\n"
     ]
    }
   ],
   "source": [
    "df1.info()"
   ]
  },
  {
   "cell_type": "code",
   "execution_count": 13,
   "metadata": {
    "ExecuteTime": {
     "end_time": "2021-05-10T19:34:17.891794Z",
     "start_time": "2021-05-10T19:34:17.025149Z"
    },
    "scrolled": true
   },
   "outputs": [
    {
     "data": {
      "text/plain": [
       "<matplotlib.axes._subplots.AxesSubplot at 0x7fb7949675c0>"
      ]
     },
     "execution_count": 13,
     "metadata": {},
     "output_type": "execute_result"
    },
    {
     "data": {
      "image/png": "[encoded data removed]",
      "text/plain": [
       "<Figure size 432x288 with 1 Axes>"
      ]
     },
     "metadata": {
      "needs_background": "light"
     },
     "output_type": "display_data"
    }
   ],
   "source": [
    "# Not surprising that most reviews are 4. In my opinion, a restaurant is only successful/competitive if its\n",
    "#    ratings are ranked betweek 3-5 stars.\n",
    "df1['stars'].hist()"
   ]
  },
  {
   "cell_type": "code",
   "execution_count": 14,
   "metadata": {
    "ExecuteTime": {
     "end_time": "2021-05-10T19:34:19.243726Z",
     "start_time": "2021-05-10T19:34:19.013313Z"
    }
   },
   "outputs": [
    {
     "data": {
      "text/plain": [
       "<matplotlib.axes._subplots.AxesSubplot at 0x7fb794883f98>"
      ]
     },
     "execution_count": 14,
     "metadata": {},
     "output_type": "execute_result"
    },
    {
     "data": {
      "image/png": "[encoded data removed]",
      "text/plain": [
       "<Figure size 432x288 with 1 Axes>"
      ]
     },
     "metadata": {
      "needs_background": "light"
     },
     "output_type": "display_data"
    }
   ],
   "source": [
    "df1['review_count'].hist()"
   ]
  },
  {
   "cell_type": "code",
   "execution_count": 15,
   "metadata": {
    "ExecuteTime": {
     "end_time": "2021-05-10T19:34:20.117500Z",
     "start_time": "2021-05-10T19:34:19.900722Z"
    }
   },
   "outputs": [
    {
     "data": {
      "text/plain": [
       "<matplotlib.axes._subplots.AxesSubplot at 0x7fb7948e0898>"
      ]
     },
     "execution_count": 15,
     "metadata": {},
     "output_type": "execute_result"
    },
    {
     "data": {
      "image/png": "[encoded data removed]",
      "text/plain": [
       "<Figure size 432x288 with 1 Axes>"
      ]
     },
     "metadata": {
      "needs_background": "light"
     },
     "output_type": "display_data"
    }
   ],
   "source": [
    "df1['review_count'].value_counts().hist()"
   ]
  },
  {
   "cell_type": "code",
   "execution_count": 16,
   "metadata": {
    "ExecuteTime": {
     "end_time": "2021-05-10T19:34:20.965174Z",
     "start_time": "2021-05-10T19:34:20.763412Z"
    },
    "scrolled": true
   },
   "outputs": [
    {
     "data": {
      "text/plain": [
       "<matplotlib.axes._subplots.AxesSubplot at 0x7fb794a4c588>"
      ]
     },
     "execution_count": 16,
     "metadata": {},
     "output_type": "execute_result"
    },
    {
     "data": {
      "image/png": "[encoded data removed]",
      "text/plain": [
       "<Figure size 432x288 with 1 Axes>"
      ]
     },
     "metadata": {
      "needs_background": "light"
     },
     "output_type": "display_data"
    }
   ],
   "source": [
    "# Majority of ratings are only within 9 states\n",
    "df1['state'].value_counts()[:10].plot(kind='bar')"
   ]
  },
  {
   "cell_type": "code",
   "execution_count": 17,
   "metadata": {
    "ExecuteTime": {
     "end_time": "2021-05-10T19:34:21.630787Z",
     "start_time": "2021-05-10T19:34:21.628370Z"
    }
   },
   "outputs": [],
   "source": [
    "# pickle (save) this new list of dictionaries\n",
    "import pickle"
   ]
  },
  {
   "cell_type": "code",
   "execution_count": 18,
   "metadata": {
    "ExecuteTime": {
     "end_time": "2021-05-10T19:34:32.648889Z",
     "start_time": "2021-05-10T19:34:22.267439Z"
    }
   },
   "outputs": [],
   "source": [
    "# use this to open the reviews\n",
    "\n",
    "with open('reviews.pkl', 'rb') as f:\n",
    "    reviews = pickle.load(f)"
   ]
  },
  {
   "cell_type": "code",
   "execution_count": 19,
   "metadata": {
    "ExecuteTime": {
     "end_time": "2021-05-10T19:35:05.636762Z",
     "start_time": "2021-05-10T19:34:57.271799Z"
    },
    "scrolled": false
   },
   "outputs": [
    {
     "data": {
      "text/html": [
       "<div>\n",
       "<style scoped>\n",
       "    .dataframe tbody tr th:only-of-type {\n",
       "        vertical-align: middle;\n",
       "    }\n",
       "\n",
       "    .dataframe tbody tr th {\n",
       "        vertical-align: top;\n",
       "    }\n",
       "\n",
       "    .dataframe thead th {\n",
       "        text-align: right;\n",
       "    }\n",
       "</style>\n",
       "<table border=\"1\" class=\"dataframe\">\n",
       "  <thead>\n",
       "    <tr style=\"text-align: right;\">\n",
       "      <th></th>\n",
       "      <th>user_id</th>\n",
       "      <th>business_id</th>\n",
       "      <th>stars</th>\n",
       "    </tr>\n",
       "  </thead>\n",
       "  <tbody>\n",
       "    <tr>\n",
       "      <th>0</th>\n",
       "      <td>ak0TdVmGKo4pwqdJSTLwWw</td>\n",
       "      <td>buF9druCkbuXLX526sGELQ</td>\n",
       "      <td>4.0</td>\n",
       "    </tr>\n",
       "    <tr>\n",
       "      <th>1</th>\n",
       "      <td>YoVfDbnISlW0f7abNQACIg</td>\n",
       "      <td>RA4V8pr014UyUbDvI-LW2A</td>\n",
       "      <td>4.0</td>\n",
       "    </tr>\n",
       "    <tr>\n",
       "      <th>2</th>\n",
       "      <td>eC5evKn1TWDyHCyQAwguUw</td>\n",
       "      <td>_sS2LBIGNT5NQb6PD1Vtjw</td>\n",
       "      <td>5.0</td>\n",
       "    </tr>\n",
       "    <tr>\n",
       "      <th>3</th>\n",
       "      <td>SFQ1jcnGguO0LYWnbbftAA</td>\n",
       "      <td>0AzLzHfOJgL7ROwhdww2ew</td>\n",
       "      <td>2.0</td>\n",
       "    </tr>\n",
       "    <tr>\n",
       "      <th>4</th>\n",
       "      <td>0kA0PAJ8QFMeveQWHFqz2A</td>\n",
       "      <td>8zehGz9jnxPqXtOc7KaJxA</td>\n",
       "      <td>4.0</td>\n",
       "    </tr>\n",
       "    <tr>\n",
       "      <th>...</th>\n",
       "      <td>...</td>\n",
       "      <td>...</td>\n",
       "      <td>...</td>\n",
       "    </tr>\n",
       "    <tr>\n",
       "      <th>8635398</th>\n",
       "      <td>6olZ0y9oW9azON61AhwxYg</td>\n",
       "      <td>yyTtwwQ4JnQMJ2rn3W0S0g</td>\n",
       "      <td>1.0</td>\n",
       "    </tr>\n",
       "    <tr>\n",
       "      <th>8635399</th>\n",
       "      <td>EPYNZQFuSKqLi-on3U9dFg</td>\n",
       "      <td>RDgwjgbu5xziFIAaNn3WCQ</td>\n",
       "      <td>1.0</td>\n",
       "    </tr>\n",
       "    <tr>\n",
       "      <th>8635400</th>\n",
       "      <td>tr13Jb83h2itjyXVwaO5eA</td>\n",
       "      <td>rbuj2X4SXIc3MDul4dcxIA</td>\n",
       "      <td>5.0</td>\n",
       "    </tr>\n",
       "    <tr>\n",
       "      <th>8635401</th>\n",
       "      <td>HqdmRMpNvScFxjGAB40vgQ</td>\n",
       "      <td>IRzjEZ2pX4iOpnBG7oZJ7g</td>\n",
       "      <td>2.0</td>\n",
       "    </tr>\n",
       "    <tr>\n",
       "      <th>8635402</th>\n",
       "      <td>HsT8bz3-SKMk7YidwLLM6Q</td>\n",
       "      <td>pxwYIa1jZzHJ4R0Sp1cHFw</td>\n",
       "      <td>5.0</td>\n",
       "    </tr>\n",
       "  </tbody>\n",
       "</table>\n",
       "<p>8635403 rows × 3 columns</p>\n",
       "</div>"
      ],
      "text/plain": [
       "                        user_id             business_id  stars\n",
       "0        ak0TdVmGKo4pwqdJSTLwWw  buF9druCkbuXLX526sGELQ    4.0\n",
       "1        YoVfDbnISlW0f7abNQACIg  RA4V8pr014UyUbDvI-LW2A    4.0\n",
       "2        eC5evKn1TWDyHCyQAwguUw  _sS2LBIGNT5NQb6PD1Vtjw    5.0\n",
       "3        SFQ1jcnGguO0LYWnbbftAA  0AzLzHfOJgL7ROwhdww2ew    2.0\n",
       "4        0kA0PAJ8QFMeveQWHFqz2A  8zehGz9jnxPqXtOc7KaJxA    4.0\n",
       "...                         ...                     ...    ...\n",
       "8635398  6olZ0y9oW9azON61AhwxYg  yyTtwwQ4JnQMJ2rn3W0S0g    1.0\n",
       "8635399  EPYNZQFuSKqLi-on3U9dFg  RDgwjgbu5xziFIAaNn3WCQ    1.0\n",
       "8635400  tr13Jb83h2itjyXVwaO5eA  rbuj2X4SXIc3MDul4dcxIA    5.0\n",
       "8635401  HqdmRMpNvScFxjGAB40vgQ  IRzjEZ2pX4iOpnBG7oZJ7g    2.0\n",
       "8635402  HsT8bz3-SKMk7YidwLLM6Q  pxwYIa1jZzHJ4R0Sp1cHFw    5.0\n",
       "\n",
       "[8635403 rows x 3 columns]"
      ]
     },
     "execution_count": 19,
     "metadata": {},
     "output_type": "execute_result"
    }
   ],
   "source": [
    "reviews = pd.DataFrame(reviews)\n",
    "reviews"
   ]
  },
  {
   "cell_type": "code",
   "execution_count": 69,
   "metadata": {
    "ExecuteTime": {
     "end_time": "2021-05-10T23:00:11.857880Z",
     "start_time": "2021-05-10T23:00:02.337706Z"
    }
   },
   "outputs": [
    {
     "data": {
      "text/plain": [
       "RtGqdDBvvBCjcu5dUqwfzA    6073\n",
       "Xwnf20FKuikiHcSpcEbpKQ    3861\n",
       "tgrs5VQ6thhouiEtMU-N_w    2265\n",
       "j14WgRoU_-2ZE1aw1dXrJg    1958\n",
       "jpIGlAym6z88W2xzHiK5_A    1671\n",
       "9EeEpkZg5jV18N_KvrcT6g    1516\n",
       "nl8gWLDo6U6MjqzbBmE_9A    1509\n",
       "R1FVpAyl_BtxHBWdau2VLg    1497\n",
       "Pf7FI0OukC_CEcCz0ZxoUw    1449\n",
       "gqL5KBs2oS7qobnyd99iKg    1286\n",
       "Name: user_id, dtype: int64"
      ]
     },
     "execution_count": 69,
     "metadata": {},
     "output_type": "execute_result"
    }
   ],
   "source": [
    "# Assigning a variable to new data of the top ten states involved with the dataset because the top ten have \n",
    "#  more than one review.\n",
    "\n",
    "rating_counts = reviews['user_id'].value_counts()[:10]\n",
    "rating_counts"
   ]
  },
  {
   "cell_type": "code",
   "execution_count": 21,
   "metadata": {
    "ExecuteTime": {
     "end_time": "2021-05-10T19:38:06.960309Z",
     "start_time": "2021-05-10T19:38:06.692567Z"
    }
   },
   "outputs": [
    {
     "data": {
      "text/plain": [
       "<matplotlib.axes._subplots.AxesSubplot at 0x7fb794ad19b0>"
      ]
     },
     "execution_count": 21,
     "metadata": {},
     "output_type": "execute_result"
    },
    {
     "data": {
      "image/png": "[encoded data removed]",
      "text/plain": [
       "<Figure size 432x288 with 1 Axes>"
      ]
     },
     "metadata": {
      "needs_background": "light"
     },
     "output_type": "display_data"
    }
   ],
   "source": [
    "# This will create a horizontal bar graph of the top ten users who rated buisnesses the most.\n",
    "\n",
    "rating_counts.sort_values().plot(kind='barh')"
   ]
  },
  {
   "cell_type": "code",
   "execution_count": 22,
   "metadata": {
    "ExecuteTime": {
     "end_time": "2021-05-10T19:38:15.569236Z",
     "start_time": "2021-05-10T19:38:08.224230Z"
    }
   },
   "outputs": [],
   "source": [
    "# Assigning a new variable to call upon that only show the user and their respective review count within data.\n",
    "\n",
    "user_count = reviews['user_id'].value_counts().rename_axis('unique_values').reset_index(name='counts')"
   ]
  },
  {
   "cell_type": "code",
   "execution_count": 23,
   "metadata": {
    "ExecuteTime": {
     "end_time": "2021-05-10T19:38:16.715077Z",
     "start_time": "2021-05-10T19:38:16.705836Z"
    }
   },
   "outputs": [
    {
     "data": {
      "text/html": [
       "<div>\n",
       "<style scoped>\n",
       "    .dataframe tbody tr th:only-of-type {\n",
       "        vertical-align: middle;\n",
       "    }\n",
       "\n",
       "    .dataframe tbody tr th {\n",
       "        vertical-align: top;\n",
       "    }\n",
       "\n",
       "    .dataframe thead th {\n",
       "        text-align: right;\n",
       "    }\n",
       "</style>\n",
       "<table border=\"1\" class=\"dataframe\">\n",
       "  <thead>\n",
       "    <tr style=\"text-align: right;\">\n",
       "      <th></th>\n",
       "      <th>unique_values</th>\n",
       "      <th>counts</th>\n",
       "    </tr>\n",
       "  </thead>\n",
       "  <tbody>\n",
       "    <tr>\n",
       "      <th>0</th>\n",
       "      <td>RtGqdDBvvBCjcu5dUqwfzA</td>\n",
       "      <td>6073</td>\n",
       "    </tr>\n",
       "    <tr>\n",
       "      <th>1</th>\n",
       "      <td>Xwnf20FKuikiHcSpcEbpKQ</td>\n",
       "      <td>3861</td>\n",
       "    </tr>\n",
       "    <tr>\n",
       "      <th>2</th>\n",
       "      <td>tgrs5VQ6thhouiEtMU-N_w</td>\n",
       "      <td>2265</td>\n",
       "    </tr>\n",
       "    <tr>\n",
       "      <th>3</th>\n",
       "      <td>j14WgRoU_-2ZE1aw1dXrJg</td>\n",
       "      <td>1958</td>\n",
       "    </tr>\n",
       "    <tr>\n",
       "      <th>4</th>\n",
       "      <td>jpIGlAym6z88W2xzHiK5_A</td>\n",
       "      <td>1671</td>\n",
       "    </tr>\n",
       "    <tr>\n",
       "      <th>...</th>\n",
       "      <td>...</td>\n",
       "      <td>...</td>\n",
       "    </tr>\n",
       "    <tr>\n",
       "      <th>2189452</th>\n",
       "      <td>-YIC6RNgwad72SM48Taf8Q</td>\n",
       "      <td>1</td>\n",
       "    </tr>\n",
       "    <tr>\n",
       "      <th>2189453</th>\n",
       "      <td>0tzhQW4TFk0rAimfzBt3fQ</td>\n",
       "      <td>1</td>\n",
       "    </tr>\n",
       "    <tr>\n",
       "      <th>2189454</th>\n",
       "      <td>XgXP7GaBmJ5Bfsas-svbnA</td>\n",
       "      <td>1</td>\n",
       "    </tr>\n",
       "    <tr>\n",
       "      <th>2189455</th>\n",
       "      <td>GROXfaefwvXir12s2bPRPw</td>\n",
       "      <td>1</td>\n",
       "    </tr>\n",
       "    <tr>\n",
       "      <th>2189456</th>\n",
       "      <td>0c12y_Q0qkV40BkQl21uBA</td>\n",
       "      <td>1</td>\n",
       "    </tr>\n",
       "  </tbody>\n",
       "</table>\n",
       "<p>2189457 rows × 2 columns</p>\n",
       "</div>"
      ],
      "text/plain": [
       "                  unique_values  counts\n",
       "0        RtGqdDBvvBCjcu5dUqwfzA    6073\n",
       "1        Xwnf20FKuikiHcSpcEbpKQ    3861\n",
       "2        tgrs5VQ6thhouiEtMU-N_w    2265\n",
       "3        j14WgRoU_-2ZE1aw1dXrJg    1958\n",
       "4        jpIGlAym6z88W2xzHiK5_A    1671\n",
       "...                         ...     ...\n",
       "2189452  -YIC6RNgwad72SM48Taf8Q       1\n",
       "2189453  0tzhQW4TFk0rAimfzBt3fQ       1\n",
       "2189454  XgXP7GaBmJ5Bfsas-svbnA       1\n",
       "2189455  GROXfaefwvXir12s2bPRPw       1\n",
       "2189456  0c12y_Q0qkV40BkQl21uBA       1\n",
       "\n",
       "[2189457 rows x 2 columns]"
      ]
     },
     "execution_count": 23,
     "metadata": {},
     "output_type": "execute_result"
    }
   ],
   "source": [
    "user_count"
   ]
  },
  {
   "cell_type": "code",
   "execution_count": 24,
   "metadata": {
    "ExecuteTime": {
     "end_time": "2021-05-10T19:38:17.383343Z",
     "start_time": "2021-05-10T19:38:17.360188Z"
    }
   },
   "outputs": [
    {
     "data": {
      "text/html": [
       "<div>\n",
       "<style scoped>\n",
       "    .dataframe tbody tr th:only-of-type {\n",
       "        vertical-align: middle;\n",
       "    }\n",
       "\n",
       "    .dataframe tbody tr th {\n",
       "        vertical-align: top;\n",
       "    }\n",
       "\n",
       "    .dataframe thead th {\n",
       "        text-align: right;\n",
       "    }\n",
       "</style>\n",
       "<table border=\"1\" class=\"dataframe\">\n",
       "  <thead>\n",
       "    <tr style=\"text-align: right;\">\n",
       "      <th></th>\n",
       "      <th>unique_values</th>\n",
       "      <th>counts</th>\n",
       "    </tr>\n",
       "  </thead>\n",
       "  <tbody>\n",
       "    <tr>\n",
       "      <th>0</th>\n",
       "      <td>RtGqdDBvvBCjcu5dUqwfzA</td>\n",
       "      <td>6073</td>\n",
       "    </tr>\n",
       "    <tr>\n",
       "      <th>1</th>\n",
       "      <td>Xwnf20FKuikiHcSpcEbpKQ</td>\n",
       "      <td>3861</td>\n",
       "    </tr>\n",
       "    <tr>\n",
       "      <th>2</th>\n",
       "      <td>tgrs5VQ6thhouiEtMU-N_w</td>\n",
       "      <td>2265</td>\n",
       "    </tr>\n",
       "    <tr>\n",
       "      <th>3</th>\n",
       "      <td>j14WgRoU_-2ZE1aw1dXrJg</td>\n",
       "      <td>1958</td>\n",
       "    </tr>\n",
       "    <tr>\n",
       "      <th>4</th>\n",
       "      <td>jpIGlAym6z88W2xzHiK5_A</td>\n",
       "      <td>1671</td>\n",
       "    </tr>\n",
       "    <tr>\n",
       "      <th>...</th>\n",
       "      <td>...</td>\n",
       "      <td>...</td>\n",
       "    </tr>\n",
       "    <tr>\n",
       "      <th>5743</th>\n",
       "      <td>cTVJIVQBfEtsrPW0dM3z4A</td>\n",
       "      <td>101</td>\n",
       "    </tr>\n",
       "    <tr>\n",
       "      <th>5744</th>\n",
       "      <td>D_liFPO9WgITdQSun24geA</td>\n",
       "      <td>101</td>\n",
       "    </tr>\n",
       "    <tr>\n",
       "      <th>5745</th>\n",
       "      <td>JqEOJxG4J5ybEoBH363jwQ</td>\n",
       "      <td>101</td>\n",
       "    </tr>\n",
       "    <tr>\n",
       "      <th>5746</th>\n",
       "      <td>UU4zFYWXQKwqWLlt2veXMQ</td>\n",
       "      <td>101</td>\n",
       "    </tr>\n",
       "    <tr>\n",
       "      <th>5747</th>\n",
       "      <td>VMuvh0otnR-YOz2abRl2tw</td>\n",
       "      <td>101</td>\n",
       "    </tr>\n",
       "  </tbody>\n",
       "</table>\n",
       "<p>5748 rows × 2 columns</p>\n",
       "</div>"
      ],
      "text/plain": [
       "               unique_values  counts\n",
       "0     RtGqdDBvvBCjcu5dUqwfzA    6073\n",
       "1     Xwnf20FKuikiHcSpcEbpKQ    3861\n",
       "2     tgrs5VQ6thhouiEtMU-N_w    2265\n",
       "3     j14WgRoU_-2ZE1aw1dXrJg    1958\n",
       "4     jpIGlAym6z88W2xzHiK5_A    1671\n",
       "...                      ...     ...\n",
       "5743  cTVJIVQBfEtsrPW0dM3z4A     101\n",
       "5744  D_liFPO9WgITdQSun24geA     101\n",
       "5745  JqEOJxG4J5ybEoBH363jwQ     101\n",
       "5746  UU4zFYWXQKwqWLlt2veXMQ     101\n",
       "5747  VMuvh0otnR-YOz2abRl2tw     101\n",
       "\n",
       "[5748 rows x 2 columns]"
      ]
     },
     "execution_count": 24,
     "metadata": {},
     "output_type": "execute_result"
    }
   ],
   "source": [
    "# I wanted to remove users that reviewed less than 100x for a few reasons; I wanted to shrink the data for faster\n",
    "#  processing within my model and to include stronger data of users and their ratings.\n",
    "\n",
    "user_count[user_count['counts']  > 100]\n",
    "\n",
    "# You can see that the number of rows decreased over 2 million!! This is a test for further when I select my pool\n",
    "#  of users to include with the final dataset to enter into the model for predicting."
   ]
  },
  {
   "cell_type": "code",
   "execution_count": 25,
   "metadata": {
    "ExecuteTime": {
     "end_time": "2021-05-10T19:38:18.316427Z",
     "start_time": "2021-05-10T19:38:18.023015Z"
    }
   },
   "outputs": [
    {
     "data": {
      "text/plain": [
       "<matplotlib.axes._subplots.AxesSubplot at 0x7fb794b43828>"
      ]
     },
     "execution_count": 25,
     "metadata": {},
     "output_type": "execute_result"
    },
    {
     "data": {
      "image/png": "[encoded data removed]",
      "text/plain": [
       "<Figure size 432x288 with 1 Axes>"
      ]
     },
     "metadata": {
      "needs_background": "light"
     },
     "output_type": "display_data"
    }
   ],
   "source": [
    "# Here you can see that the top user (6,073 reviews) really skews the data with reviews almost doubling the second \n",
    "#  most users vote count. By looking at the graph, on average, users within this dataset review approximately\n",
    "#  300-500 times.\n",
    "\n",
    "user_count[user_count['counts']  > 100].plot()"
   ]
  },
  {
   "cell_type": "markdown",
   "metadata": {},
   "source": [
    "## Surprise Modeling"
   ]
  },
  {
   "cell_type": "code",
   "execution_count": 27,
   "metadata": {
    "ExecuteTime": {
     "end_time": "2021-05-10T19:38:38.798433Z",
     "start_time": "2021-05-10T19:38:29.709163Z"
    }
   },
   "outputs": [],
   "source": [
    "reader = Reader(rating_scale=(1.0, 5.0))\n",
    "data = Dataset.load_from_df(reviews[['user_id', 'business_id', 'stars']], reader)"
   ]
  },
  {
   "cell_type": "code",
   "execution_count": 28,
   "metadata": {
    "ExecuteTime": {
     "end_time": "2021-05-10T19:39:24.402817Z",
     "start_time": "2021-05-10T19:38:40.552443Z"
    }
   },
   "outputs": [],
   "source": [
    "train, test = train_test_split(data, test_size=.2)"
   ]
  },
  {
   "cell_type": "code",
   "execution_count": 29,
   "metadata": {
    "ExecuteTime": {
     "end_time": "2021-05-10T19:39:30.398171Z",
     "start_time": "2021-05-10T19:39:30.392076Z"
    }
   },
   "outputs": [
    {
     "data": {
      "text/plain": [
       "<surprise.trainset.Trainset at 0x7fb794b17400>"
      ]
     },
     "execution_count": 29,
     "metadata": {},
     "output_type": "execute_result"
    }
   ],
   "source": [
    "train"
   ]
  },
  {
   "cell_type": "markdown",
   "metadata": {},
   "source": [
    "### BaselineOnly, SVD, NMF, SVDpp"
   ]
  },
  {
   "cell_type": "code",
   "execution_count": 30,
   "metadata": {
    "ExecuteTime": {
     "end_time": "2021-05-10T19:39:36.002018Z",
     "start_time": "2021-05-10T19:39:35.989907Z"
    }
   },
   "outputs": [],
   "source": [
    "def model_accuracy(model):\n",
    "    model.fit(train)\n",
    "    predictions = model.test(test)\n",
    "    return accuracy.rmse(predictions)"
   ]
  },
  {
   "cell_type": "code",
   "execution_count": 31,
   "metadata": {
    "ExecuteTime": {
     "end_time": "2021-05-10T19:40:53.063499Z",
     "start_time": "2021-05-10T19:39:39.625909Z"
    }
   },
   "outputs": [
    {
     "name": "stdout",
     "output_type": "stream",
     "text": [
      "Estimating biases using als...\n",
      "RMSE: 1.2711\n"
     ]
    },
    {
     "data": {
      "text/plain": [
       "1.2711125758551107"
      ]
     },
     "execution_count": 31,
     "metadata": {},
     "output_type": "execute_result"
    }
   ],
   "source": [
    "Base = BaselineOnly()\n",
    "model_accuracy(Base)"
   ]
  },
  {
   "cell_type": "code",
   "execution_count": 32,
   "metadata": {
    "ExecuteTime": {
     "end_time": "2021-05-10T19:48:57.433366Z",
     "start_time": "2021-05-10T19:40:58.387803Z"
    },
    "scrolled": false
   },
   "outputs": [
    {
     "name": "stdout",
     "output_type": "stream",
     "text": [
      "RMSE: 1.2752\n"
     ]
    },
    {
     "data": {
      "text/plain": [
       "1.275181086489985"
      ]
     },
     "execution_count": 32,
     "metadata": {},
     "output_type": "execute_result"
    }
   ],
   "source": [
    "svd = SVD()\n",
    "model_accuracy(svd)"
   ]
  },
  {
   "cell_type": "code",
   "execution_count": 33,
   "metadata": {
    "ExecuteTime": {
     "end_time": "2021-05-10T19:59:08.438649Z",
     "start_time": "2021-05-10T19:49:08.228790Z"
    }
   },
   "outputs": [
    {
     "name": "stdout",
     "output_type": "stream",
     "text": [
      "RMSE: 1.4345\n"
     ]
    },
    {
     "data": {
      "text/plain": [
       "1.4345435432602005"
      ]
     },
     "execution_count": 33,
     "metadata": {},
     "output_type": "execute_result"
    }
   ],
   "source": [
    "NMF = NMF()\n",
    "model_accuracy(NMF)"
   ]
  },
  {
   "cell_type": "code",
   "execution_count": 34,
   "metadata": {
    "ExecuteTime": {
     "end_time": "2021-05-10T21:11:11.999679Z",
     "start_time": "2021-05-10T19:59:14.684837Z"
    }
   },
   "outputs": [
    {
     "name": "stdout",
     "output_type": "stream",
     "text": [
      "RMSE: 1.2839\n"
     ]
    },
    {
     "data": {
      "text/plain": [
       "1.2839164997578163"
      ]
     },
     "execution_count": 34,
     "metadata": {},
     "output_type": "execute_result"
    }
   ],
   "source": [
    "SVDpp = SVDpp()\n",
    "model_accuracy(SVDpp)"
   ]
  },
  {
   "cell_type": "markdown",
   "metadata": {},
   "source": [
    "## Subset"
   ]
  },
  {
   "cell_type": "code",
   "execution_count": 26,
   "metadata": {
    "ExecuteTime": {
     "end_time": "2021-05-10T19:38:23.956216Z",
     "start_time": "2021-05-10T19:38:18.988872Z"
    },
    "scrolled": true
   },
   "outputs": [
    {
     "data": {
      "text/plain": [
       "1       1173684\n",
       "2        363249\n",
       "3        179185\n",
       "4        107674\n",
       "5         70854\n",
       "         ...   \n",
       "517           1\n",
       "518           1\n",
       "519           1\n",
       "520           1\n",
       "6073          1\n",
       "Name: user_id, Length: 621, dtype: int64"
      ]
     },
     "execution_count": 26,
     "metadata": {},
     "output_type": "execute_result"
    }
   ],
   "source": [
    "# Breaking this code down to easily understand what's going on..\n",
    "#  Within the df of reviews, I'm selecting the 'user_id' column and finding the values of the users, and then \n",
    "#   finding the values of those users reviews.\n",
    "\n",
    "reviews['user_id'].value_counts().value_counts()"
   ]
  },
  {
   "cell_type": "code",
   "execution_count": 51,
   "metadata": {
    "ExecuteTime": {
     "end_time": "2021-05-10T22:01:17.046208Z",
     "start_time": "2021-05-10T22:01:15.438681Z"
    }
   },
   "outputs": [],
   "source": [
    "# Assigning new variable to a new list I'm creating of each user and their review counts > 100.\n",
    "\n",
    "unique_users = user_count[user_count['counts']  > 100]['unique_values'].tolist()"
   ]
  },
  {
   "cell_type": "code",
   "execution_count": 35,
   "metadata": {
    "ExecuteTime": {
     "end_time": "2021-05-10T21:11:20.066739Z",
     "start_time": "2021-05-10T21:11:19.732773Z"
    }
   },
   "outputs": [
    {
     "data": {
      "text/html": [
       "<div>\n",
       "<style scoped>\n",
       "    .dataframe tbody tr th:only-of-type {\n",
       "        vertical-align: middle;\n",
       "    }\n",
       "\n",
       "    .dataframe tbody tr th {\n",
       "        vertical-align: top;\n",
       "    }\n",
       "\n",
       "    .dataframe thead th {\n",
       "        text-align: right;\n",
       "    }\n",
       "</style>\n",
       "<table border=\"1\" class=\"dataframe\">\n",
       "  <thead>\n",
       "    <tr style=\"text-align: right;\">\n",
       "      <th></th>\n",
       "      <th>user_id</th>\n",
       "      <th>business_id</th>\n",
       "      <th>stars</th>\n",
       "    </tr>\n",
       "  </thead>\n",
       "  <tbody>\n",
       "    <tr>\n",
       "      <th>0</th>\n",
       "      <td>ak0TdVmGKo4pwqdJSTLwWw</td>\n",
       "      <td>buF9druCkbuXLX526sGELQ</td>\n",
       "      <td>4.0</td>\n",
       "    </tr>\n",
       "    <tr>\n",
       "      <th>1</th>\n",
       "      <td>YoVfDbnISlW0f7abNQACIg</td>\n",
       "      <td>RA4V8pr014UyUbDvI-LW2A</td>\n",
       "      <td>4.0</td>\n",
       "    </tr>\n",
       "    <tr>\n",
       "      <th>2</th>\n",
       "      <td>eC5evKn1TWDyHCyQAwguUw</td>\n",
       "      <td>_sS2LBIGNT5NQb6PD1Vtjw</td>\n",
       "      <td>5.0</td>\n",
       "    </tr>\n",
       "    <tr>\n",
       "      <th>3</th>\n",
       "      <td>SFQ1jcnGguO0LYWnbbftAA</td>\n",
       "      <td>0AzLzHfOJgL7ROwhdww2ew</td>\n",
       "      <td>2.0</td>\n",
       "    </tr>\n",
       "    <tr>\n",
       "      <th>4</th>\n",
       "      <td>0kA0PAJ8QFMeveQWHFqz2A</td>\n",
       "      <td>8zehGz9jnxPqXtOc7KaJxA</td>\n",
       "      <td>4.0</td>\n",
       "    </tr>\n",
       "    <tr>\n",
       "      <th>...</th>\n",
       "      <td>...</td>\n",
       "      <td>...</td>\n",
       "      <td>...</td>\n",
       "    </tr>\n",
       "    <tr>\n",
       "      <th>19995</th>\n",
       "      <td>nZINe2ni7oR-AxyB7XzVwA</td>\n",
       "      <td>uJFnuF_nYebV_bfNsoGPrQ</td>\n",
       "      <td>3.0</td>\n",
       "    </tr>\n",
       "    <tr>\n",
       "      <th>19996</th>\n",
       "      <td>tyN5FVSYgYTh_JAVKyTZag</td>\n",
       "      <td>vUvMI4xCOOvUK8XkbZNNVw</td>\n",
       "      <td>5.0</td>\n",
       "    </tr>\n",
       "    <tr>\n",
       "      <th>19997</th>\n",
       "      <td>KBF8F9gANiBZZLNaCEy2fQ</td>\n",
       "      <td>F5_NonP-uoq4v3qplmjiLA</td>\n",
       "      <td>5.0</td>\n",
       "    </tr>\n",
       "    <tr>\n",
       "      <th>19998</th>\n",
       "      <td>fUhotHRxeDI13_v1v7yllA</td>\n",
       "      <td>EBIxeySmja_aCq698sVggQ</td>\n",
       "      <td>5.0</td>\n",
       "    </tr>\n",
       "    <tr>\n",
       "      <th>19999</th>\n",
       "      <td>C9aI3K7zCq4egw6d_bx0pQ</td>\n",
       "      <td>7_gpvwLDk2M0Ztvw6z28vA</td>\n",
       "      <td>5.0</td>\n",
       "    </tr>\n",
       "  </tbody>\n",
       "</table>\n",
       "<p>20000 rows × 3 columns</p>\n",
       "</div>"
      ],
      "text/plain": [
       "                      user_id             business_id  stars\n",
       "0      ak0TdVmGKo4pwqdJSTLwWw  buF9druCkbuXLX526sGELQ    4.0\n",
       "1      YoVfDbnISlW0f7abNQACIg  RA4V8pr014UyUbDvI-LW2A    4.0\n",
       "2      eC5evKn1TWDyHCyQAwguUw  _sS2LBIGNT5NQb6PD1Vtjw    5.0\n",
       "3      SFQ1jcnGguO0LYWnbbftAA  0AzLzHfOJgL7ROwhdww2ew    2.0\n",
       "4      0kA0PAJ8QFMeveQWHFqz2A  8zehGz9jnxPqXtOc7KaJxA    4.0\n",
       "...                       ...                     ...    ...\n",
       "19995  nZINe2ni7oR-AxyB7XzVwA  uJFnuF_nYebV_bfNsoGPrQ    3.0\n",
       "19996  tyN5FVSYgYTh_JAVKyTZag  vUvMI4xCOOvUK8XkbZNNVw    5.0\n",
       "19997  KBF8F9gANiBZZLNaCEy2fQ  F5_NonP-uoq4v3qplmjiLA    5.0\n",
       "19998  fUhotHRxeDI13_v1v7yllA  EBIxeySmja_aCq698sVggQ    5.0\n",
       "19999  C9aI3K7zCq4egw6d_bx0pQ  7_gpvwLDk2M0Ztvw6z28vA    5.0\n",
       "\n",
       "[20000 rows x 3 columns]"
      ]
     },
     "execution_count": 35,
     "metadata": {},
     "output_type": "execute_result"
    }
   ],
   "source": [
    "subset = pd.read_csv('review_subset.csv')\n",
    "subset"
   ]
  },
  {
   "cell_type": "code",
   "execution_count": 81,
   "metadata": {
    "ExecuteTime": {
     "end_time": "2021-05-13T02:27:16.014413Z",
     "start_time": "2021-05-13T02:27:01.857309Z"
    },
    "scrolled": true
   },
   "outputs": [
    {
     "data": {
      "text/html": [
       "<div>\n",
       "<style scoped>\n",
       "    .dataframe tbody tr th:only-of-type {\n",
       "        vertical-align: middle;\n",
       "    }\n",
       "\n",
       "    .dataframe tbody tr th {\n",
       "        vertical-align: top;\n",
       "    }\n",
       "\n",
       "    .dataframe thead th {\n",
       "        text-align: right;\n",
       "    }\n",
       "</style>\n",
       "<table border=\"1\" class=\"dataframe\">\n",
       "  <thead>\n",
       "    <tr style=\"text-align: right;\">\n",
       "      <th></th>\n",
       "      <th>user_id</th>\n",
       "      <th>business_id</th>\n",
       "      <th>stars</th>\n",
       "    </tr>\n",
       "  </thead>\n",
       "  <tbody>\n",
       "    <tr>\n",
       "      <th>1</th>\n",
       "      <td>YoVfDbnISlW0f7abNQACIg</td>\n",
       "      <td>RA4V8pr014UyUbDvI-LW2A</td>\n",
       "      <td>4.0</td>\n",
       "    </tr>\n",
       "    <tr>\n",
       "      <th>8</th>\n",
       "      <td>LWUnzwK0ILquLLZcHHE1Mw</td>\n",
       "      <td>mD-A9KOWADXvfrZfwDs-jw</td>\n",
       "      <td>4.0</td>\n",
       "    </tr>\n",
       "    <tr>\n",
       "      <th>21</th>\n",
       "      <td>ltn9yaWIarK_o4DeMT1duA</td>\n",
       "      <td>MJYb0fioM-X7jc_0RIYyqQ</td>\n",
       "      <td>4.0</td>\n",
       "    </tr>\n",
       "    <tr>\n",
       "      <th>23</th>\n",
       "      <td>d01SZKYmReEar7varZB0HQ</td>\n",
       "      <td>I2OblwJG8_XzFxxoHU0vVQ</td>\n",
       "      <td>4.0</td>\n",
       "    </tr>\n",
       "    <tr>\n",
       "      <th>29</th>\n",
       "      <td>SIP1Dfwy1M0HWzdgGg9H9g</td>\n",
       "      <td>I-qL4zwr62710OJBtVv28A</td>\n",
       "      <td>4.0</td>\n",
       "    </tr>\n",
       "    <tr>\n",
       "      <th>...</th>\n",
       "      <td>...</td>\n",
       "      <td>...</td>\n",
       "      <td>...</td>\n",
       "    </tr>\n",
       "    <tr>\n",
       "      <th>8635374</th>\n",
       "      <td>xnf9I953jVkJiqBIIjWJOg</td>\n",
       "      <td>qYANgZTvhdkarq8n1m68bg</td>\n",
       "      <td>4.0</td>\n",
       "    </tr>\n",
       "    <tr>\n",
       "      <th>8635381</th>\n",
       "      <td>9U30DANobkrn3Zlu6T9p6Q</td>\n",
       "      <td>biYgFkftCPue7g3upflUOg</td>\n",
       "      <td>4.0</td>\n",
       "    </tr>\n",
       "    <tr>\n",
       "      <th>8635383</th>\n",
       "      <td>_6up_KUwL5RsuWtK8fQxXg</td>\n",
       "      <td>vXTo69v2bGEyuBdT0X1hrw</td>\n",
       "      <td>5.0</td>\n",
       "    </tr>\n",
       "    <tr>\n",
       "      <th>8635392</th>\n",
       "      <td>mCanGeC78QwvqwSLpnZM_Q</td>\n",
       "      <td>K2XwYhodpeGWW6T57bZ88Q</td>\n",
       "      <td>5.0</td>\n",
       "    </tr>\n",
       "    <tr>\n",
       "      <th>8635393</th>\n",
       "      <td>spFkIHa7x15DJe4gVnSCqw</td>\n",
       "      <td>XVmp1LmrXKB8cXomLKbu9w</td>\n",
       "      <td>5.0</td>\n",
       "    </tr>\n",
       "  </tbody>\n",
       "</table>\n",
       "<p>1120549 rows × 3 columns</p>\n",
       "</div>"
      ],
      "text/plain": [
       "                        user_id             business_id  stars\n",
       "1        YoVfDbnISlW0f7abNQACIg  RA4V8pr014UyUbDvI-LW2A    4.0\n",
       "8        LWUnzwK0ILquLLZcHHE1Mw  mD-A9KOWADXvfrZfwDs-jw    4.0\n",
       "21       ltn9yaWIarK_o4DeMT1duA  MJYb0fioM-X7jc_0RIYyqQ    4.0\n",
       "23       d01SZKYmReEar7varZB0HQ  I2OblwJG8_XzFxxoHU0vVQ    4.0\n",
       "29       SIP1Dfwy1M0HWzdgGg9H9g  I-qL4zwr62710OJBtVv28A    4.0\n",
       "...                         ...                     ...    ...\n",
       "8635374  xnf9I953jVkJiqBIIjWJOg  qYANgZTvhdkarq8n1m68bg    4.0\n",
       "8635381  9U30DANobkrn3Zlu6T9p6Q  biYgFkftCPue7g3upflUOg    4.0\n",
       "8635383  _6up_KUwL5RsuWtK8fQxXg  vXTo69v2bGEyuBdT0X1hrw    5.0\n",
       "8635392  mCanGeC78QwvqwSLpnZM_Q  K2XwYhodpeGWW6T57bZ88Q    5.0\n",
       "8635393  spFkIHa7x15DJe4gVnSCqw  XVmp1LmrXKB8cXomLKbu9w    5.0\n",
       "\n",
       "[1120549 rows x 3 columns]"
      ]
     },
     "execution_count": 81,
     "metadata": {},
     "output_type": "execute_result"
    }
   ],
   "source": [
    "# This code subsets the  dataframe if the review df column ['user_id'], list of 'unique_users' made above are within the \n",
    "#   outputting a dataframe containing all user's reviews of their buisnesses they \n",
    "#  reviewed if the user has more than 100 reviews\n",
    "\n",
    "reviews_subset = reviews[reviews['user_id'].isin(unique_users)]\n",
    "reviews_subset"
   ]
  },
  {
   "cell_type": "code",
   "execution_count": 82,
   "metadata": {
    "ExecuteTime": {
     "end_time": "2021-05-13T02:27:22.676014Z",
     "start_time": "2021-05-13T02:27:22.661625Z"
    }
   },
   "outputs": [
    {
     "data": {
      "text/plain": [
       "1          YoVfDbnISlW0f7abNQACIg\n",
       "8          LWUnzwK0ILquLLZcHHE1Mw\n",
       "21         ltn9yaWIarK_o4DeMT1duA\n",
       "23         d01SZKYmReEar7varZB0HQ\n",
       "29         SIP1Dfwy1M0HWzdgGg9H9g\n",
       "                    ...          \n",
       "8635374    xnf9I953jVkJiqBIIjWJOg\n",
       "8635381    9U30DANobkrn3Zlu6T9p6Q\n",
       "8635383    _6up_KUwL5RsuWtK8fQxXg\n",
       "8635392    mCanGeC78QwvqwSLpnZM_Q\n",
       "8635393    spFkIHa7x15DJe4gVnSCqw\n",
       "Name: user_id, Length: 1120549, dtype: object"
      ]
     },
     "execution_count": 82,
     "metadata": {},
     "output_type": "execute_result"
    }
   ],
   "source": [
    "reviews_subset['user_id']"
   ]
  },
  {
   "cell_type": "code",
   "execution_count": 53,
   "metadata": {
    "ExecuteTime": {
     "end_time": "2021-05-10T22:03:57.380179Z",
     "start_time": "2021-05-10T22:03:54.337997Z"
    }
   },
   "outputs": [],
   "source": [
    "reader = Reader(rating_scale=(1.0, 5.0))\n",
    "data_subset = Dataset.load_from_df(reviews_subset[['user_id', 'business_id', 'stars']], reader)"
   ]
  },
  {
   "cell_type": "code",
   "execution_count": 54,
   "metadata": {
    "ExecuteTime": {
     "end_time": "2021-05-10T22:04:04.059516Z",
     "start_time": "2021-05-10T22:03:59.287900Z"
    }
   },
   "outputs": [],
   "source": [
    "train, test = train_test_split(data_subset, test_size=.2)"
   ]
  },
  {
   "cell_type": "code",
   "execution_count": 55,
   "metadata": {
    "ExecuteTime": {
     "end_time": "2021-05-10T22:04:05.369386Z",
     "start_time": "2021-05-10T22:04:05.360260Z"
    }
   },
   "outputs": [
    {
     "data": {
      "text/plain": [
       "<surprise.trainset.Trainset at 0x7fb7949a5668>"
      ]
     },
     "execution_count": 55,
     "metadata": {},
     "output_type": "execute_result"
    }
   ],
   "source": [
    "train"
   ]
  },
  {
   "cell_type": "code",
   "execution_count": 56,
   "metadata": {
    "ExecuteTime": {
     "end_time": "2021-05-10T22:04:06.442187Z",
     "start_time": "2021-05-10T22:04:06.437379Z"
    }
   },
   "outputs": [],
   "source": [
    "from surprise import BaselineOnly, SVD, SVDpp, NMF"
   ]
  },
  {
   "cell_type": "markdown",
   "metadata": {
    "ExecuteTime": {
     "end_time": "2021-04-21T21:08:27.455264Z",
     "start_time": "2021-04-21T21:08:27.433290Z"
    }
   },
   "source": [
    "## Gridsearch CV"
   ]
  },
  {
   "cell_type": "code",
   "execution_count": 64,
   "metadata": {
    "ExecuteTime": {
     "end_time": "2021-05-10T22:20:35.550242Z",
     "start_time": "2021-05-10T22:20:35.546605Z"
    }
   },
   "outputs": [],
   "source": [
    "svd_param_grid = {'n_factors': [5, 7, 10],\n",
    "#                   'n_epochs': [5, 15],\n",
    "#                   'biased': [True, False],\n",
    "#                   'init_std_dev': [0.001, 0.01, 0.1],\n",
    "#                   'lr_all': [0.01, 0.05],\n",
    "                  'reg_all': [0.002, 0.02, 0.1]}"
   ]
  },
  {
   "cell_type": "code",
   "execution_count": 65,
   "metadata": {
    "ExecuteTime": {
     "end_time": "2021-05-10T22:30:36.513338Z",
     "start_time": "2021-05-10T22:20:37.808852Z"
    }
   },
   "outputs": [
    {
     "name": "stderr",
     "output_type": "stream",
     "text": [
      "[Parallel(n_jobs=-1)]: Using backend LokyBackend with 6 concurrent workers.\n",
      "/opt/anaconda3/envs/learn-env/lib/python3.6/site-packages/joblib/externals/loky/process_executor.py:706: UserWarning: A worker stopped while some jobs were given to the executor. This can be caused by a too short worker timeout or by a memory leak.\n",
      "  \"timeout or by a memory leak.\", UserWarning\n",
      "[Parallel(n_jobs=-1)]: Done  27 out of  27 | elapsed:  9.8min finished\n"
     ]
    }
   ],
   "source": [
    "svd_gs = GridSearchCV(algo_class = SVD, param_grid = svd_param_grid, measures=['rmse', 'mae'], cv=3, n_jobs=-1, joblib_verbose=2)\n",
    "svd_gs.fit(data_subset)"
   ]
  },
  {
   "cell_type": "code",
   "execution_count": 66,
   "metadata": {
    "ExecuteTime": {
     "end_time": "2021-05-10T22:35:23.693856Z",
     "start_time": "2021-05-10T22:35:23.666018Z"
    },
    "scrolled": false
   },
   "outputs": [
    {
     "data": {
      "text/html": [
       "<div>\n",
       "<style scoped>\n",
       "    .dataframe tbody tr th:only-of-type {\n",
       "        vertical-align: middle;\n",
       "    }\n",
       "\n",
       "    .dataframe tbody tr th {\n",
       "        vertical-align: top;\n",
       "    }\n",
       "\n",
       "    .dataframe thead th {\n",
       "        text-align: right;\n",
       "    }\n",
       "</style>\n",
       "<table border=\"1\" class=\"dataframe\">\n",
       "  <thead>\n",
       "    <tr style=\"text-align: right;\">\n",
       "      <th></th>\n",
       "      <th>split0_test_rmse</th>\n",
       "      <th>split1_test_rmse</th>\n",
       "      <th>split2_test_rmse</th>\n",
       "      <th>mean_test_rmse</th>\n",
       "      <th>std_test_rmse</th>\n",
       "      <th>rank_test_rmse</th>\n",
       "      <th>split0_test_mae</th>\n",
       "      <th>split1_test_mae</th>\n",
       "      <th>split2_test_mae</th>\n",
       "      <th>mean_test_mae</th>\n",
       "      <th>std_test_mae</th>\n",
       "      <th>rank_test_mae</th>\n",
       "      <th>mean_fit_time</th>\n",
       "      <th>std_fit_time</th>\n",
       "      <th>mean_test_time</th>\n",
       "      <th>std_test_time</th>\n",
       "      <th>params</th>\n",
       "      <th>param_n_factors</th>\n",
       "      <th>param_reg_all</th>\n",
       "    </tr>\n",
       "  </thead>\n",
       "  <tbody>\n",
       "    <tr>\n",
       "      <th>0</th>\n",
       "      <td>0.980106</td>\n",
       "      <td>0.981658</td>\n",
       "      <td>0.979044</td>\n",
       "      <td>0.980269</td>\n",
       "      <td>0.001073</td>\n",
       "      <td>7</td>\n",
       "      <td>0.766419</td>\n",
       "      <td>0.767868</td>\n",
       "      <td>0.765718</td>\n",
       "      <td>0.766668</td>\n",
       "      <td>0.000895</td>\n",
       "      <td>7</td>\n",
       "      <td>9.049676</td>\n",
       "      <td>0.118331</td>\n",
       "      <td>3.018490</td>\n",
       "      <td>0.466654</td>\n",
       "      <td>{'n_factors': 5, 'reg_all': 0.002}</td>\n",
       "      <td>5</td>\n",
       "      <td>0.002</td>\n",
       "    </tr>\n",
       "    <tr>\n",
       "      <th>1</th>\n",
       "      <td>0.978653</td>\n",
       "      <td>0.980270</td>\n",
       "      <td>0.977550</td>\n",
       "      <td>0.978824</td>\n",
       "      <td>0.001117</td>\n",
       "      <td>4</td>\n",
       "      <td>0.765563</td>\n",
       "      <td>0.767068</td>\n",
       "      <td>0.765039</td>\n",
       "      <td>0.765890</td>\n",
       "      <td>0.000860</td>\n",
       "      <td>1</td>\n",
       "      <td>8.526776</td>\n",
       "      <td>0.029368</td>\n",
       "      <td>2.795137</td>\n",
       "      <td>0.208446</td>\n",
       "      <td>{'n_factors': 5, 'reg_all': 0.02}</td>\n",
       "      <td>5</td>\n",
       "      <td>0.020</td>\n",
       "    </tr>\n",
       "    <tr>\n",
       "      <th>2</th>\n",
       "      <td>0.978283</td>\n",
       "      <td>0.979759</td>\n",
       "      <td>0.976982</td>\n",
       "      <td>0.978342</td>\n",
       "      <td>0.001135</td>\n",
       "      <td>2</td>\n",
       "      <td>0.766223</td>\n",
       "      <td>0.767719</td>\n",
       "      <td>0.765548</td>\n",
       "      <td>0.766497</td>\n",
       "      <td>0.000907</td>\n",
       "      <td>5</td>\n",
       "      <td>9.219803</td>\n",
       "      <td>0.058407</td>\n",
       "      <td>3.064257</td>\n",
       "      <td>0.244293</td>\n",
       "      <td>{'n_factors': 5, 'reg_all': 0.1}</td>\n",
       "      <td>5</td>\n",
       "      <td>0.100</td>\n",
       "    </tr>\n",
       "    <tr>\n",
       "      <th>3</th>\n",
       "      <td>0.980522</td>\n",
       "      <td>0.982361</td>\n",
       "      <td>0.979196</td>\n",
       "      <td>0.980693</td>\n",
       "      <td>0.001298</td>\n",
       "      <td>8</td>\n",
       "      <td>0.766724</td>\n",
       "      <td>0.768287</td>\n",
       "      <td>0.765809</td>\n",
       "      <td>0.766940</td>\n",
       "      <td>0.001023</td>\n",
       "      <td>8</td>\n",
       "      <td>9.705995</td>\n",
       "      <td>0.060702</td>\n",
       "      <td>2.657734</td>\n",
       "      <td>0.052376</td>\n",
       "      <td>{'n_factors': 7, 'reg_all': 0.002}</td>\n",
       "      <td>7</td>\n",
       "      <td>0.002</td>\n",
       "    </tr>\n",
       "    <tr>\n",
       "      <th>4</th>\n",
       "      <td>0.979058</td>\n",
       "      <td>0.980378</td>\n",
       "      <td>0.977727</td>\n",
       "      <td>0.979054</td>\n",
       "      <td>0.001082</td>\n",
       "      <td>5</td>\n",
       "      <td>0.765814</td>\n",
       "      <td>0.767331</td>\n",
       "      <td>0.765139</td>\n",
       "      <td>0.766095</td>\n",
       "      <td>0.000917</td>\n",
       "      <td>2</td>\n",
       "      <td>9.836866</td>\n",
       "      <td>0.221280</td>\n",
       "      <td>2.850750</td>\n",
       "      <td>0.280115</td>\n",
       "      <td>{'n_factors': 7, 'reg_all': 0.02}</td>\n",
       "      <td>7</td>\n",
       "      <td>0.020</td>\n",
       "    </tr>\n",
       "    <tr>\n",
       "      <th>5</th>\n",
       "      <td>0.978260</td>\n",
       "      <td>0.979823</td>\n",
       "      <td>0.976992</td>\n",
       "      <td>0.978359</td>\n",
       "      <td>0.001158</td>\n",
       "      <td>3</td>\n",
       "      <td>0.766212</td>\n",
       "      <td>0.767796</td>\n",
       "      <td>0.765588</td>\n",
       "      <td>0.766532</td>\n",
       "      <td>0.000930</td>\n",
       "      <td>6</td>\n",
       "      <td>9.499485</td>\n",
       "      <td>0.085871</td>\n",
       "      <td>2.724186</td>\n",
       "      <td>0.041137</td>\n",
       "      <td>{'n_factors': 7, 'reg_all': 0.1}</td>\n",
       "      <td>7</td>\n",
       "      <td>0.100</td>\n",
       "    </tr>\n",
       "    <tr>\n",
       "      <th>6</th>\n",
       "      <td>0.981236</td>\n",
       "      <td>0.982733</td>\n",
       "      <td>0.980068</td>\n",
       "      <td>0.981345</td>\n",
       "      <td>0.001091</td>\n",
       "      <td>9</td>\n",
       "      <td>0.767314</td>\n",
       "      <td>0.768742</td>\n",
       "      <td>0.766504</td>\n",
       "      <td>0.767520</td>\n",
       "      <td>0.000925</td>\n",
       "      <td>9</td>\n",
       "      <td>10.800063</td>\n",
       "      <td>0.455617</td>\n",
       "      <td>2.803515</td>\n",
       "      <td>0.139282</td>\n",
       "      <td>{'n_factors': 10, 'reg_all': 0.002}</td>\n",
       "      <td>10</td>\n",
       "      <td>0.002</td>\n",
       "    </tr>\n",
       "    <tr>\n",
       "      <th>7</th>\n",
       "      <td>0.979261</td>\n",
       "      <td>0.980490</td>\n",
       "      <td>0.978037</td>\n",
       "      <td>0.979263</td>\n",
       "      <td>0.001002</td>\n",
       "      <td>6</td>\n",
       "      <td>0.766068</td>\n",
       "      <td>0.767260</td>\n",
       "      <td>0.765394</td>\n",
       "      <td>0.766241</td>\n",
       "      <td>0.000771</td>\n",
       "      <td>3</td>\n",
       "      <td>10.896671</td>\n",
       "      <td>0.237844</td>\n",
       "      <td>2.900548</td>\n",
       "      <td>0.271300</td>\n",
       "      <td>{'n_factors': 10, 'reg_all': 0.02}</td>\n",
       "      <td>10</td>\n",
       "      <td>0.020</td>\n",
       "    </tr>\n",
       "    <tr>\n",
       "      <th>8</th>\n",
       "      <td>0.978091</td>\n",
       "      <td>0.979818</td>\n",
       "      <td>0.976947</td>\n",
       "      <td>0.978285</td>\n",
       "      <td>0.001180</td>\n",
       "      <td>1</td>\n",
       "      <td>0.766097</td>\n",
       "      <td>0.767806</td>\n",
       "      <td>0.765511</td>\n",
       "      <td>0.766471</td>\n",
       "      <td>0.000973</td>\n",
       "      <td>4</td>\n",
       "      <td>10.823039</td>\n",
       "      <td>0.291049</td>\n",
       "      <td>2.924058</td>\n",
       "      <td>0.584704</td>\n",
       "      <td>{'n_factors': 10, 'reg_all': 0.1}</td>\n",
       "      <td>10</td>\n",
       "      <td>0.100</td>\n",
       "    </tr>\n",
       "  </tbody>\n",
       "</table>\n",
       "</div>"
      ],
      "text/plain": [
       "   split0_test_rmse  split1_test_rmse  split2_test_rmse  mean_test_rmse  \\\n",
       "0          0.980106          0.981658          0.979044        0.980269   \n",
       "1          0.978653          0.980270          0.977550        0.978824   \n",
       "2          0.978283          0.979759          0.976982        0.978342   \n",
       "3          0.980522          0.982361          0.979196        0.980693   \n",
       "4          0.979058          0.980378          0.977727        0.979054   \n",
       "5          0.978260          0.979823          0.976992        0.978359   \n",
       "6          0.981236          0.982733          0.980068        0.981345   \n",
       "7          0.979261          0.980490          0.978037        0.979263   \n",
       "8          0.978091          0.979818          0.976947        0.978285   \n",
       "\n",
       "   std_test_rmse  rank_test_rmse  split0_test_mae  split1_test_mae  \\\n",
       "0       0.001073               7         0.766419         0.767868   \n",
       "1       0.001117               4         0.765563         0.767068   \n",
       "2       0.001135               2         0.766223         0.767719   \n",
       "3       0.001298               8         0.766724         0.768287   \n",
       "4       0.001082               5         0.765814         0.767331   \n",
       "5       0.001158               3         0.766212         0.767796   \n",
       "6       0.001091               9         0.767314         0.768742   \n",
       "7       0.001002               6         0.766068         0.767260   \n",
       "8       0.001180               1         0.766097         0.767806   \n",
       "\n",
       "   split2_test_mae  mean_test_mae  std_test_mae  rank_test_mae  mean_fit_time  \\\n",
       "0         0.765718       0.766668      0.000895              7       9.049676   \n",
       "1         0.765039       0.765890      0.000860              1       8.526776   \n",
       "2         0.765548       0.766497      0.000907              5       9.219803   \n",
       "3         0.765809       0.766940      0.001023              8       9.705995   \n",
       "4         0.765139       0.766095      0.000917              2       9.836866   \n",
       "5         0.765588       0.766532      0.000930              6       9.499485   \n",
       "6         0.766504       0.767520      0.000925              9      10.800063   \n",
       "7         0.765394       0.766241      0.000771              3      10.896671   \n",
       "8         0.765511       0.766471      0.000973              4      10.823039   \n",
       "\n",
       "   std_fit_time  mean_test_time  std_test_time  \\\n",
       "0      0.118331        3.018490       0.466654   \n",
       "1      0.029368        2.795137       0.208446   \n",
       "2      0.058407        3.064257       0.244293   \n",
       "3      0.060702        2.657734       0.052376   \n",
       "4      0.221280        2.850750       0.280115   \n",
       "5      0.085871        2.724186       0.041137   \n",
       "6      0.455617        2.803515       0.139282   \n",
       "7      0.237844        2.900548       0.271300   \n",
       "8      0.291049        2.924058       0.584704   \n",
       "\n",
       "                                params  param_n_factors  param_reg_all  \n",
       "0   {'n_factors': 5, 'reg_all': 0.002}                5          0.002  \n",
       "1    {'n_factors': 5, 'reg_all': 0.02}                5          0.020  \n",
       "2     {'n_factors': 5, 'reg_all': 0.1}                5          0.100  \n",
       "3   {'n_factors': 7, 'reg_all': 0.002}                7          0.002  \n",
       "4    {'n_factors': 7, 'reg_all': 0.02}                7          0.020  \n",
       "5     {'n_factors': 7, 'reg_all': 0.1}                7          0.100  \n",
       "6  {'n_factors': 10, 'reg_all': 0.002}               10          0.002  \n",
       "7   {'n_factors': 10, 'reg_all': 0.02}               10          0.020  \n",
       "8    {'n_factors': 10, 'reg_all': 0.1}               10          0.100  "
      ]
     },
     "execution_count": 66,
     "metadata": {},
     "output_type": "execute_result"
    }
   ],
   "source": [
    "pd.DataFrame(svd_gs.cv_results)"
   ]
  },
  {
   "cell_type": "markdown",
   "metadata": {},
   "source": [
    "## Final Tuning to Model"
   ]
  },
  {
   "cell_type": "code",
   "execution_count": 44,
   "metadata": {
    "ExecuteTime": {
     "end_time": "2021-05-10T21:52:13.726984Z",
     "start_time": "2021-05-10T21:52:13.724030Z"
    }
   },
   "outputs": [],
   "source": [
    "def model_subset_accuracy(model):\n",
    "    model.fit(train)\n",
    "    predictions = model.test(test)\n",
    "    return accuracy.rmse(predictions)"
   ]
  },
  {
   "cell_type": "code",
   "execution_count": 45,
   "metadata": {
    "ExecuteTime": {
     "end_time": "2021-05-10T21:52:14.698083Z",
     "start_time": "2021-05-10T21:52:14.603783Z"
    }
   },
   "outputs": [
    {
     "name": "stdout",
     "output_type": "stream",
     "text": [
      "Estimating biases using als...\n",
      "RMSE: 1.3399\n"
     ]
    },
    {
     "data": {
      "text/plain": [
       "1.3399290518580924"
      ]
     },
     "execution_count": 45,
     "metadata": {},
     "output_type": "execute_result"
    }
   ],
   "source": [
    "Base = BaselineOnly()\n",
    "model_subset_accuracy(Base)"
   ]
  },
  {
   "cell_type": "code",
   "execution_count": 46,
   "metadata": {
    "ExecuteTime": {
     "end_time": "2021-05-10T21:52:18.135484Z",
     "start_time": "2021-05-10T21:52:16.311282Z"
    }
   },
   "outputs": [
    {
     "name": "stdout",
     "output_type": "stream",
     "text": [
      "RMSE: 1.4175\n"
     ]
    },
    {
     "data": {
      "text/plain": [
       "1.41753782687693"
      ]
     },
     "execution_count": 46,
     "metadata": {},
     "output_type": "execute_result"
    }
   ],
   "source": [
    "nmf = NMF()\n",
    "model_subset_accuracy(nmf)"
   ]
  },
  {
   "cell_type": "code",
   "execution_count": 47,
   "metadata": {
    "ExecuteTime": {
     "end_time": "2021-05-10T21:52:19.689871Z",
     "start_time": "2021-05-10T21:52:18.811882Z"
    }
   },
   "outputs": [
    {
     "name": "stdout",
     "output_type": "stream",
     "text": [
      "RMSE: 1.3383\n"
     ]
    },
    {
     "data": {
      "text/plain": [
       "1.3383389720236696"
      ]
     },
     "execution_count": 47,
     "metadata": {},
     "output_type": "execute_result"
    }
   ],
   "source": [
    "svd = SVD()\n",
    "model_subset_accuracy(svd)"
   ]
  },
  {
   "cell_type": "code",
   "execution_count": 68,
   "metadata": {
    "ExecuteTime": {
     "end_time": "2021-05-10T22:36:37.759420Z",
     "start_time": "2021-05-10T22:36:18.967148Z"
    }
   },
   "outputs": [
    {
     "name": "stdout",
     "output_type": "stream",
     "text": [
      "RMSE: 0.9759\n"
     ]
    },
    {
     "data": {
      "text/plain": [
       "0.97591091545306"
      ]
     },
     "execution_count": 68,
     "metadata": {},
     "output_type": "execute_result"
    }
   ],
   "source": [
    "svd = SVD(n_factors = 10, reg_all = 0.020)\n",
    "model_subset_accuracy(svd)"
   ]
  },
  {
   "cell_type": "code",
   "execution_count": 67,
   "metadata": {
    "ExecuteTime": {
     "end_time": "2021-05-10T22:35:59.656426Z",
     "start_time": "2021-05-10T22:35:42.112542Z"
    }
   },
   "outputs": [
    {
     "name": "stdout",
     "output_type": "stream",
     "text": [
      "RMSE: 0.9755\n"
     ]
    },
    {
     "data": {
      "text/plain": [
       "0.9755303135614181"
      ]
     },
     "execution_count": 67,
     "metadata": {},
     "output_type": "execute_result"
    }
   ],
   "source": [
    "svd = SVD(n_factors = 5, reg_all = 0.020)\n",
    "model_subset_accuracy(svd)"
   ]
  },
  {
   "cell_type": "markdown",
   "metadata": {},
   "source": [
    "## Yelp API Access"
   ]
  },
  {
   "cell_type": "code",
   "execution_count": 75,
   "metadata": {
    "ExecuteTime": {
     "end_time": "2021-05-12T02:25:45.007149Z",
     "start_time": "2021-05-12T02:25:44.999497Z"
    }
   },
   "outputs": [],
   "source": [
    "from config import zach_key"
   ]
  },
  {
   "cell_type": "code",
   "execution_count": 101,
   "metadata": {
    "ExecuteTime": {
     "end_time": "2021-05-13T02:51:25.791292Z",
     "start_time": "2021-05-13T02:51:25.333399Z"
    },
    "scrolled": true
   },
   "outputs": [
    {
     "name": "stdout",
     "output_type": "stream",
     "text": [
      "{'id': 'RA4V8pr014UyUbDvI-LW2A', 'alias': 'target-framingham', 'name': 'Target', 'image_url': 'https://s3-media1.fl.yelpcdn.com/bphoto/3oIqg5HwKoY4-ns1kj95uw/o.jpg', 'is_claimed': True, 'is_closed': False, 'url': 'https://www.yelp.com/biz/target-framingham?adjust_creative=oFV8I1v9o6Rqh1sMs1MziQ&utm_campaign=yelp_api_v3&utm_medium=api_v3_business_lookup&utm_source=oFV8I1v9o6Rqh1sMs1MziQ', 'phone': '+15086283136', 'display_phone': '(508) 628-3136', 'review_count': 66, 'categories': [{'alias': 'deptstores', 'title': 'Department Stores'}, {'alias': 'furniture', 'title': 'Furniture Stores'}, {'alias': 'electronics', 'title': 'Electronics'}], 'rating': 3.0, 'location': {'address1': '400 Cochituate Rd', 'address2': '', 'address3': '', 'city': 'Framingham', 'zip_code': '01701', 'country': 'US', 'state': 'MA', 'display_address': ['400 Cochituate Rd', 'Framingham, MA 01701'], 'cross_streets': ''}, 'coordinates': {'latitude': 42.305328, 'longitude': -71.398387}, 'photos': ['https://s3-media1.fl.yelpcdn.com/bphoto/3oIqg5HwKoY4-ns1kj95uw/o.jpg', 'https://s3-media4.fl.yelpcdn.com/bphoto/7MMWQ1LbMsmIl7wShjC7cQ/o.jpg', 'https://s3-media1.fl.yelpcdn.com/bphoto/tkQ0NKDb0mZwPwlTy7dXWA/o.jpg'], 'price': '$$', 'hours': [{'open': [{'is_overnight': False, 'start': '0800', 'end': '2200', 'day': 0}, {'is_overnight': False, 'start': '0800', 'end': '2200', 'day': 1}, {'is_overnight': False, 'start': '0800', 'end': '2200', 'day': 2}, {'is_overnight': False, 'start': '0800', 'end': '2200', 'day': 3}, {'is_overnight': False, 'start': '0800', 'end': '2200', 'day': 4}, {'is_overnight': False, 'start': '0800', 'end': '2200', 'day': 5}, {'is_overnight': False, 'start': '0800', 'end': '2200', 'day': 6}], 'hours_type': 'REGULAR', 'is_open_now': False}], 'transactions': [], 'messaging': {'url': 'https://www.yelp.com/raq/RA4V8pr014UyUbDvI-LW2A?adjust_creative=oFV8I1v9o6Rqh1sMs1MziQ&utm_campaign=yelp_api_v3&utm_medium=api_v3_business_lookup&utm_source=oFV8I1v9o6Rqh1sMs1MziQ#popup%3Araq', 'use_case_text': 'Message the Business'}}\n"
     ]
    }
   ],
   "source": [
    "import requests\n",
    "biz = 'RA4V8pr014UyUbDvI-LW2A'\n",
    "\n",
    "url = 'https://api.yelp.com/v3/businesses/RA4V8pr014UyUbDvI-LW2A'\n",
    "\n",
    "headers = {\n",
    "        'Authorization': 'Bearer {}'.format(zach_key),\n",
    "    }\n",
    "\n",
    "response = requests.get(url, headers=headers).json()\n",
    "print(response)\n",
    "# print(type(response.text))\n",
    "# print(response.text[:1000])"
   ]
  },
  {
   "cell_type": "code",
   "execution_count": 109,
   "metadata": {
    "ExecuteTime": {
     "end_time": "2021-05-13T03:37:21.758772Z",
     "start_time": "2021-05-13T03:37:21.707485Z"
    }
   },
   "outputs": [
    {
     "ename": "KeyError",
     "evalue": "'results'",
     "output_type": "error",
     "traceback": [
      "\u001b[0;31m---------------------------------------------------------------------------\u001b[0m",
      "\u001b[0;31mKeyError\u001b[0m                                  Traceback (most recent call last)",
      "\u001b[0;32m<ipython-input-109-0e02efd08bc1>\u001b[0m in \u001b[0;36m<module>\u001b[0;34m\u001b[0m\n\u001b[0;32m----> 1\u001b[0;31m \u001b[0mdf\u001b[0m \u001b[0;34m=\u001b[0m \u001b[0mpd\u001b[0m\u001b[0;34m.\u001b[0m\u001b[0mDataFrame\u001b[0m\u001b[0;34m[\u001b[0m\u001b[0mresponse\u001b[0m\u001b[0;34m[\u001b[0m\u001b[0;34m'results'\u001b[0m\u001b[0;34m]\u001b[0m\u001b[0;34m]\u001b[0m\u001b[0;34m\u001b[0m\u001b[0;34m\u001b[0m\u001b[0m\n\u001b[0m\u001b[1;32m      2\u001b[0m \u001b[0mdf\u001b[0m\u001b[0;34m\u001b[0m\u001b[0;34m\u001b[0m\u001b[0m\n",
      "\u001b[0;31mKeyError\u001b[0m: 'results'"
     ]
    }
   ],
   "source": [
    "df = pd.DataFrame[response['results']]\n",
    "df"
   ]
  },
  {
   "cell_type": "code",
   "execution_count": 86,
   "metadata": {
    "ExecuteTime": {
     "end_time": "2021-05-13T02:42:29.017601Z",
     "start_time": "2021-05-13T02:42:29.011441Z"
    }
   },
   "outputs": [
    {
     "data": {
      "text/plain": [
       "dict_keys(['id', 'alias', 'name', 'image_url', 'is_claimed', 'is_closed', 'url', 'phone', 'display_phone', 'review_count', 'categories', 'rating', 'location', 'coordinates', 'photos', 'price', 'hours', 'transactions', 'messaging'])"
      ]
     },
     "execution_count": 86,
     "metadata": {},
     "output_type": "execute_result"
    }
   ],
   "source": [
    "response.keys()"
   ]
  },
  {
   "cell_type": "code",
   "execution_count": 89,
   "metadata": {
    "ExecuteTime": {
     "end_time": "2021-05-13T02:43:55.782402Z",
     "start_time": "2021-05-13T02:43:55.771421Z"
    }
   },
   "outputs": [
    {
     "name": "stdout",
     "output_type": "stream",
     "text": [
      "id\n",
      "<class 'str'>\n",
      "\n",
      "\n",
      "\n",
      "alias\n",
      "<class 'str'>\n",
      "\n",
      "\n",
      "\n",
      "name\n",
      "<class 'str'>\n",
      "\n",
      "\n",
      "\n",
      "image_url\n",
      "<class 'str'>\n",
      "\n",
      "\n",
      "\n",
      "is_claimed\n",
      "<class 'bool'>\n",
      "\n",
      "\n",
      "\n",
      "is_closed\n",
      "<class 'bool'>\n",
      "\n",
      "\n",
      "\n",
      "url\n",
      "<class 'str'>\n",
      "\n",
      "\n",
      "\n",
      "phone\n",
      "<class 'str'>\n",
      "\n",
      "\n",
      "\n",
      "display_phone\n",
      "<class 'str'>\n",
      "\n",
      "\n",
      "\n",
      "review_count\n",
      "<class 'int'>\n",
      "\n",
      "\n",
      "\n",
      "categories\n",
      "<class 'list'>\n",
      "\n",
      "\n",
      "\n",
      "rating\n",
      "<class 'float'>\n",
      "\n",
      "\n",
      "\n",
      "location\n",
      "<class 'dict'>\n",
      "\n",
      "\n",
      "\n",
      "coordinates\n",
      "<class 'dict'>\n",
      "\n",
      "\n",
      "\n",
      "photos\n",
      "<class 'list'>\n",
      "\n",
      "\n",
      "\n",
      "price\n",
      "<class 'str'>\n",
      "\n",
      "\n",
      "\n",
      "hours\n",
      "<class 'list'>\n",
      "\n",
      "\n",
      "\n",
      "transactions\n",
      "<class 'list'>\n",
      "\n",
      "\n",
      "\n",
      "messaging\n",
      "<class 'dict'>\n",
      "\n",
      "\n",
      "\n"
     ]
    }
   ],
   "source": [
    "for key in response.keys():\n",
    "    print(key)\n",
    "    value = response[key] #Use standard dictionary formatting\n",
    "    print(type(value)) #What type is it?\n",
    "    print('\\n\\n') #Separate out data"
   ]
  },
  {
   "cell_type": "code",
   "execution_count": 93,
   "metadata": {
    "ExecuteTime": {
     "end_time": "2021-05-13T02:45:10.653972Z",
     "start_time": "2021-05-13T02:45:10.650436Z"
    }
   },
   "outputs": [
    {
     "data": {
      "text/plain": [
       "'Target'"
      ]
     },
     "execution_count": 93,
     "metadata": {},
     "output_type": "execute_result"
    }
   ],
   "source": [
    "response['name']"
   ]
  },
  {
   "cell_type": "code",
   "execution_count": 106,
   "metadata": {
    "ExecuteTime": {
     "end_time": "2021-05-13T03:02:12.259366Z",
     "start_time": "2021-05-13T03:02:09.627254Z"
    }
   },
   "outputs": [
    {
     "data": {
      "text/plain": [
       "4CxF8c3MB7VAdY8zFb2cZQ    9295\n",
       "OQ2oHkcWA8KNC1Lsvj1SBA    7394\n",
       "PrsvO1rzkgg6qFizlAoEtg    7385\n",
       "zioLxtBc9THNS2TOn9xW1w    6325\n",
       "y2w6rFaO0XEiG5mFfOsiFA    5220\n",
       "MGzro82Fi4LYvc86acoONQ    5071\n",
       "cs6HfZNykLVitm09jWFqWg    4901\n",
       "bZiIIUcpgxh8mpKMDhdqbA    4818\n",
       "qLJUDPOamhLdbtfbcWyHnA    4628\n",
       "n73rxa6e6-fTIxQzfv4BuA    4560\n",
       "Name: business_id, dtype: int64"
      ]
     },
     "execution_count": 106,
     "metadata": {},
     "output_type": "execute_result"
    }
   ],
   "source": [
    "top_ten_most_reviews = reviews['business_id'].value_counts()[:10]\n",
    "top_ten_most_reviews"
   ]
  },
  {
   "cell_type": "code",
   "execution_count": 105,
   "metadata": {
    "ExecuteTime": {
     "end_time": "2021-05-13T03:00:04.562554Z",
     "start_time": "2021-05-13T03:00:04.200788Z"
    }
   },
   "outputs": [
    {
     "name": "stdout",
     "output_type": "stream",
     "text": [
      "{'id': '4CxF8c3MB7VAdY8zFb2cZQ', 'alias': 'voodoo-doughnut-portland-5', 'name': 'Voodoo Doughnut', 'image_url': 'https://s3-media3.fl.yelpcdn.com/bphoto/_bSEBNg96NsLIGMlo8qgag/o.jpg', 'is_claimed': True, 'is_closed': False, 'url': 'https://www.yelp.com/biz/voodoo-doughnut-portland-5?adjust_creative=oFV8I1v9o6Rqh1sMs1MziQ&utm_campaign=yelp_api_v3&utm_medium=api_v3_business_lookup&utm_source=oFV8I1v9o6Rqh1sMs1MziQ', 'phone': '+15032414704', 'display_phone': '(503) 241-4704', 'review_count': 9226, 'categories': [{'alias': 'donuts', 'title': 'Donuts'}], 'rating': 3.5, 'location': {'address1': '22 SW 3rd Ave', 'address2': '', 'address3': '', 'city': 'Portland', 'zip_code': '97204', 'country': 'US', 'state': 'OR', 'display_address': ['22 SW 3rd Ave', 'Portland, OR 97204'], 'cross_streets': ''}, 'coordinates': {'latitude': 45.5226120114276, 'longitude': -122.673083611421}, 'photos': ['https://s3-media3.fl.yelpcdn.com/bphoto/_bSEBNg96NsLIGMlo8qgag/o.jpg', 'https://s3-media4.fl.yelpcdn.com/bphoto/qHrzQy5ih2Sjhn7MdsCASw/o.jpg', 'https://s3-media2.fl.yelpcdn.com/bphoto/SYN0So-WNSzWLJSflS4Bfw/o.jpg'], 'price': '$', 'hours': [{'open': [{'is_overnight': False, 'start': '0800', 'end': '2200', 'day': 0}, {'is_overnight': False, 'start': '0800', 'end': '2200', 'day': 1}, {'is_overnight': False, 'start': '0800', 'end': '2200', 'day': 2}, {'is_overnight': False, 'start': '0800', 'end': '2200', 'day': 3}, {'is_overnight': False, 'start': '0800', 'end': '2300', 'day': 4}, {'is_overnight': False, 'start': '0800', 'end': '2300', 'day': 5}, {'is_overnight': False, 'start': '0800', 'end': '2200', 'day': 6}], 'hours_type': 'REGULAR', 'is_open_now': True}], 'transactions': []}\n"
     ]
    }
   ],
   "source": [
    "biz = '4CxF8c3MB7VAdY8zFb2cZQ'\n",
    "\n",
    "url = 'https://api.yelp.com/v3/businesses/4CxF8c3MB7VAdY8zFb2cZQ'\n",
    "\n",
    "headers = {\n",
    "        'Authorization': 'Bearer {}'.format(zach_key),\n",
    "    }\n",
    "\n",
    "response = requests.get(url, headers=headers).json()\n",
    "print(response)"
   ]
  },
  {
   "cell_type": "code",
   "execution_count": null,
   "metadata": {},
   "outputs": [],
   "source": []
  }
 ],
 "metadata": {
  "kernelspec": {
   "display_name": "Python 3",
   "language": "python",
   "name": "python3"
  },
  "language_info": {
   "codemirror_mode": {
    "name": "ipython",
    "version": 3
   },
   "file_extension": ".py",
   "mimetype": "text/x-python",
   "name": "python",
   "nbconvert_exporter": "python",
   "pygments_lexer": "ipython3",
   "version": "3.6.9"
  },
  "toc": {
   "base_numbering": 1,
   "nav_menu": {},
   "number_sections": false,
   "sideBar": true,
   "skip_h1_title": false,
   "title_cell": "Table of Contents",
   "title_sidebar": "Contents",
   "toc_cell": false,
   "toc_position": {
    "height": "calc(100% - 180px)",
    "left": "10px",
    "top": "150px",
    "width": "177.587px"
   },
   "toc_section_display": true,
   "toc_window_display": true
  },
  "varInspector": {
   "cols": {
    "lenName": 16,
    "lenType": 16,
    "lenVar": 40
   },
   "kernels_config": {
    "python": {
     "delete_cmd_postfix": "",
     "delete_cmd_prefix": "del ",
     "library": "var_list.py",
     "varRefreshCmd": "print(var_dic_list())"
    },
    "r": {
     "delete_cmd_postfix": ") ",
     "delete_cmd_prefix": "rm(",
     "library": "var_list.r",
     "varRefreshCmd": "cat(var_dic_list()) "
    }
   },
   "types_to_exclude": [
    "module",
    "function",
    "builtin_function_or_method",
    "instance",
    "_Feature"
   ],
   "window_display": false
  }
 },
 "nbformat": 4,
 "nbformat_minor": 2
}
